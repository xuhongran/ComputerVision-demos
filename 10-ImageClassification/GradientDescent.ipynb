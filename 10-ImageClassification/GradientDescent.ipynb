{
 "cells": [
  {
   "cell_type": "code",
   "execution_count": 1,
   "outputs": [],
   "source": [
    "#     This program is free software: you can redistribute it and/or modify\n",
    "#     it under the terms of the GNU General Public License as published by\n",
    "#     the Free Software Foundation, either version 3 of the License, or\n",
    "#     (at your option) any later version.\n",
    "#\n",
    "#     This program is distributed in the hope that it will be useful,\n",
    "#     but WITHOUT ANY WARRANTY; without even the implied warranty of\n",
    "#     MERCHANTABILITY or FITNESS FOR A PARTICULAR PURPOSE.  See the\n",
    "#     GNU General Public License for more details.\n",
    "#\n",
    "#     You should have received a copy of the GNU General Public License\n",
    "#     along with this program.  If not, see <https://www.gnu.org/licenses/>.\n",
    "\n",
    "#     Written by Charalambos (Charis) Poullis - www.poullis.org"
   ],
   "metadata": {
    "collapsed": false,
    "pycharm": {
     "name": "#%%\n"
    }
   }
  },
  {
   "cell_type": "code",
   "execution_count": 2,
   "outputs": [],
   "source": [
    "import numpy as np"
   ],
   "metadata": {
    "collapsed": false,
    "pycharm": {
     "name": "#%%\n"
    }
   }
  },
  {
   "cell_type": "code",
   "execution_count": 3,
   "id": "84fd1ffb-ede9-4056-84d0-33f2526eef9f",
   "metadata": {},
   "outputs": [],
   "source": [
    "def func(x):\n",
    "    return pow(x,4.0)-2.5*pow(x, 3.0)+1.5*x"
   ]
  },
  {
   "cell_type": "code",
   "execution_count": 4,
   "id": "32990132-c0e0-471b-9846-d44ec32eef8c",
   "metadata": {},
   "outputs": [],
   "source": [
    "def gradientDescent():\n",
    "    #Number of iterations\n",
    "    EPOCHS = 10000\n",
    "    #Step h\n",
    "    h_step = 0.001\n",
    "    #Update step\n",
    "    update_step = 0.01\n",
    "    #Initial values\n",
    "    x = np.random.uniform(-5,5) \n",
    "    print(f'Initial x: {x}, Initial eval: {func(x)}') \n",
    "    \n",
    "    for i in range(EPOCHS):\n",
    "        #Calculate the gradient\n",
    "        eval_x = func(x) \n",
    "        eval_x_plus_h = func(x+h_step)\n",
    "        gradient = (eval_x_plus_h - eval_x)/h_step\n",
    "        #update the value of x\n",
    "        x += -gradient * update_step\n",
    "        if i % 1000 == 0:\n",
    "            print(f'x: {x}')\n",
    "            print(f'eval: {func(x)}') \n",
    "        \n",
    "    print(f'Optimal x: {x}, Final eval: {func(x)}') \n",
    "    return"
   ]
  },
  {
   "cell_type": "code",
   "execution_count": 5,
   "id": "5490fe95-5412-4c27-b23f-f75d249a3fde",
   "metadata": {
    "pycharm": {
     "name": "#%%\n"
    }
   },
   "outputs": [
    {
     "name": "stdout",
     "output_type": "stream",
     "text": [
      "Initial x: 2.828403615399208, Initial eval: 11.673345680608545\n",
      "x: 2.5080515802406014\n",
      "eval: 3.8891027545353825\n",
      "x: 1.7524647718593425\n",
      "eval: -1.3945763124252109\n",
      "x: 1.7524647718593425\n",
      "eval: -1.3945763124252109\n",
      "x: 1.7524647718593425\n",
      "eval: -1.3945763124252109\n",
      "x: 1.7524647718593425\n",
      "eval: -1.3945763124252109\n",
      "x: 1.7524647718593425\n",
      "eval: -1.3945763124252109\n",
      "x: 1.7524647718593425\n",
      "eval: -1.3945763124252109\n",
      "x: 1.7524647718593425\n",
      "eval: -1.3945763124252109\n",
      "x: 1.7524647718593425\n",
      "eval: -1.3945763124252109\n",
      "x: 1.7524647718593425\n",
      "eval: -1.3945763124252109\n",
      "Optimal x: 1.7524647718593425, Final eval: -1.3945763124252109\n"
     ]
    }
   ],
   "source": [
    "gradientDescent()"
   ]
  }
 ],
 "metadata": {
  "kernelspec": {
   "display_name": "Python 3.9 (ipykernel)",
   "language": "python",
   "name": "python3.9"
  },
  "language_info": {
   "codemirror_mode": {
    "name": "ipython",
    "version": 3
   },
   "file_extension": ".py",
   "mimetype": "text/x-python",
   "name": "python",
   "nbconvert_exporter": "python",
   "pygments_lexer": "ipython3",
   "version": "3.9.9"
  }
 },
 "nbformat": 4,
 "nbformat_minor": 5
}