{
 "cells": [
  {
   "cell_type": "code",
   "execution_count": null,
   "outputs": [],
   "source": [
    "#     This program is free software: you can redistribute it and/or modify\n",
    "#     it under the terms of the GNU General Public License as published by\n",
    "#     the Free Software Foundation, either version 3 of the License, or\n",
    "#     (at your option) any later version.\n",
    "#\n",
    "#     This program is distributed in the hope that it will be useful,\n",
    "#     but WITHOUT ANY WARRANTY; without even the implied warranty of\n",
    "#     MERCHANTABILITY or FITNESS FOR A PARTICULAR PURPOSE.  See the\n",
    "#     GNU General Public License for more details.\n",
    "#\n",
    "#     You should have received a copy of the GNU General Public License\n",
    "#     along with this program.  If not, see <https://www.gnu.org/licenses/>.\n",
    "\n",
    "#     Written by Charalambos (Charis) Poullis - www.poullis.org"
   ],
   "metadata": {
    "collapsed": false,
    "pycharm": {
     "name": "#%%\n"
    }
   }
  },
  {
   "cell_type": "code",
   "execution_count": 1,
   "outputs": [],
   "source": [
    "#import the necessary modules\n",
    "import torchvision\n",
    "import sys\n",
    "from tqdm import tqdm\n",
    "import numpy as np\n",
    "import matplotlib.pyplot as plt\n",
    "from collections import Counter\n",
    "import random\n",
    "from matplotlib.ticker import MultipleLocator as ML\n",
    "from matplotlib.ticker import ScalarFormatter as SF"
   ],
   "metadata": {
    "collapsed": false,
    "pycharm": {
     "name": "#%%\n"
    }
   }
  },
  {
   "cell_type": "code",
   "execution_count": 2,
   "id": "75fa7063-8fc1-4720-94d3-e8b6d5bdae43",
   "metadata": {
    "tags": []
   },
   "outputs": [
    {
     "name": "stdout",
     "output_type": "stream",
     "text": [
      "Files already downloaded and verified\n",
      "Training dataset: Dataset CIFAR10\n",
      "    Number of datapoints: 50000\n",
      "    Root location: ../data\n",
      "    Split: Train\n",
      "    StandardTransform\n",
      "Transform: ToTensor()\n",
      "Files already downloaded and verified\n",
      "Testing dataset: Dataset CIFAR10\n",
      "    Number of datapoints: 10000\n",
      "    Root location: ../data\n",
      "    Split: Test\n",
      "    StandardTransform\n",
      "Transform: ToTensor()\n"
     ]
    }
   ],
   "source": [
    "#Set the path for the datasets\n",
    "DATASET_PATH = \"../data\"\n",
    "\n",
    "#Download the dataset: CIFAR10\n",
    "training_dataset = torchvision.datasets.CIFAR10(root=DATASET_PATH,\n",
    "                                                train=True,\n",
    "                                                download=True,\n",
    "                                                transform=torchvision.transforms.ToTensor())\n",
    "print('Training dataset:', training_dataset)\n",
    "testing_dataset = torchvision.datasets.CIFAR10(root=DATASET_PATH,\n",
    "                                               train=False,\n",
    "                                               download=True,\n",
    "                                               transform=torchvision.transforms.ToTensor())\n",
    "print('Testing dataset:', testing_dataset)  \n",
    "labels=[\"airplane\", \"automobile\", \"bird\", \"cat\", \"deer\", \"dog\", \"frog\", \"horse\", \"ship\", \"truck\"]"
   ]
  },
  {
   "cell_type": "code",
   "execution_count": 3,
   "id": "093b660e-e0b9-4527-87c7-880ae50bcb68",
   "metadata": {},
   "outputs": [],
   "source": [
    "#This function takes a CIFAR dataset and splits it into two numpy arrays containing\n",
    "#the images and labels, respectively\n",
    "\n",
    "def splitDataset(dataset):\n",
    "    #Divide the datasets into images and labels\n",
    "    x, y = dataset[0]\n",
    "    \n",
    "    shape = [(i, *j) for i, j in [(len(dataset), x.shape)]][0]\n",
    "    images = np.zeros(shape)\n",
    "    labels = np.zeros((len(dataset), 1))\n",
    "    \n",
    "    for i in range(len(dataset)):\n",
    "        x,y = dataset[i]\n",
    "        images[i] = x\n",
    "        labels[i] = y\n",
    "        \n",
    "    images = np.reshape(images, (len(dataset),-1))\n",
    "    labels = np.reshape(labels, (len(dataset),-1))\n",
    "    return images, labels"
   ]
  },
  {
   "cell_type": "code",
   "execution_count": 4,
   "id": "3a7f6b50-9398-4cbe-84db-9ffa7eaa2276",
   "metadata": {},
   "outputs": [
    {
     "name": "stdout",
     "output_type": "stream",
     "text": [
      "Training images: 50000, Training labels: 50000\n",
      "Testing images: 10000, Testing labels: 10000\n"
     ]
    }
   ],
   "source": [
    "#Divide the training datasets into images and labels\n",
    "training_images, training_labels = splitDataset(training_dataset)\n",
    "#Do the same for the testing dataset\n",
    "testing_images, testing_labels = splitDataset(testing_dataset)   \n",
    "\n",
    "print(f'Training images: {len(training_images)}, Training labels: {len(training_labels)}')\n",
    "print(f'Testing images: {len(testing_images)}, Testing labels: {len(testing_labels)}')"
   ]
  },
  {
   "cell_type": "code",
   "execution_count": 5,
   "id": "c8f4092c-d8fe-4b06-981d-0d147e878657",
   "metadata": {
    "tags": []
   },
   "outputs": [],
   "source": [
    "class MyNN:\n",
    "    def __init__(self):\n",
    "        self.X_train = np.zeros((0, 3072))\n",
    "        self.Y_train = np.zeros((0, 1))\n",
    "        return\n",
    "\n",
    "    def eraseTrainingData(self):\n",
    "        self.X_train = np.zeros((0, 3072))\n",
    "        self.Y_train = np.array((0, 1))\n",
    "        return\n",
    "    \n",
    "    def train(self, X_train, Y_train):\n",
    "        self.X_train = np.append(self.X_train, X_train, axis=0)\n",
    "        self.Y_train = np.append(self.Y_train, Y_train)\n",
    "        return\n",
    "\n",
    "    def test(self, X_test, Y_test_gt, number_of_NNs):\n",
    "        correct_predictions = 0\n",
    "        \n",
    "        #Allocate the right size\n",
    "        Y_test = np.zeros((Y_test_gt.shape[0], number_of_NNs))\n",
    "        Y_test_NN_indices = np.zeros((Y_test_gt.shape[0], number_of_NNs))\n",
    "\n",
    "        for i in range(0, len(X_test)):\n",
    "            #We define the similarity as the sum of the absolute differences\n",
    "            similarities = np.sum(np.abs(X_test[i,:] - self.X_train), axis=1)\n",
    "            #Get number_of_NNs smallest similarities\n",
    "            nearest_neighbours_indices = np.argsort(similarities)[:number_of_NNs]\n",
    "            #Copy the indices\n",
    "            Y_test_NN_indices[i] = nearest_neighbours_indices\n",
    "            #Copy the labels from the nearest neighbours\n",
    "            Y_test[i] = self.Y_train[nearest_neighbours_indices].reshape(-1)\n",
    "                   \n",
    "            #calculate how many are correct; take the majority vote of labels from nearest neighbours\n",
    "            c = Counter(Y_test[i].tolist())\n",
    "            predicted_label, votes = c.most_common()[0]\n",
    "            if predicted_label == Y_test_gt[i]:\n",
    "                correct_predictions += 1\n",
    "                \n",
    "        return correct_predictions, Y_test, Y_test_NN_indices"
   ]
  },
  {
   "cell_type": "code",
   "execution_count": 6,
   "id": "556b9cb2-e694-4fcd-b03e-b61e7fc2989d",
   "metadata": {},
   "outputs": [
    {
     "name": "stdout",
     "output_type": "stream",
     "text": [
      "Number of image per fold: 10000\n"
     ]
    },
    {
     "name": "stderr",
     "output_type": "stream",
     "text": [
      "k values processed: 100%|###########################################| 49/49 [03:16<00:00,  4.00s/it]\n"
     ]
    }
   ],
   "source": [
    "#Create an instance of the model\n",
    "model = MyNN()\n",
    "\n",
    "#Predict the labels for the test images\n",
    "NUMBER_OF_FOLDS = 5\n",
    "NUMBER_OF_SAMPLES = 10\n",
    "NUMBER_OF_K = 50\n",
    "# training_images = training_images[:100]\n",
    "number_of_images_per_fold = int(len(training_images)/NUMBER_OF_FOLDS)\n",
    "print(f'Number of image per fold: {number_of_images_per_fold}')\n",
    "validation_fold = NUMBER_OF_FOLDS-1\n",
    "training_fold = 0\n",
    "accuracies = list()\n",
    "for k in tqdm(range(1, NUMBER_OF_K), ncols=100, ascii=True, desc=\"k values processed\"):\n",
    "    accuracy_per_fold = list()\n",
    "\n",
    "    #Store the training data from the folds\n",
    "    for i in range(0, NUMBER_OF_FOLDS):\n",
    "        if i == validation_fold:\n",
    "            continue\n",
    "        else:\n",
    "            #Store the other training fold\n",
    "            model.train(training_images[i*number_of_images_per_fold: (i+1)*number_of_images_per_fold-1],\n",
    "                        training_labels[i*number_of_images_per_fold: (i+1)*number_of_images_per_fold-1])\n",
    "            #Test on the validation test\n",
    "            random_indices = [random.randint(validation_fold*number_of_images_per_fold, (validation_fold+1)*number_of_images_per_fold-1) for n in range(NUMBER_OF_SAMPLES)]\n",
    "            correct_predictions, predicted_labels, nearest_neighbours_indices = model.test(training_images[random_indices], \n",
    "                                                                                           training_labels[random_indices], k)\n",
    "            accuracy_per_fold.append(correct_predictions/NUMBER_OF_SAMPLES)\n",
    "            # print(f\"{k}: fold {i} --> {sum(accuracy_per_test)/len(accuracy_per_test)}\")\n",
    "            #Remove all the folds in memory\n",
    "            model.eraseTrainingData()\n",
    "\n",
    "    validation_fold = (validation_fold + 1)%NUMBER_OF_FOLDS\n",
    "    accuracies.append(accuracy_per_fold)\n",
    "    "
   ]
  },
  {
   "cell_type": "code",
   "execution_count": 7,
   "id": "657d7d6c-3ade-47a6-9d9d-302e8acd363d",
   "metadata": {
    "pycharm": {
     "name": "#%%\n"
    }
   },
   "outputs": [
    {
     "data": {
      "image/png": "[encoded data removed]",
      "text/plain": [
       "<Figure size 432x288 with 1 Axes>"
      ]
     },
     "metadata": {
      "needs_background": "light"
     },
     "output_type": "display_data"
    }
   ],
   "source": [
    "k = np.array(list(range(1, NUMBER_OF_K)))\n",
    "average_accuracies = np.array([np.average(x) for x in accuracies])\n",
    "\n",
    "fig, ax = plt.subplots()\n",
    "ax.set_title(\"Determine hyperparameter k with cross-validation\")\n",
    "#ax.set(xlim=(0, NUMBER_OF_K), xticks=np.arange(0, NUMBER_OF_K),\n",
    "#       ylim=(0, 0.5), yticks=np.arange(0, 0.5, 0.05))\n",
    "ax.xaxis.set_minor_locator(ML(2))\n",
    "ax.xaxis.set_minor_formatter(SF())\n",
    "ax.tick_params(axis='x', which='minor', rotation=90)\n",
    "ax.set_xlabel(\"k\")\n",
    "ax.set_ylabel(\"validation fold accuracy (averaged over training folds)\")\n",
    "#add vertical line at the best accuracy\n",
    "best_k = np.argmax(average_accuracies)\n",
    "ax.axvline(x=k[best_k], color='red', linestyle='--')\n",
    "\n",
    "ax.plot(k, average_accuracies, \"C1o-\")\n",
    "ax.violinplot(accuracies)\n",
    "\n",
    "plt.show()\n",
    "fig.savefig('cross_validation_knn.png', dpi=300)"
   ]
  }
 ],
 "metadata": {
  "kernelspec": {
   "display_name": "Python 3 (ipykernel)",
   "language": "python",
   "name": "python3"
  },
  "language_info": {
   "codemirror_mode": {
    "name": "ipython",
    "version": 3
   },
   "file_extension": ".py",
   "mimetype": "text/x-python",
   "name": "python",
   "nbconvert_exporter": "python",
   "pygments_lexer": "ipython3",
   "version": "3.8.12"
  }
 },
 "nbformat": 4,
 "nbformat_minor": 5
}