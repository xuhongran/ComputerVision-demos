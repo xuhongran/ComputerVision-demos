{
 "cells": [
  {
   "cell_type": "code",
   "execution_count": 1,
   "outputs": [],
   "source": [
    "#     This program is free software: you can redistribute it and/or modify\n",
    "#     it under the terms of the GNU General Public License as published by\n",
    "#     the Free Software Foundation, either version 3 of the License, or\n",
    "#     (at your option) any later version.\n",
    "#\n",
    "#     This program is distributed in the hope that it will be useful,\n",
    "#     but WITHOUT ANY WARRANTY; without even the implied warranty of\n",
    "#     MERCHANTABILITY or FITNESS FOR A PARTICULAR PURPOSE.  See the\n",
    "#     GNU General Public License for more details.\n",
    "#\n",
    "#     You should have received a copy of the GNU General Public License\n",
    "#     along with this program.  If not, see <https://www.gnu.org/licenses/>.\n",
    "\n",
    "#     Written by Charalambos (Charis) Poullis - www.poullis.org"
   ],
   "metadata": {
    "collapsed": false,
    "pycharm": {
     "name": "#%%\n"
    }
   }
  },
  {
   "cell_type": "code",
   "execution_count": 23,
   "outputs": [],
   "source": [
    "import numpy as np\n",
    "#plotting etc\n",
    "import matplotlib\n",
    "import matplotlib.pyplot as plt\n",
    "#random number generator\n",
    "import random\n",
    "\n",
    "#progress bar\n",
    "import tqdm\n",
    "\n",
    "# There is a weird crash in Python 3.9 causing the kernel to restart when using matplotlib\n",
    "# To test if you have the same issue uncomment the following command. If it works, then you don't need the subsequent 2 lines (import os, KMP)\n",
    "#plt.subplot()\n",
    "import os\n",
    "os.environ[\"KMP_DUPLICATE_LIB_OK\"]=\"TRUE\""
   ],
   "metadata": {
    "collapsed": false,
    "pycharm": {
     "name": "#%%\n"
    }
   }
  },
  {
   "cell_type": "code",
   "execution_count": 24,
   "id": "84fd1ffb-ede9-4056-84d0-33f2526eef9f",
   "metadata": {},
   "outputs": [],
   "source": [
    "def func(x):\n",
    "    return pow(x,4.0)-2.5*pow(x, 3.0)+1.5*x"
   ]
  },
  {
   "cell_type": "code",
   "execution_count": 42,
   "id": "32990132-c0e0-471b-9846-d44ec32eef8c",
   "metadata": {},
   "outputs": [],
   "source": [
    "def gradientDescent():\n",
    "    #Number of iterations\n",
    "    EPOCHS = 50\n",
    "    #Step h\n",
    "    h_step = 0.001\n",
    "    #Update step\n",
    "    update_step = 0.01\n",
    "    #Initial values\n",
    "    x = np.random.uniform(-1,4)\n",
    "    #Keep track of all the updates\n",
    "    x_updates = [x]\n",
    "    print(f'Initial x: {x}, Initial eval: {func(x)}') \n",
    "    \n",
    "    #Create a progress bar the size of the number of epochs\n",
    "    status_bar = tqdm.tqdm(range(EPOCHS), ncols=100, desc='current x: ')\n",
    "    for i in status_bar:\n",
    "        #Calculate the gradient\n",
    "        eval_x = func(x) \n",
    "        eval_x_plus_h = func(x+h_step)\n",
    "        gradient = (eval_x_plus_h - eval_x)/h_step\n",
    "        #update the value of x\n",
    "        x += -gradient * update_step\n",
    "        #save the update\n",
    "        x_updates.append(x)\n",
    "\n",
    "        if i % 100 == 0:\n",
    "            #After every epoch update the information\n",
    "            status_bar.set_description(f'current x: {x:.8f} -> func(x)={func(x):.8f}')\n",
    "\n",
    "    print(f'Optimal x: {x}, Final eval: {func(x)}') \n",
    "    return x_updates"
   ]
  },
  {
   "cell_type": "code",
   "execution_count": 43,
   "id": "5490fe95-5412-4c27-b23f-f75d249a3fde",
   "metadata": {
    "pycharm": {
     "name": "#%%\n"
    }
   },
   "outputs": [
    {
     "name": "stdout",
     "output_type": "stream",
     "text": [
      "Initial x: 0.06595461689785997, Initial eval: 0.09823358959342009\n"
     ]
    },
    {
     "name": "stderr",
     "output_type": "stream",
     "text": [
      "current x: 0.05127410 -> func(x)=0.07658106: 100%|███████████████| 50/50 [00:00<00:00, 49979.79it/s]"
     ]
    },
    {
     "name": "stdout",
     "output_type": "stream",
     "text": [
      "Optimal x: -0.3846495319549077, Final eval: -0.4128062321377832\n"
     ]
    },
    {
     "name": "stderr",
     "output_type": "stream",
     "text": [
      "\n"
     ]
    }
   ],
   "source": [
    "x_updates = gradientDescent()"
   ]
  },
  {
   "cell_type": "code",
   "execution_count": 44,
   "outputs": [],
   "source": [
    "#Plot the function\n",
    "x = np.linspace(-1, 2.5, 10000)\n",
    "y = func(x)"
   ],
   "metadata": {
    "collapsed": false,
    "pycharm": {
     "name": "#%%\n"
    }
   }
  },
  {
   "cell_type": "code",
   "execution_count": 46,
   "outputs": [
    {
     "data": {
      "text/plain": "<Figure size 432x288 with 1 Axes>",
      "image/png": "[encoded data removed]"
     },
     "metadata": {
      "needs_background": "light"
     },
     "output_type": "display_data"
    }
   ],
   "source": [
    "#Plot the loss as a function of epochs\n",
    "fig, ax = plt.subplots(1,1)\n",
    "#plot the function\n",
    "ax.plot(x, y)\n",
    "#Calculate the colors for the points\n",
    "start_color = np.array([1.0, 0.0, 0.0])\n",
    "end_color = np.array([1.0, 1.0, 0.0])\n",
    "interpolated_colors = np.linspace(start_color, end_color, len(x_updates)).tolist()\n",
    "for i in range(1, len(x_updates)-1):\n",
    "    alpha = i/len(x_updates)\n",
    "    ax.plot(x_updates[i], func(x_updates[i]), marker=\".\", color=interpolated_colors[i])\n",
    "\n",
    "ax.plot(x_updates[0], func(x_updates[0]), 'o', color=start_color, label=\"starting x\")\n",
    "ax.plot(x_updates[-1], func(x_updates[-1]), 'o', color=end_color, label=\"optimal x\")\n",
    "ax.set_title('Function y = func(x)')\n",
    "ax.set_xlabel('x')\n",
    "ax.set_ylabel('y = func(x)')\n",
    "ax.legend()\n",
    "plt.show()\n",
    "fig.savefig(\"function.png\")"
   ],
   "metadata": {
    "collapsed": false,
    "pycharm": {
     "name": "#%%\n"
    }
   }
  },
  {
   "cell_type": "code",
   "execution_count": null,
   "outputs": [],
   "source": [],
   "metadata": {
    "collapsed": false,
    "pycharm": {
     "name": "#%%\n"
    }
   }
  }
 ],
 "metadata": {
  "kernelspec": {
   "name": "python3",
   "language": "python",
   "display_name": "Python 3 (ipykernel)"
  },
  "language_info": {
   "codemirror_mode": {
    "name": "ipython",
    "version": 3
   },
   "file_extension": ".py",
   "mimetype": "text/x-python",
   "name": "python",
   "nbconvert_exporter": "python",
   "pygments_lexer": "ipython3",
   "version": "3.9.9"
  }
 },
 "nbformat": 4,
 "nbformat_minor": 5
}