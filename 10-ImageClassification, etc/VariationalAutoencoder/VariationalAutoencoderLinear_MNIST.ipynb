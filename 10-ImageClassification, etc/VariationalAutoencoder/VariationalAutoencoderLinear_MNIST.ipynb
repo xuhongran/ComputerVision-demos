{
 "cells": [
  {
   "cell_type": "code",
   "execution_count": 11,
   "outputs": [],
   "source": [
    "#     This program is free software: you can redistribute it and/or modify\n",
    "#     it under the terms of the GNU General Public License as published by\n",
    "#     the Free Software Foundation, either version 3 of the License, or\n",
    "#     (at your option) any later version.\n",
    "#\n",
    "#     This program is distributed in the hope that it will be useful,\n",
    "#     but WITHOUT ANY WARRANTY; without even the implied warranty of\n",
    "#     MERCHANTABILITY or FITNESS FOR A PARTICULAR PURPOSE.  See the\n",
    "#     GNU General Public License for more details.\n",
    "#\n",
    "#     You should have received a copy of the GNU General Public License\n",
    "#     along with this program.  If not, see <https://www.gnu.org/licenses/>.\n",
    "\n",
    "#     Written by Charalambos (Charis) Poullis - www.poullis.org"
   ],
   "metadata": {
    "collapsed": false,
    "pycharm": {
     "name": "#%%\n"
    }
   }
  },
  {
   "cell_type": "code",
   "execution_count": 46,
   "outputs": [],
   "source": [
    "#Import all necessary libraries\n",
    "import torch\n",
    "import torchvision\n",
    "import numpy as np\n",
    "#progress bar functionality\n",
    "import tqdm\n",
    "#plotting etc\n",
    "import matplotlib\n",
    "\n",
    "import matplotlib.pyplot as plt\n",
    "#random number generator\n",
    "import random\n",
    "\n",
    "# There is a weird crash in Python 3.9 causing the kernel to restart when using matplotlib\n",
    "# To test if you have the same issue uncomment the following command. If it works, then you don't need the subsequent 2 lines (import os, KMP)\n",
    "#plt.subplot()\n",
    "import os\n",
    "os.environ[\"KMP_DUPLICATE_LIB_OK\"]=\"TRUE\""
   ],
   "metadata": {
    "collapsed": false,
    "pycharm": {
     "name": "#%%\n"
    }
   }
  },
  {
   "cell_type": "code",
   "execution_count": 47,
   "outputs": [
    {
     "name": "stdout",
     "output_type": "stream",
     "text": [
      "Training dataset: Dataset MNIST\n",
      "    Number of datapoints: 60000\n",
      "    Root location: ../data\n",
      "    Split: Train\n",
      "    StandardTransform\n",
      "Transform: ToTensor()\n",
      "Testing dataset: Dataset MNIST\n",
      "    Number of datapoints: 10000\n",
      "    Root location: ../data\n",
      "    Split: Test\n",
      "    StandardTransform\n",
      "Transform: ToTensor()\n",
      "Training dataset: Dataset MNIST\n",
      "    Number of datapoints: 60000\n",
      "    Root location: ../data\n",
      "    Split: Train\n",
      "    StandardTransform\n",
      "Transform: ToTensor()\n",
      "Testing dataset: Dataset MNIST\n",
      "    Number of datapoints: 10000\n",
      "    Root location: ../data\n",
      "    Split: Test\n",
      "    StandardTransform\n",
      "Transform: ToTensor()\n"
     ]
    }
   ],
   "source": [
    "#Set the path for the datasets\n",
    "DATASET_PATH = \"../data\"\n",
    "\n",
    "#MNIST image size 1x28x28\n",
    "CHANNELS = 1\n",
    "WIDTH = 28\n",
    "HEIGHT = 28\n",
    "\n",
    "#Download the training dataset: CIFAR10\n",
    "training_dataset = torchvision.datasets.MNIST(root=DATASET_PATH,\n",
    "                                                train=True,\n",
    "                                                download=True,\n",
    "                                                transform=torchvision.transforms.ToTensor())\n",
    "print('Training dataset:', training_dataset)\n",
    "\n",
    "#Download the testing dataset: CIFAR10\n",
    "testing_dataset = torchvision.datasets.MNIST(root=DATASET_PATH,\n",
    "                                               train=False,\n",
    "                                               download=True,\n",
    "                                               transform=torchvision.transforms.ToTensor())\n",
    "print('Testing dataset:', testing_dataset)  \n",
    "\n",
    "#Create a list with user-friendly names for each label\n",
    "labels=[\"0\", \"1\", \"2\", \"3\", \"4\", \"5\", \"6\", \"7\", \"8\", \"9\"]"
   ],
   "metadata": {
    "collapsed": false,
    "pycharm": {
     "name": "#%%\n"
    }
   }
  },
  {
   "cell_type": "code",
   "execution_count": 48,
   "outputs": [],
   "source": [
    "#This function takes a CIFAR dataset and splits it into two numpy arrays containing\n",
    "#the images and labels, respectively\n",
    "\n",
    "def splitDataset(dataset, channels, width, height):\n",
    "    #Divide the datasets into images and labels\n",
    "    x, y = dataset[0]\n",
    "    \n",
    "    shape = [(i, *j) for i, j in [(len(dataset), x.shape)]][0]\n",
    "    images = np.zeros(shape)\n",
    "    labels = np.zeros((len(dataset), 1))\n",
    "    \n",
    "    for i in range(len(dataset)):\n",
    "        x,y = dataset[i]\n",
    "        images[i] = x\n",
    "        labels[i] = y\n",
    "        \n",
    "    images = np.reshape(images, (len(dataset), channels, width, height))\n",
    "    labels = np.reshape(labels, (len(dataset), 1))\n",
    "    return images, labels"
   ],
   "metadata": {
    "collapsed": false,
    "pycharm": {
     "name": "#%%\n"
    }
   }
  },
  {
   "cell_type": "code",
   "execution_count": 15,
   "outputs": [
    {
     "name": "stdout",
     "output_type": "stream",
     "text": [
      "Training images: 60000, Training labels: 60000\n",
      "Testing images: 10000, Testing labels: 10000\n"
     ]
    }
   ],
   "source": [
    "#Divide the training datasets into images and labels; this is needed later to randomly index from the arrays\n",
    "training_images, training_labels = splitDataset(training_dataset, CHANNELS, WIDTH, HEIGHT)\n",
    "#Do the same for the testing dataset\n",
    "testing_images, testing_labels = splitDataset(testing_dataset, CHANNELS, WIDTH, HEIGHT)   \n",
    "\n",
    "print(f'Training images: {len(training_images)}, Training labels: {len(training_labels)}')\n",
    "print(f'Testing images: {len(testing_images)}, Testing labels: {len(testing_labels)}')"
   ],
   "metadata": {
    "collapsed": false,
    "pycharm": {
     "name": "#%%\n"
    }
   }
  },
  {
   "cell_type": "code",
   "execution_count": 35,
   "outputs": [],
   "source": [
    "#Define the autoencoder; This is a simple autoencoder with 2 convolutional layers in the encoder, and 2 convolutional layers in the decoder\n",
    "#Put simply, an autoencoder learns to reconstruct the input\n",
    "class MyAutoencoder (torch.nn.Module):\n",
    "    def __init__(self, channels, width, height):\n",
    "        super(MyAutoencoder, self).__init__()\n",
    "\n",
    "        #The patch size\n",
    "        self.channels = channels\n",
    "        self.width = width\n",
    "        self.height = height\n",
    "\n",
    "        #The latent dimensions\n",
    "        self.latent_space_dims = 4\n",
    "\n",
    "        #Define a unit Gaussian distribution to be used for sampling\n",
    "        self.unit_gaussian_distribution = torch.distributions.normal.Normal(loc=torch.tensor(0.0).to(device),\n",
    "                                                                            scale=torch.tensor(1.0).to(device))\n",
    "\n",
    "        #The KL divergence\n",
    "        self.KL_div = torch.tensor(0.0)\n",
    "\n",
    "        #Encoder\n",
    "        self.encoder = torch.nn.Sequential(\n",
    "            torch.nn.Linear(in_features=self.channels*self.width*self.height, out_features=512),\n",
    "            torch.nn.ReLU()\n",
    "        )\n",
    "\n",
    "        #μ\n",
    "        self.mu = torch.nn.Linear(in_features=512, out_features=self.latent_space_dims)\n",
    "        #σ\n",
    "        self.sigma = torch.nn.Linear(in_features=512, out_features=self.latent_space_dims)\n",
    "\n",
    "        #Decoder\n",
    "        self.decoder = torch.nn.Sequential(\n",
    "            torch.nn.Linear(in_features=self.latent_space_dims, out_features=512),\n",
    "            torch.nn.ReLU(),\n",
    "            torch.nn.Linear(in_features=512, out_features=self.channels*self.width*self.height),\n",
    "\n",
    "            #At this point the range of the output value is unbound. Let's use Maps the value to the range [0,1] which is expected for colors\n",
    "            torch.nn.Sigmoid()\n",
    "        )\n",
    "        return\n",
    "\n",
    "    def getKLdiv(self):\n",
    "        return self.KL_div\n",
    "    \n",
    "    def forward(self, x):\n",
    "        x = torch.reshape(x, (-1, self.channels*self.width*self.height))\n",
    "        #Feed-forward through the encoder\n",
    "        result = self.encoder(x)\n",
    "        \n",
    "        #Sample z using the Gaussian distribution\n",
    "        mu = self.mu(result)\n",
    "        sigma = torch.exp(self.sigma(result)) #self.sigma(.) can return negative values. We add the exponent to keep the values positive. Otherwise, what is the meaning of having negative standard deviation σ?\n",
    "        z = mu + sigma*self.unit_gaussian_distribution.sample(mu.shape)\n",
    "\n",
    "        #Feed-forward through the decoder\n",
    "        result = self.decoder(z)\n",
    "        result = torch.reshape(result, (-1, self.channels, self.width, self.height))\n",
    "        #Calculate the closed form KL divergence between 2 Gaussians; you want the learnt (μ,σ) to resemble a zero-mean Gaussian distribution with standard deviation of 1.0\n",
    "        self.KL_div = torch.sum(-torch.log(sigma) + mu**2 + sigma**2 - 0.5)\n",
    "\n",
    "        return result"
   ],
   "metadata": {
    "collapsed": false,
    "pycharm": {
     "name": "#%%\n"
    }
   }
  },
  {
   "cell_type": "code",
   "execution_count": 36,
   "outputs": [
    {
     "name": "stdout",
     "output_type": "stream",
     "text": [
      "GPU devices found: 1\n",
      "Device: cuda\n"
     ]
    }
   ],
   "source": [
    "#We'll use GPU is available; check if a GPU is available\n",
    "print(f'GPU devices found: {torch.cuda.device_count()}')\n",
    "device = torch.device(\"cuda\" if torch.cuda.is_available() else \"cpu\")\n",
    "print(f'Device: {device}')"
   ],
   "metadata": {
    "collapsed": false,
    "pycharm": {
     "name": "#%%\n"
    }
   }
  },
  {
   "cell_type": "code",
   "execution_count": 27,
   "outputs": [
    {
     "name": "stdout",
     "output_type": "stream",
     "text": [
      "MyAutoencoder(\n",
      "  (encoder): Sequential(\n",
      "    (0): Linear(in_features=784, out_features=512, bias=True)\n",
      "    (1): ReLU()\n",
      "  )\n",
      "  (mu): Linear(in_features=512, out_features=4, bias=True)\n",
      "  (sigma): Linear(in_features=512, out_features=4, bias=True)\n",
      "  (decoder): Sequential(\n",
      "    (0): Linear(in_features=4, out_features=512, bias=True)\n",
      "    (1): ReLU()\n",
      "    (2): Linear(in_features=512, out_features=784, bias=True)\n",
      "    (3): Tanh()\n",
      "  )\n",
      ")\n"
     ]
    }
   ],
   "source": [
    "#Create an instance of the model and print; it should display all the layers and their related information\n",
    "model = MyAutoencoder(CHANNELS, WIDTH, HEIGHT).to(device)\n",
    "print(model)"
   ],
   "metadata": {
    "collapsed": false,
    "pycharm": {
     "name": "#%%\n"
    }
   }
  },
  {
   "cell_type": "code",
   "execution_count": 38,
   "outputs": [
    {
     "name": "stdout",
     "output_type": "stream",
     "text": [
      "torch.Size([1, 28, 28])\n"
     ]
    },
    {
     "data": {
      "text/plain": "tensor([[[[0.5226, 0.3942, 0.6029, 0.4502, 0.3633, 0.4890, 0.5449, 0.5086,\n           0.5962, 0.4559, 0.4561, 0.4043, 0.4722, 0.5309, 0.4198, 0.4304,\n           0.4781, 0.4250, 0.4454, 0.4460, 0.4982, 0.4562, 0.5372, 0.4517,\n           0.5360, 0.5003, 0.5290, 0.4560],\n          [0.4434, 0.4693, 0.5790, 0.5068, 0.4948, 0.5182, 0.4741, 0.4511,\n           0.5565, 0.3675, 0.4945, 0.4390, 0.5193, 0.5356, 0.4400, 0.4483,\n           0.4984, 0.5010, 0.4564, 0.5390, 0.4116, 0.4565, 0.5826, 0.5646,\n           0.4860, 0.5520, 0.4736, 0.5313],\n          [0.4081, 0.4686, 0.4887, 0.5589, 0.4850, 0.5728, 0.4827, 0.5237,\n           0.5381, 0.4728, 0.5258, 0.5150, 0.4527, 0.5608, 0.5256, 0.5789,\n           0.5965, 0.4866, 0.6409, 0.4903, 0.4882, 0.4856, 0.4801, 0.4712,\n           0.4952, 0.4120, 0.4812, 0.5249],\n          [0.3942, 0.4960, 0.4955, 0.5148, 0.5441, 0.3913, 0.5118, 0.4962,\n           0.4824, 0.5264, 0.4552, 0.6027, 0.5170, 0.3802, 0.5874, 0.4728,\n           0.5030, 0.4153, 0.5458, 0.5129, 0.5244, 0.4610, 0.5130, 0.4785,\n           0.4935, 0.6431, 0.5512, 0.5948],\n          [0.6016, 0.5257, 0.4842, 0.4777, 0.4862, 0.6339, 0.4825, 0.4394,\n           0.3998, 0.4966, 0.5018, 0.4581, 0.4053, 0.4981, 0.5157, 0.4303,\n           0.5355, 0.4878, 0.5869, 0.5643, 0.5381, 0.5588, 0.5046, 0.5142,\n           0.5799, 0.5460, 0.6236, 0.4737],\n          [0.3948, 0.4631, 0.4664, 0.4690, 0.4620, 0.4680, 0.4962, 0.5176,\n           0.3768, 0.5373, 0.4328, 0.4747, 0.4773, 0.5528, 0.5263, 0.4371,\n           0.4897, 0.5914, 0.4712, 0.5053, 0.5122, 0.5345, 0.5057, 0.4132,\n           0.4407, 0.4069, 0.4355, 0.4612],\n          [0.4249, 0.5177, 0.5081, 0.4811, 0.4963, 0.4732, 0.5909, 0.4494,\n           0.4737, 0.5246, 0.5377, 0.5472, 0.4227, 0.5194, 0.5372, 0.4613,\n           0.4765, 0.4608, 0.5214, 0.4610, 0.4978, 0.5388, 0.5243, 0.4760,\n           0.6375, 0.4108, 0.5693, 0.4916],\n          [0.5346, 0.4602, 0.4664, 0.5115, 0.4046, 0.4928, 0.5717, 0.3651,\n           0.4376, 0.4075, 0.4755, 0.4984, 0.5458, 0.4940, 0.4083, 0.5299,\n           0.4635, 0.4676, 0.5174, 0.4313, 0.4541, 0.6309, 0.5334, 0.4761,\n           0.5403, 0.4810, 0.6462, 0.5109],\n          [0.5160, 0.4926, 0.5094, 0.5367, 0.4725, 0.4521, 0.4779, 0.4019,\n           0.4621, 0.5916, 0.4904, 0.6911, 0.4700, 0.5118, 0.4863, 0.3730,\n           0.6089, 0.3604, 0.4273, 0.4034, 0.5048, 0.5057, 0.5001, 0.5145,\n           0.5841, 0.4783, 0.4393, 0.5233],\n          [0.4797, 0.5550, 0.4567, 0.5530, 0.4213, 0.6045, 0.5154, 0.5365,\n           0.5421, 0.4486, 0.6238, 0.4989, 0.5794, 0.5945, 0.5061, 0.4390,\n           0.5130, 0.5153, 0.4876, 0.4815, 0.5004, 0.5894, 0.5451, 0.4545,\n           0.4584, 0.4419, 0.4956, 0.5330],\n          [0.4236, 0.4668, 0.4478, 0.4723, 0.5305, 0.5067, 0.5772, 0.5554,\n           0.4872, 0.4750, 0.4946, 0.4052, 0.4165, 0.4439, 0.4913, 0.4842,\n           0.4133, 0.4820, 0.4816, 0.3675, 0.5452, 0.5575, 0.4275, 0.5006,\n           0.4316, 0.4532, 0.5181, 0.5000],\n          [0.5069, 0.5501, 0.5007, 0.5542, 0.4496, 0.4630, 0.5951, 0.5232,\n           0.4600, 0.5305, 0.4728, 0.4869, 0.4895, 0.4566, 0.4883, 0.5283,\n           0.5102, 0.4132, 0.4803, 0.5127, 0.5067, 0.4242, 0.4997, 0.5288,\n           0.5534, 0.5017, 0.4735, 0.4498],\n          [0.4630, 0.5068, 0.5025, 0.4773, 0.5130, 0.5016, 0.5685, 0.4964,\n           0.4975, 0.4728, 0.4436, 0.5089, 0.5002, 0.4884, 0.4037, 0.4418,\n           0.5766, 0.4741, 0.5404, 0.3832, 0.5259, 0.4514, 0.5288, 0.4832,\n           0.5224, 0.4982, 0.4422, 0.4626],\n          [0.4591, 0.5693, 0.4780, 0.4285, 0.4025, 0.4997, 0.4349, 0.5800,\n           0.4841, 0.5232, 0.4863, 0.4140, 0.6115, 0.4030, 0.5647, 0.6001,\n           0.4723, 0.6035, 0.4792, 0.5666, 0.4514, 0.5385, 0.5044, 0.5537,\n           0.5190, 0.5508, 0.5238, 0.4599],\n          [0.5573, 0.4633, 0.5695, 0.5516, 0.4814, 0.5048, 0.4761, 0.6022,\n           0.4625, 0.4792, 0.5823, 0.5741, 0.5051, 0.5314, 0.5054, 0.5049,\n           0.4528, 0.4977, 0.5757, 0.5332, 0.4423, 0.5583, 0.5058, 0.5478,\n           0.5144, 0.5903, 0.5033, 0.4914],\n          [0.3658, 0.5712, 0.5009, 0.4314, 0.4758, 0.5779, 0.4884, 0.4565,\n           0.4765, 0.5505, 0.4789, 0.5224, 0.3639, 0.5185, 0.5046, 0.5243,\n           0.5458, 0.4000, 0.5692, 0.4847, 0.5151, 0.5057, 0.5442, 0.4504,\n           0.5516, 0.5487, 0.4619, 0.4896],\n          [0.5610, 0.5258, 0.4705, 0.4389, 0.5363, 0.4750, 0.5594, 0.4125,\n           0.5253, 0.5760, 0.6212, 0.5486, 0.4739, 0.5050, 0.5563, 0.5151,\n           0.4405, 0.4893, 0.5052, 0.3877, 0.4700, 0.4095, 0.4408, 0.5419,\n           0.5987, 0.4161, 0.4868, 0.5037],\n          [0.5078, 0.5452, 0.5012, 0.4407, 0.4749, 0.5178, 0.5804, 0.5726,\n           0.4619, 0.5419, 0.4187, 0.4489, 0.5300, 0.6715, 0.5526, 0.4659,\n           0.5128, 0.4421, 0.4975, 0.4940, 0.4568, 0.4859, 0.4159, 0.4818,\n           0.5019, 0.4632, 0.4792, 0.6157],\n          [0.5204, 0.4623, 0.4349, 0.4686, 0.4908, 0.4733, 0.4777, 0.4764,\n           0.4980, 0.4650, 0.5186, 0.5759, 0.4966, 0.4612, 0.3847, 0.5449,\n           0.4975, 0.4503, 0.5517, 0.4814, 0.5155, 0.4271, 0.4961, 0.4588,\n           0.4253, 0.4903, 0.4544, 0.5081],\n          [0.4827, 0.5014, 0.6141, 0.4575, 0.4708, 0.4365, 0.4027, 0.5377,\n           0.4366, 0.5149, 0.4721, 0.5473, 0.5134, 0.3778, 0.5397, 0.5094,\n           0.4566, 0.5110, 0.4448, 0.4548, 0.5481, 0.4841, 0.5798, 0.5069,\n           0.5724, 0.4803, 0.4128, 0.5587],\n          [0.4171, 0.4740, 0.5496, 0.4744, 0.5613, 0.4932, 0.4223, 0.4134,\n           0.4224, 0.4991, 0.5425, 0.4900, 0.3744, 0.6600, 0.4896, 0.5571,\n           0.4730, 0.5075, 0.5270, 0.4825, 0.4381, 0.4771, 0.4458, 0.4216,\n           0.4434, 0.4589, 0.5170, 0.4661],\n          [0.6228, 0.5361, 0.4850, 0.4780, 0.4928, 0.5233, 0.4365, 0.3829,\n           0.4699, 0.4827, 0.5310, 0.5894, 0.4629, 0.5081, 0.5161, 0.4494,\n           0.4188, 0.5203, 0.4586, 0.4187, 0.5361, 0.5991, 0.4679, 0.4457,\n           0.4730, 0.5795, 0.5671, 0.3996],\n          [0.5076, 0.4579, 0.5581, 0.5109, 0.4034, 0.4999, 0.4903, 0.5088,\n           0.5043, 0.4277, 0.4692, 0.5503, 0.4743, 0.5390, 0.5329, 0.4913,\n           0.5254, 0.4125, 0.4905, 0.5667, 0.5321, 0.5009, 0.6252, 0.4741,\n           0.4582, 0.4437, 0.5384, 0.4611],\n          [0.4443, 0.5037, 0.5709, 0.4315, 0.5267, 0.3912, 0.4612, 0.4793,\n           0.4916, 0.4760, 0.4503, 0.4319, 0.5692, 0.4604, 0.4933, 0.5216,\n           0.5020, 0.4544, 0.5546, 0.4843, 0.5830, 0.5246, 0.4760, 0.4574,\n           0.5550, 0.6460, 0.5048, 0.5201],\n          [0.4811, 0.4972, 0.5179, 0.4786, 0.4566, 0.4588, 0.5068, 0.5233,\n           0.4430, 0.5322, 0.5078, 0.4855, 0.5139, 0.5697, 0.4326, 0.5788,\n           0.5601, 0.5199, 0.5028, 0.4961, 0.4884, 0.4633, 0.3955, 0.4108,\n           0.5824, 0.5511, 0.4995, 0.4851],\n          [0.5002, 0.4965, 0.3768, 0.5183, 0.5684, 0.5843, 0.4919, 0.5015,\n           0.4814, 0.4388, 0.4229, 0.5328, 0.4902, 0.5282, 0.4690, 0.5204,\n           0.4461, 0.4635, 0.4786, 0.4881, 0.5221, 0.5527, 0.4825, 0.5282,\n           0.5657, 0.4444, 0.3622, 0.5425],\n          [0.5022, 0.5150, 0.5471, 0.3941, 0.5074, 0.4990, 0.4910, 0.4231,\n           0.4820, 0.3666, 0.5337, 0.6060, 0.5387, 0.5548, 0.4722, 0.4654,\n           0.4113, 0.5996, 0.4825, 0.5527, 0.4812, 0.4916, 0.4738, 0.4588,\n           0.5993, 0.5638, 0.4860, 0.4317],\n          [0.5409, 0.5537, 0.4257, 0.5146, 0.4851, 0.4957, 0.5172, 0.5332,\n           0.5376, 0.5568, 0.4808, 0.6032, 0.5160, 0.4135, 0.4459, 0.5227,\n           0.5122, 0.5552, 0.4400, 0.4351, 0.4542, 0.4463, 0.5583, 0.4644,\n           0.5162, 0.4745, 0.5179, 0.6149]]]], device='cuda:0',\n       grad_fn=<ReshapeAliasBackward0>)"
     },
     "execution_count": 38,
     "metadata": {},
     "output_type": "execute_result"
    }
   ],
   "source": [
    "#SANITY CHECK: Feed forward an image and check for errors\n",
    "#Pull the first image from the training images, and convert to a float tensor\n",
    "img = torch.from_numpy(training_images[0]).float()\n",
    "print(img.shape)\n",
    "\n",
    "#The input to the autoencoder is [batch_size, 3, 32, 32]; convert the image's shape [3,32,32] to [1,3,32,32] and push to device\n",
    "img = torch.reshape(img, (1, CHANNELS, WIDTH, HEIGHT)).to(device)\n",
    "\n",
    "#feed forward the image to the network and make sure it works with no errors\n",
    "model.forward(img)"
   ],
   "metadata": {
    "collapsed": false,
    "pycharm": {
     "name": "#%%\n"
    }
   }
  },
  {
   "cell_type": "code",
   "execution_count": 39,
   "outputs": [],
   "source": [
    "#Switch to 0; otherwise it will load the saved weights\n",
    "if 0:\n",
    "    model.load_state_dict(torch.load(\"trained_weights_MNIST.save\"))\n",
    "    model.eval()"
   ],
   "metadata": {
    "collapsed": false,
    "pycharm": {
     "name": "#%%\n"
    }
   }
  },
  {
   "cell_type": "code",
   "execution_count": 40,
   "outputs": [
    {
     "name": "stderr",
     "output_type": "stream",
     "text": [
      "loss: 3273.24609375: 100%|████████████████████████████████████████| 200/200 [05:43<00:00,  1.72s/it]"
     ]
    },
    {
     "name": "stdout",
     "output_type": "stream",
     "text": [
      "Final loss on training: 3273.24609375\n"
     ]
    },
    {
     "name": "stderr",
     "output_type": "stream",
     "text": [
      "\n",
      "loss: 3173.21459961:  18%|███████▏                                 | 35/200 [00:54<04:14,  1.54s/it]"
     ]
    }
   ],
   "source": [
    "#TRAINING\n",
    "\n",
    "#define the hyperparameters\n",
    "BATCH_SIZE = 100\n",
    "EPOCHS=200\n",
    "LEARNING_RATE=0.00001\n",
    "\n",
    "\n",
    "#Create an optimizer and pass the model's parameters\n",
    "optimizer = torch.optim.SGD(model.parameters(), lr=LEARNING_RATE)\n",
    "\n",
    "#Define a loss function; we'll pick mean squared error since we are reconstructing the original\n",
    "loss_function = torch.nn.MSELoss(reduction='sum')\n",
    "\n",
    "#training image indices; [0, 1, 2, 3 ....., 49999]\n",
    "training_dataset_indices = torch.arange(0, len(training_dataset))\n",
    "\n",
    "#keep track of the losses for plotting at the end\n",
    "losses = list()\n",
    "\n",
    "#Create a progress bar the size of the number of epochs\n",
    "status_bar = tqdm.tqdm(range(EPOCHS), ncols=100, desc='loss: ')\n",
    "for i in status_bar:\n",
    "    #At each iteration, perform a permutation of the training_dataset_indices; this ensures that we will use all images and avoid duplication\n",
    "    random_permutation = torch.randperm(training_dataset_indices.size()[0])\n",
    "\n",
    "    #Get BATCH_SIZE number of training images at each epoch; because we sample from an array there will be no duplicates\n",
    "    loss = None\n",
    "    for b in range(0,training_dataset_indices.size()[0], BATCH_SIZE):\n",
    "        #Zero out the gradients\n",
    "        optimizer.zero_grad()\n",
    "\n",
    "        #Get the indices of the training images in this batch\n",
    "        batch_indices = random_permutation[b:b+BATCH_SIZE]\n",
    "        #we only need to get the images; the labels are irrelevant in the context of an autoencoder\n",
    "        batch_images = training_images[batch_indices]\n",
    "        #convert to float tensors and push to device\n",
    "        batch_images = torch.from_numpy(batch_images).float().to(device)\n",
    "\n",
    "        #feed forward through the network's layers and get the reconstruction\n",
    "        reconstructions = model.forward(batch_images)\n",
    "        \n",
    "        #Calculate the MSE between the reconstructions and the input images plus the KL divergence of the learnt distribution from a zero-mean Gaussian of standard deviation of 1.0; the optimal value for this loss is 0\n",
    "        loss = loss_function(reconstructions, batch_images) + model.getKLdiv()\n",
    "\n",
    "        #keep track of the losses per batch, per epoch it to the list; used for plotting later on\n",
    "        losses.append(loss.item())\n",
    "        \n",
    "        #backpropagate gradients\n",
    "        loss.backward()\n",
    "        #single gradient descent step; update all network parameters based on the gradient\n",
    "        optimizer.step()\n",
    "    \n",
    "    #After every epoch update the loss function\n",
    "    status_bar.set_description(f'loss: {loss.item():.8f}')\n",
    "\n",
    "#Output the final loss on the training dataset\n",
    "print(f'Final loss on training: {loss.item():.8f}')"
   ],
   "metadata": {
    "collapsed": false,
    "pycharm": {
     "name": "#%%\n"
    }
   }
  },
  {
   "cell_type": "code",
   "execution_count": 65,
   "outputs": [],
   "source": [
    "#Switch to 0, otherwise it will overwrite the saved weights\n",
    "if 1:\n",
    "    torch.save(model.state_dict(), \"trained_weights_MNIST.save\")"
   ],
   "metadata": {
    "collapsed": false,
    "pycharm": {
     "name": "#%%\n"
    }
   }
  },
  {
   "cell_type": "code",
   "execution_count": 66,
   "outputs": [
    {
     "data": {
      "text/plain": "<Figure size 432x288 with 1 Axes>",
      "image/png": "[encoded data removed]"
     },
     "metadata": {
      "needs_background": "light"
     },
     "output_type": "display_data"
    }
   ],
   "source": [
    "#Plot the loss as a function of epochs\n",
    "fig, ax = plt.subplots(1,1)\n",
    "ax.plot(list(range(EPOCHS*int(len(training_dataset)/BATCH_SIZE))), np.array(losses))\n",
    "ax.set_title('Loss on training dataset')\n",
    "ax.set_xlabel('epoch')\n",
    "ax.set_ylabel('MSE')\n",
    "plt.show()\n",
    "fig.savefig(\"vae_loss_MNIST.png\")"
   ],
   "metadata": {
    "collapsed": false,
    "pycharm": {
     "name": "#%%\n"
    }
   }
  },
  {
   "cell_type": "code",
   "execution_count": 69,
   "outputs": [
    {
     "name": "stdout",
     "output_type": "stream",
     "text": [
      "MSE loss on testing: 2369.13281250\n"
     ]
    }
   ],
   "source": [
    "with torch.no_grad():\n",
    "    #Calculate MSE on the testing dataset; convert to float tensors and push to device; I'm passing all the images together since it fits in the GPU\n",
    "    testing_images_ = torch.from_numpy(testing_images[:BATCH_SIZE]).float().reshape( (BATCH_SIZE, CHANNELS, WIDTH, HEIGHT) ).to(device)\n",
    "    #get the reconstructions\n",
    "    reconstructions = model.forward(testing_images_)\n",
    "    testing_loss = loss_function(reconstructions, testing_images_).item()\n",
    "    #Output the MSE loss\n",
    "    print(f'MSE loss on testing: {testing_loss:.8f}')"
   ],
   "metadata": {
    "collapsed": false,
    "pycharm": {
     "name": "#%%\n"
    }
   }
  },
  {
   "cell_type": "code",
   "execution_count": 70,
   "outputs": [
    {
     "data": {
      "text/plain": "<Figure size 432x2160 with 20 Axes>",
      "image/png": "[encoded data removed]"
     },
     "metadata": {
      "needs_background": "light"
     },
     "output_type": "display_data"
    }
   ],
   "source": [
    "#Plot a couple of examples\n",
    "cols, rows = 2, 10\n",
    "image_counter = 1\n",
    "figure = plt.figure(figsize=(3*cols, 3*rows))\n",
    "for i in range(10):\n",
    "    #get a random index\n",
    "    rand_index = random.randint(0, len(testing_images_))\n",
    "    #get the original image, pull back to cpu and convert to numpy\n",
    "    original_img = testing_images_[rand_index].permute(1,2,0).cpu().detach().numpy()\n",
    "    #get the reconstructed image, pull back to cpu and convert to numpy\n",
    "    reconstructed_img = reconstructions[rand_index].permute(1,2,0).cpu().detach().numpy()\n",
    "    \n",
    "    #Add a figure for the original image\n",
    "    figure.add_subplot(rows, cols, image_counter)\n",
    "    plt.axis(\"off\")\n",
    "    plt.imshow(original_img)\n",
    "    image_counter+=1\n",
    "\n",
    "    #Add a figure for the reconstructed image\n",
    "    figure.add_subplot(rows, cols, image_counter)\n",
    "    plt.axis(\"off\")\n",
    "    plt.imshow(reconstructed_img)\n",
    "    image_counter+=1\n",
    "\n",
    "plt.show()\n",
    "figure.savefig(\"vae_reconstruction_MNIST.png\")"
   ],
   "metadata": {
    "collapsed": false,
    "pycharm": {
     "name": "#%%\n"
    }
   }
  },
  {
   "cell_type": "code",
   "execution_count": null,
   "outputs": [],
   "source": [],
   "metadata": {
    "collapsed": false,
    "pycharm": {
     "name": "#%%\n"
    }
   }
  }
 ],
 "metadata": {
  "kernelspec": {
   "display_name": "Python 3",
   "language": "python",
   "name": "python3"
  },
  "language_info": {
   "codemirror_mode": {
    "name": "ipython",
    "version": 2
   },
   "file_extension": ".py",
   "mimetype": "text/x-python",
   "name": "python",
   "nbconvert_exporter": "python",
   "pygments_lexer": "ipython2",
   "version": "2.7.6"
  }
 },
 "nbformat": 4,
 "nbformat_minor": 0
}