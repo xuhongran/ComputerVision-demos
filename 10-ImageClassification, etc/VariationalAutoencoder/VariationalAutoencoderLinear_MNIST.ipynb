{
 "cells": [
  {
   "cell_type": "code",
   "execution_count": 1,
   "outputs": [],
   "source": [
    "#     This program is free software: you can redistribute it and/or modify\n",
    "#     it under the terms of the GNU General Public License as published by\n",
    "#     the Free Software Foundation, either version 3 of the License, or\n",
    "#     (at your option) any later version.\n",
    "#\n",
    "#     This program is distributed in the hope that it will be useful,\n",
    "#     but WITHOUT ANY WARRANTY; without even the implied warranty of\n",
    "#     MERCHANTABILITY or FITNESS FOR A PARTICULAR PURPOSE.  See the\n",
    "#     GNU General Public License for more details.\n",
    "#\n",
    "#     You should have received a copy of the GNU General Public License\n",
    "#     along with this program.  If not, see <https://www.gnu.org/licenses/>.\n",
    "\n",
    "#     Written by Charalambos (Charis) Poullis - www.poullis.org"
   ],
   "metadata": {
    "collapsed": false,
    "pycharm": {
     "name": "#%%\n"
    }
   }
  },
  {
   "cell_type": "code",
   "execution_count": 2,
   "outputs": [],
   "source": [
    "#Import all necessary libraries\n",
    "import torch\n",
    "import torchvision\n",
    "import numpy as np\n",
    "#progress bar functionality\n",
    "import tqdm\n",
    "#plotting etc\n",
    "import matplotlib\n",
    "\n",
    "import matplotlib.pyplot as plt\n",
    "#random number generator\n",
    "import random\n",
    "\n",
    "# There is a weird crash in Python 3.9 causing the kernel to restart when using matplotlib\n",
    "# To test if you have the same issue uncomment the following command. If it works, then you don't need the subsequent 2 lines (import os, KMP)\n",
    "#plt.subplot()\n",
    "import os\n",
    "os.environ[\"KMP_DUPLICATE_LIB_OK\"]=\"TRUE\""
   ],
   "metadata": {
    "collapsed": false,
    "pycharm": {
     "name": "#%%\n"
    }
   }
  },
  {
   "cell_type": "code",
   "execution_count": 3,
   "outputs": [
    {
     "name": "stdout",
     "output_type": "stream",
     "text": [
      "Training dataset: Dataset MNIST\n",
      "    Number of datapoints: 60000\n",
      "    Root location: ../data\n",
      "    Split: Train\n",
      "    StandardTransform\n",
      "Transform: ToTensor()\n",
      "Testing dataset: Dataset MNIST\n",
      "    Number of datapoints: 10000\n",
      "    Root location: ../data\n",
      "    Split: Test\n",
      "    StandardTransform\n",
      "Transform: ToTensor()\n"
     ]
    }
   ],
   "source": [
    "#Set the path for the datasets\n",
    "DATASET_PATH = \"../data\"\n",
    "\n",
    "#MNIST image size 1x28x28\n",
    "CHANNELS = 1\n",
    "WIDTH = 28\n",
    "HEIGHT = 28\n",
    "\n",
    "#Download the training dataset: CIFAR10\n",
    "training_dataset = torchvision.datasets.MNIST(root=DATASET_PATH,\n",
    "                                                train=True,\n",
    "                                                download=True,\n",
    "                                                transform=torchvision.transforms.ToTensor())\n",
    "print('Training dataset:', training_dataset)\n",
    "\n",
    "#Download the testing dataset: CIFAR10\n",
    "testing_dataset = torchvision.datasets.MNIST(root=DATASET_PATH,\n",
    "                                               train=False,\n",
    "                                               download=True,\n",
    "                                               transform=torchvision.transforms.ToTensor())\n",
    "print('Testing dataset:', testing_dataset)  \n",
    "\n",
    "#Create a list with user-friendly names for each label\n",
    "labels=[\"0\", \"1\", \"2\", \"3\", \"4\", \"5\", \"6\", \"7\", \"8\", \"9\"]"
   ],
   "metadata": {
    "collapsed": false,
    "pycharm": {
     "name": "#%%\n"
    }
   }
  },
  {
   "cell_type": "code",
   "execution_count": 4,
   "outputs": [],
   "source": [
    "#This function takes a CIFAR dataset and splits it into two numpy arrays containing\n",
    "#the images and labels, respectively\n",
    "\n",
    "def splitDataset(dataset, channels, width, height):\n",
    "    #Divide the datasets into images and labels\n",
    "    x, y = dataset[0]\n",
    "    \n",
    "    shape = [(i, *j) for i, j in [(len(dataset), x.shape)]][0]\n",
    "    images = np.zeros(shape)\n",
    "    labels = np.zeros((len(dataset), 1))\n",
    "    \n",
    "    for i in range(len(dataset)):\n",
    "        x,y = dataset[i]\n",
    "        images[i] = x\n",
    "        labels[i] = y\n",
    "        \n",
    "    images = np.reshape(images, (len(dataset), channels, width, height))\n",
    "    labels = np.reshape(labels, (len(dataset), 1))\n",
    "    return images, labels"
   ],
   "metadata": {
    "collapsed": false,
    "pycharm": {
     "name": "#%%\n"
    }
   }
  },
  {
   "cell_type": "code",
   "execution_count": 5,
   "outputs": [
    {
     "name": "stdout",
     "output_type": "stream",
     "text": [
      "Training images: 60000, Training labels: 60000\n",
      "Testing images: 10000, Testing labels: 10000\n"
     ]
    }
   ],
   "source": [
    "#Divide the training datasets into images and labels; this is needed later to randomly index from the arrays\n",
    "training_images, training_labels = splitDataset(training_dataset, CHANNELS, WIDTH, HEIGHT)\n",
    "#Do the same for the testing dataset\n",
    "testing_images, testing_labels = splitDataset(testing_dataset, CHANNELS, WIDTH, HEIGHT)   \n",
    "\n",
    "print(f'Training images: {len(training_images)}, Training labels: {len(training_labels)}')\n",
    "print(f'Testing images: {len(testing_images)}, Testing labels: {len(testing_labels)}')"
   ],
   "metadata": {
    "collapsed": false,
    "pycharm": {
     "name": "#%%\n"
    }
   }
  },
  {
   "cell_type": "code",
   "execution_count": 6,
   "outputs": [],
   "source": [
    "#Define the autoencoder; This is a simple autoencoder with 2 convolutional layers in the encoder, and 2 convolutional layers in the decoder\n",
    "#Put simply, an autoencoder learns to reconstruct the input\n",
    "class MyAutoencoder (torch.nn.Module):\n",
    "    def __init__(self, channels, width, height):\n",
    "        super(MyAutoencoder, self).__init__()\n",
    "\n",
    "        #The patch size\n",
    "        self.channels = channels\n",
    "        self.width = width\n",
    "        self.height = height\n",
    "\n",
    "        #The latent dimensions\n",
    "        self.latent_space_dims = 4\n",
    "\n",
    "        #Define a unit Gaussian distribution to be used for sampling\n",
    "        self.unit_gaussian_distribution = torch.distributions.normal.Normal(loc=torch.tensor(0.0).to(device),\n",
    "                                                                            scale=torch.tensor(1.0).to(device))\n",
    "\n",
    "        #The KL divergence\n",
    "        self.KL_div = torch.tensor(0.0)\n",
    "\n",
    "        #Encoder\n",
    "        self.encoder = torch.nn.Sequential(\n",
    "            torch.nn.Linear(in_features=self.channels*self.width*self.height, out_features=512),\n",
    "            torch.nn.ReLU()\n",
    "        )\n",
    "\n",
    "        #μ\n",
    "        self.mu = torch.nn.Linear(in_features=512, out_features=self.latent_space_dims)\n",
    "        #σ\n",
    "        self.sigma = torch.nn.Linear(in_features=512, out_features=self.latent_space_dims)\n",
    "\n",
    "        #Decoder\n",
    "        self.decoder = torch.nn.Sequential(\n",
    "            torch.nn.Linear(in_features=self.latent_space_dims, out_features=512),\n",
    "            torch.nn.ReLU(),\n",
    "            torch.nn.Linear(in_features=512, out_features=self.channels*self.width*self.height),\n",
    "\n",
    "            #At this point the range of the output value is unbound. Let's use Maps the value to the range [0,1] which is expected for colors\n",
    "            torch.nn.Sigmoid()\n",
    "        )\n",
    "        return\n",
    "\n",
    "    def getKLdiv(self):\n",
    "        return self.KL_div\n",
    "    \n",
    "    def forward(self, x):\n",
    "        x = torch.reshape(x, (-1, self.channels*self.width*self.height))\n",
    "        #Feed-forward through the encoder\n",
    "        result = self.encoder(x)\n",
    "        \n",
    "        #Sample z using the Gaussian distribution\n",
    "        mu = self.mu(result)\n",
    "        sigma = torch.exp(self.sigma(result)) #self.sigma(.) can return negative values. We add the exponent to keep the values positive. Otherwise, what is the meaning of having negative standard deviation σ?\n",
    "        z = mu + sigma*self.unit_gaussian_distribution.sample(mu.shape)\n",
    "\n",
    "        #Feed-forward through the decoder\n",
    "        result = self.decoder(z)\n",
    "        result = torch.reshape(result, (-1, self.channels, self.width, self.height))\n",
    "        #Calculate the closed form KL divergence between 2 Gaussians; you want the learnt (μ,σ) to resemble a zero-mean Gaussian distribution with standard deviation of 1.0\n",
    "        self.KL_div = torch.sum(-torch.log(sigma) + mu**2 + sigma**2 - 0.5)\n",
    "\n",
    "        return result"
   ],
   "metadata": {
    "collapsed": false,
    "pycharm": {
     "name": "#%%\n"
    }
   }
  },
  {
   "cell_type": "code",
   "execution_count": 7,
   "outputs": [
    {
     "name": "stdout",
     "output_type": "stream",
     "text": [
      "GPU devices found: 1\n",
      "Device: cuda\n"
     ]
    }
   ],
   "source": [
    "#We'll use GPU is available; check if a GPU is available\n",
    "print(f'GPU devices found: {torch.cuda.device_count()}')\n",
    "device = torch.device(\"cuda\" if torch.cuda.is_available() else \"cpu\")\n",
    "print(f'Device: {device}')"
   ],
   "metadata": {
    "collapsed": false,
    "pycharm": {
     "name": "#%%\n"
    }
   }
  },
  {
   "cell_type": "code",
   "execution_count": 8,
   "outputs": [
    {
     "name": "stdout",
     "output_type": "stream",
     "text": [
      "MyAutoencoder(\n",
      "  (encoder): Sequential(\n",
      "    (0): Linear(in_features=784, out_features=512, bias=True)\n",
      "    (1): ReLU()\n",
      "  )\n",
      "  (mu): Linear(in_features=512, out_features=4, bias=True)\n",
      "  (sigma): Linear(in_features=512, out_features=4, bias=True)\n",
      "  (decoder): Sequential(\n",
      "    (0): Linear(in_features=4, out_features=512, bias=True)\n",
      "    (1): ReLU()\n",
      "    (2): Linear(in_features=512, out_features=784, bias=True)\n",
      "    (3): Sigmoid()\n",
      "  )\n",
      ")\n"
     ]
    }
   ],
   "source": [
    "#Create an instance of the model and print; it should display all the layers and their related information\n",
    "model = MyAutoencoder(CHANNELS, WIDTH, HEIGHT).to(device)\n",
    "print(model)"
   ],
   "metadata": {
    "collapsed": false,
    "pycharm": {
     "name": "#%%\n"
    }
   }
  },
  {
   "cell_type": "code",
   "execution_count": 9,
   "outputs": [
    {
     "name": "stdout",
     "output_type": "stream",
     "text": [
      "torch.Size([1, 28, 28])\n"
     ]
    },
    {
     "data": {
      "text/plain": "tensor([[[[0.4703, 0.4279, 0.5867, 0.3728, 0.5052, 0.5510, 0.5418, 0.3957,\n           0.6855, 0.5539, 0.3842, 0.6474, 0.4689, 0.6169, 0.5199, 0.5577,\n           0.5303, 0.5447, 0.5318, 0.4995, 0.4411, 0.4913, 0.5457, 0.5367,\n           0.3775, 0.4830, 0.5469, 0.3673],\n          [0.4634, 0.6253, 0.5607, 0.5853, 0.5995, 0.4424, 0.5965, 0.4419,\n           0.5185, 0.6660, 0.4738, 0.4709, 0.4914, 0.4911, 0.5583, 0.4743,\n           0.3588, 0.5623, 0.6714, 0.4974, 0.5016, 0.4254, 0.4256, 0.5533,\n           0.5011, 0.4934, 0.5306, 0.3937],\n          [0.3770, 0.4844, 0.3525, 0.5667, 0.5751, 0.4656, 0.5669, 0.4771,\n           0.5454, 0.5907, 0.5458, 0.5821, 0.6173, 0.4807, 0.4239, 0.5280,\n           0.4806, 0.5339, 0.4253, 0.5221, 0.5413, 0.5873, 0.6331, 0.5152,\n           0.4883, 0.2884, 0.5126, 0.3722],\n          [0.4180, 0.4986, 0.4784, 0.5448, 0.5857, 0.4328, 0.6167, 0.6658,\n           0.4819, 0.4684, 0.5904, 0.3390, 0.3912, 0.4073, 0.4924, 0.3855,\n           0.5194, 0.5627, 0.4476, 0.3493, 0.4763, 0.4385, 0.3401, 0.4564,\n           0.4942, 0.4436, 0.3406, 0.3567],\n          [0.6216, 0.4054, 0.5081, 0.4286, 0.5501, 0.4819, 0.4826, 0.3662,\n           0.6471, 0.4526, 0.4796, 0.7235, 0.4820, 0.4904, 0.5476, 0.5192,\n           0.5254, 0.5167, 0.5720, 0.6178, 0.4479, 0.3998, 0.5564, 0.6475,\n           0.5988, 0.3930, 0.4133, 0.5709],\n          [0.4948, 0.4106, 0.3774, 0.3778, 0.6114, 0.4381, 0.4212, 0.5346,\n           0.4655, 0.6513, 0.4792, 0.5627, 0.3757, 0.4504, 0.4808, 0.6231,\n           0.4796, 0.4479, 0.7293, 0.7541, 0.4757, 0.4050, 0.5439, 0.4668,\n           0.3533, 0.3611, 0.5246, 0.4784],\n          [0.4149, 0.6553, 0.5165, 0.4463, 0.6071, 0.3091, 0.4690, 0.5781,\n           0.6069, 0.6050, 0.5448, 0.4782, 0.5622, 0.5122, 0.3801, 0.5156,\n           0.4651, 0.4665, 0.4729, 0.5927, 0.5187, 0.6038, 0.4496, 0.4057,\n           0.5201, 0.4178, 0.5083, 0.5679],\n          [0.2996, 0.6490, 0.4826, 0.4645, 0.4689, 0.4867, 0.3747, 0.5614,\n           0.3881, 0.5319, 0.6225, 0.4139, 0.3184, 0.5410, 0.4061, 0.3671,\n           0.5551, 0.5740, 0.4642, 0.5403, 0.5177, 0.4604, 0.5170, 0.5260,\n           0.4300, 0.5349, 0.4792, 0.6770],\n          [0.5728, 0.4571, 0.6281, 0.4118, 0.4265, 0.4741, 0.6429, 0.4848,\n           0.5551, 0.5765, 0.4786, 0.6002, 0.4937, 0.4992, 0.5701, 0.4629,\n           0.4621, 0.5406, 0.4166, 0.4136, 0.5405, 0.4068, 0.4945, 0.5710,\n           0.5226, 0.3360, 0.5245, 0.5513],\n          [0.4959, 0.5591, 0.6014, 0.4866, 0.5026, 0.5801, 0.3024, 0.4252,\n           0.3747, 0.5993, 0.6602, 0.5555, 0.4644, 0.3618, 0.5948, 0.6038,\n           0.4960, 0.4852, 0.5359, 0.5947, 0.6760, 0.4047, 0.5810, 0.3520,\n           0.4210, 0.5444, 0.5157, 0.5440],\n          [0.5055, 0.5585, 0.4484, 0.5758, 0.3953, 0.5577, 0.5505, 0.6300,\n           0.5582, 0.5676, 0.4198, 0.4137, 0.3472, 0.4679, 0.4010, 0.4578,\n           0.6302, 0.4616, 0.5233, 0.4327, 0.5495, 0.5213, 0.5445, 0.3429,\n           0.4569, 0.5633, 0.5674, 0.5866],\n          [0.3028, 0.4117, 0.6446, 0.4367, 0.5260, 0.3835, 0.5987, 0.5773,\n           0.5701, 0.5061, 0.5310, 0.6438, 0.4630, 0.6815, 0.6394, 0.3222,\n           0.5056, 0.4899, 0.4290, 0.5365, 0.4382, 0.6282, 0.4629, 0.4813,\n           0.4275, 0.4124, 0.4938, 0.3936],\n          [0.5180, 0.6023, 0.4700, 0.6470, 0.3463, 0.4900, 0.5123, 0.5752,\n           0.5742, 0.5007, 0.4504, 0.4818, 0.3843, 0.5747, 0.6006, 0.5493,\n           0.6427, 0.4080, 0.6103, 0.5120, 0.5296, 0.4503, 0.3520, 0.5906,\n           0.4621, 0.5919, 0.5187, 0.5946],\n          [0.5475, 0.5665, 0.4496, 0.6342, 0.4446, 0.4688, 0.4756, 0.4923,\n           0.4224, 0.6201, 0.4096, 0.4898, 0.5425, 0.4549, 0.5611, 0.4157,\n           0.5603, 0.3709, 0.5897, 0.4574, 0.5186, 0.5161, 0.5423, 0.3974,\n           0.4235, 0.3980, 0.5625, 0.5749],\n          [0.5189, 0.5469, 0.4586, 0.5986, 0.4518, 0.5226, 0.4721, 0.4435,\n           0.4333, 0.4838, 0.5847, 0.4441, 0.4447, 0.3504, 0.5855, 0.6423,\n           0.5469, 0.5722, 0.5926, 0.6832, 0.4420, 0.5010, 0.6202, 0.5599,\n           0.6966, 0.5471, 0.4370, 0.4682],\n          [0.5013, 0.4617, 0.5151, 0.4606, 0.7005, 0.5516, 0.4963, 0.4890,\n           0.5532, 0.6293, 0.4200, 0.4806, 0.4557, 0.5364, 0.6365, 0.4887,\n           0.4459, 0.4657, 0.3773, 0.4137, 0.4381, 0.4719, 0.3785, 0.4178,\n           0.4616, 0.4977, 0.6238, 0.1999],\n          [0.4797, 0.4288, 0.4332, 0.5227, 0.5420, 0.4194, 0.5145, 0.3703,\n           0.3741, 0.3767, 0.6258, 0.5745, 0.6451, 0.4612, 0.3861, 0.5759,\n           0.5066, 0.5315, 0.4850, 0.5747, 0.4547, 0.3801, 0.4135, 0.4237,\n           0.4429, 0.4455, 0.4758, 0.5381],\n          [0.5728, 0.5718, 0.5378, 0.5293, 0.5175, 0.6156, 0.4369, 0.5179,\n           0.4414, 0.6432, 0.4976, 0.4878, 0.4922, 0.5345, 0.6255, 0.5117,\n           0.5346, 0.5380, 0.4063, 0.6183, 0.6267, 0.5606, 0.4970, 0.4192,\n           0.4583, 0.4435, 0.6391, 0.4637],\n          [0.6349, 0.3930, 0.5808, 0.4614, 0.5444, 0.5542, 0.3547, 0.5615,\n           0.4945, 0.4251, 0.5438, 0.4505, 0.5585, 0.3419, 0.6027, 0.5044,\n           0.6447, 0.5412, 0.6707, 0.5657, 0.4190, 0.6054, 0.4676, 0.5628,\n           0.3732, 0.4555, 0.4614, 0.6838],\n          [0.6027, 0.5418, 0.5300, 0.6522, 0.4178, 0.5585, 0.4961, 0.4520,\n           0.5994, 0.4946, 0.4744, 0.4235, 0.5484, 0.5220, 0.7145, 0.4576,\n           0.2984, 0.5716, 0.4198, 0.4841, 0.4865, 0.6188, 0.4375, 0.3783,\n           0.3418, 0.5006, 0.4141, 0.5305],\n          [0.4685, 0.6346, 0.3823, 0.5004, 0.5066, 0.4449, 0.4048, 0.5506,\n           0.6299, 0.5154, 0.2975, 0.4662, 0.4168, 0.5777, 0.5314, 0.4660,\n           0.5672, 0.4415, 0.4396, 0.5154, 0.4980, 0.6353, 0.5977, 0.5811,\n           0.5746, 0.4047, 0.5099, 0.5797],\n          [0.7479, 0.3392, 0.5563, 0.5092, 0.5671, 0.3477, 0.4532, 0.5735,\n           0.5106, 0.4969, 0.5431, 0.5327, 0.6157, 0.4757, 0.4556, 0.5003,\n           0.5795, 0.5031, 0.5265, 0.6273, 0.6722, 0.5550, 0.4949, 0.5201,\n           0.5536, 0.4594, 0.4315, 0.5538],\n          [0.3682, 0.4864, 0.6012, 0.4887, 0.4609, 0.6083, 0.4177, 0.4170,\n           0.5636, 0.6860, 0.3374, 0.5965, 0.5270, 0.4666, 0.5333, 0.5033,\n           0.5910, 0.4734, 0.4835, 0.4702, 0.5658, 0.4898, 0.5697, 0.3888,\n           0.6307, 0.3609, 0.4684, 0.5571],\n          [0.3298, 0.5210, 0.3675, 0.5920, 0.3912, 0.5664, 0.5513, 0.4272,\n           0.6411, 0.6467, 0.4404, 0.4998, 0.5206, 0.6309, 0.4836, 0.3459,\n           0.5828, 0.4418, 0.5570, 0.5801, 0.4597, 0.4503, 0.7429, 0.5260,\n           0.5182, 0.4924, 0.3140, 0.4080],\n          [0.4190, 0.4052, 0.4438, 0.4440, 0.5310, 0.4850, 0.3331, 0.6772,\n           0.4748, 0.4932, 0.4447, 0.4653, 0.4996, 0.5150, 0.5044, 0.5553,\n           0.6022, 0.5124, 0.4850, 0.5722, 0.3700, 0.2909, 0.3820, 0.5068,\n           0.5771, 0.3932, 0.4169, 0.5703],\n          [0.5605, 0.5767, 0.3488, 0.4545, 0.5090, 0.6305, 0.4915, 0.6362,\n           0.5577, 0.5647, 0.3015, 0.4336, 0.3786, 0.4599, 0.4413, 0.6481,\n           0.4529, 0.4358, 0.4453, 0.5228, 0.4329, 0.4888, 0.4690, 0.5272,\n           0.4404, 0.6084, 0.5938, 0.6346],\n          [0.3961, 0.4902, 0.4348, 0.4201, 0.5299, 0.5117, 0.5955, 0.3409,\n           0.6819, 0.6002, 0.4900, 0.5411, 0.5602, 0.5228, 0.5828, 0.5849,\n           0.6103, 0.4474, 0.3762, 0.4691, 0.4922, 0.5560, 0.6678, 0.5071,\n           0.6327, 0.6702, 0.3455, 0.4334],\n          [0.5425, 0.3638, 0.4222, 0.5440, 0.4531, 0.3873, 0.5892, 0.4814,\n           0.5098, 0.4504, 0.4955, 0.5544, 0.4794, 0.7549, 0.5498, 0.5559,\n           0.4701, 0.4315, 0.5834, 0.4495, 0.4547, 0.5312, 0.3082, 0.5129,\n           0.4307, 0.5408, 0.5639, 0.5331]]]], device='cuda:0',\n       grad_fn=<ReshapeAliasBackward0>)"
     },
     "execution_count": 9,
     "metadata": {},
     "output_type": "execute_result"
    }
   ],
   "source": [
    "#SANITY CHECK: Feed forward an image and check for errors\n",
    "#Pull the first image from the training images, and convert to a float tensor\n",
    "img = torch.from_numpy(training_images[0]).float()\n",
    "print(img.shape)\n",
    "\n",
    "#The input to the autoencoder is [batch_size, 3, 32, 32]; convert the image's shape [3,32,32] to [1,3,32,32] and push to device\n",
    "img = torch.reshape(img, (1, CHANNELS, WIDTH, HEIGHT)).to(device)\n",
    "\n",
    "#feed forward the image to the network and make sure it works with no errors\n",
    "model.forward(img)"
   ],
   "metadata": {
    "collapsed": false,
    "pycharm": {
     "name": "#%%\n"
    }
   }
  },
  {
   "cell_type": "code",
   "execution_count": 10,
   "outputs": [],
   "source": [
    "#Switch to 0; otherwise it will load the saved weights\n",
    "if 1:\n",
    "    model.load_state_dict(torch.load(\"trained_weights_linear_MNIST.save\"))\n",
    "    model.eval()"
   ],
   "metadata": {
    "collapsed": false,
    "pycharm": {
     "name": "#%%\n"
    }
   }
  },
  {
   "cell_type": "code",
   "execution_count": 11,
   "outputs": [
    {
     "name": "stderr",
     "output_type": "stream",
     "text": [
      "loss: 3652.26123047: 100%|████████████████████████████████████████████| 1/1 [00:02<00:00,  2.03s/it]"
     ]
    },
    {
     "name": "stdout",
     "output_type": "stream",
     "text": [
      "Final loss on training: 3652.26123047\n"
     ]
    },
    {
     "name": "stderr",
     "output_type": "stream",
     "text": [
      "\n"
     ]
    }
   ],
   "source": [
    "#TRAINING\n",
    "\n",
    "#define the hyperparameters\n",
    "BATCH_SIZE = 100\n",
    "EPOCHS=200\n",
    "LEARNING_RATE=0.00001\n",
    "\n",
    "\n",
    "#Create an optimizer and pass the model's parameters\n",
    "optimizer = torch.optim.SGD(model.parameters(), lr=LEARNING_RATE)\n",
    "\n",
    "#Define a loss function; we'll pick mean squared error since we are reconstructing the original\n",
    "loss_function = torch.nn.MSELoss(reduction='sum')\n",
    "\n",
    "#training image indices; [0, 1, 2, 3 ....., 49999]\n",
    "training_dataset_indices = torch.arange(0, len(training_dataset))\n",
    "\n",
    "#keep track of the losses for plotting at the end\n",
    "losses = list()\n",
    "\n",
    "#Create a progress bar the size of the number of epochs\n",
    "status_bar = tqdm.tqdm(range(EPOCHS), ncols=100, desc='loss: ')\n",
    "for i in status_bar:\n",
    "    #At each iteration, perform a permutation of the training_dataset_indices; this ensures that we will use all images and avoid duplication\n",
    "    random_permutation = torch.randperm(training_dataset_indices.size()[0])\n",
    "\n",
    "    #Get BATCH_SIZE number of training images at each epoch; because we sample from an array there will be no duplicates\n",
    "    loss = None\n",
    "    for b in range(0,training_dataset_indices.size()[0], BATCH_SIZE):\n",
    "        #Zero out the gradients\n",
    "        optimizer.zero_grad()\n",
    "\n",
    "        #Get the indices of the training images in this batch\n",
    "        batch_indices = random_permutation[b:b+BATCH_SIZE]\n",
    "        #we only need to get the images; the labels are irrelevant in the context of an autoencoder\n",
    "        batch_images = training_images[batch_indices]\n",
    "        #convert to float tensors and push to device\n",
    "        batch_images = torch.from_numpy(batch_images).float().to(device)\n",
    "\n",
    "        #feed forward through the network's layers and get the reconstruction\n",
    "        reconstructions = model.forward(batch_images)\n",
    "        \n",
    "        #Calculate the MSE between the reconstructions and the input images plus the KL divergence of the learnt distribution from a zero-mean Gaussian of standard deviation of 1.0; the optimal value for this loss is 0\n",
    "        loss = loss_function(reconstructions, batch_images) + model.getKLdiv()\n",
    "\n",
    "        #keep track of the losses per batch, per epoch it to the list; used for plotting later on\n",
    "        losses.append(loss.item())\n",
    "        \n",
    "        #backpropagate gradients\n",
    "        loss.backward()\n",
    "        #single gradient descent step; update all network parameters based on the gradient\n",
    "        optimizer.step()\n",
    "    \n",
    "    #After every epoch update the loss function\n",
    "    status_bar.set_description(f'loss: {loss.item():.8f}')\n",
    "\n",
    "#Output the final loss on the training dataset\n",
    "print(f'Final loss on training: {loss.item():.8f}')"
   ],
   "metadata": {
    "collapsed": false,
    "pycharm": {
     "name": "#%%\n"
    }
   }
  },
  {
   "cell_type": "code",
   "execution_count": 12,
   "outputs": [],
   "source": [
    "#Switch to 0, otherwise it will overwrite the saved weights\n",
    "if 0:\n",
    "    torch.save(model.state_dict(), \"trained_weights_linear_MNIST.save\")"
   ],
   "metadata": {
    "collapsed": false,
    "pycharm": {
     "name": "#%%\n"
    }
   }
  },
  {
   "cell_type": "code",
   "execution_count": 15,
   "outputs": [
    {
     "data": {
      "text/plain": "<Figure size 432x288 with 1 Axes>",
      "image/png": "[encoded data removed]"
     },
     "metadata": {
      "needs_background": "light"
     },
     "output_type": "display_data"
    }
   ],
   "source": [
    "#Plot the loss as a function of epochs\n",
    "fig, ax = plt.subplots(1,1)\n",
    "ax.plot(list(range(EPOCHS*int(len(training_dataset)/BATCH_SIZE))), np.array(losses))\n",
    "ax.set_title('Loss on training dataset')\n",
    "ax.set_xlabel('epoch')\n",
    "ax.set_ylabel('MSE')\n",
    "plt.show()\n",
    "fig.savefig(\"vae_loss_linear_MNIST.png\")"
   ],
   "metadata": {
    "collapsed": false,
    "pycharm": {
     "name": "#%%\n"
    }
   }
  },
  {
   "cell_type": "code",
   "execution_count": 16,
   "outputs": [
    {
     "name": "stdout",
     "output_type": "stream",
     "text": [
      "MSE loss on testing: 2845.61376953\n"
     ]
    }
   ],
   "source": [
    "with torch.no_grad():\n",
    "    #Calculate MSE on the testing dataset; convert to float tensors and push to device; I'm passing all the images together since it fits in the GPU\n",
    "    testing_images_ = torch.from_numpy(testing_images[:BATCH_SIZE]).float().reshape( (BATCH_SIZE, CHANNELS, WIDTH, HEIGHT) ).to(device)\n",
    "    #get the reconstructions\n",
    "    reconstructions = model.forward(testing_images_)\n",
    "    testing_loss = loss_function(reconstructions, testing_images_).item()\n",
    "    #Output the MSE loss\n",
    "    print(f'MSE loss on testing: {testing_loss:.8f}')"
   ],
   "metadata": {
    "collapsed": false,
    "pycharm": {
     "name": "#%%\n"
    }
   }
  },
  {
   "cell_type": "code",
   "execution_count": 17,
   "outputs": [
    {
     "data": {
      "text/plain": "<Figure size 2160x432 with 20 Axes>",
      "image/png": "[encoded data removed]"
     },
     "metadata": {
      "needs_background": "light"
     },
     "output_type": "display_data"
    }
   ],
   "source": [
    "#Plot a couple of examples\n",
    "cols, rows = 10, 2\n",
    "image_counter = 1\n",
    "figure = plt.figure(figsize=(3*cols, 3*rows))\n",
    "for i in range(10):\n",
    "    #get a random index\n",
    "    rand_index = random.randint(0, len(testing_images_))\n",
    "    #get the original image, pull back to cpu and convert to numpy\n",
    "    original_img = testing_images_[rand_index].permute(1,2,0).cpu().detach().numpy()\n",
    "    #get the reconstructed image, pull back to cpu and convert to numpy\n",
    "    reconstructed_img = reconstructions[rand_index].permute(1,2,0).cpu().detach().numpy()\n",
    "    \n",
    "    #Add a figure for the original image\n",
    "    figure.add_subplot(rows, cols, image_counter)\n",
    "    plt.axis(\"off\")\n",
    "    plt.imshow(original_img)\n",
    "\n",
    "    #Add a figure for the reconstructed image\n",
    "    figure.add_subplot(rows, cols, image_counter+10)\n",
    "    plt.axis(\"off\")\n",
    "    plt.imshow(reconstructed_img)\n",
    "    image_counter+=1\n",
    "\n",
    "plt.show()\n",
    "figure.savefig(\"vae_reconstruction_linear_MNIST.png\")"
   ],
   "metadata": {
    "collapsed": false,
    "pycharm": {
     "name": "#%%\n"
    }
   }
  },
  {
   "cell_type": "code",
   "execution_count": null,
   "outputs": [],
   "source": [],
   "metadata": {
    "collapsed": false,
    "pycharm": {
     "name": "#%%\n",
     "is_executing": true
    }
   }
  }
 ],
 "metadata": {
  "kernelspec": {
   "display_name": "Python 3",
   "language": "python",
   "name": "python3"
  },
  "language_info": {
   "codemirror_mode": {
    "name": "ipython",
    "version": 2
   },
   "file_extension": ".py",
   "mimetype": "text/x-python",
   "name": "python",
   "nbconvert_exporter": "python",
   "pygments_lexer": "ipython2",
   "version": "2.7.6"
  }
 },
 "nbformat": 4,
 "nbformat_minor": 0
}