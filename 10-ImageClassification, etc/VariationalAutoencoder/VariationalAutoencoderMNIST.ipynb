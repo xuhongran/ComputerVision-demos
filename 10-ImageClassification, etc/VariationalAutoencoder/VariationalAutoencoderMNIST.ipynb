{
 "cells": [
  {
   "cell_type": "code",
   "execution_count": 3,
   "outputs": [],
   "source": [
    "#     This program is free software: you can redistribute it and/or modify\n",
    "#     it under the terms of the GNU General Public License as published by\n",
    "#     the Free Software Foundation, either version 3 of the License, or\n",
    "#     (at your option) any later version.\n",
    "#\n",
    "#     This program is distributed in the hope that it will be useful,\n",
    "#     but WITHOUT ANY WARRANTY; without even the implied warranty of\n",
    "#     MERCHANTABILITY or FITNESS FOR A PARTICULAR PURPOSE.  See the\n",
    "#     GNU General Public License for more details.\n",
    "#\n",
    "#     You should have received a copy of the GNU General Public License\n",
    "#     along with this program.  If not, see <https://www.gnu.org/licenses/>.\n",
    "\n",
    "#     Written by Charalambos (Charis) Poullis - www.poullis.org"
   ],
   "metadata": {
    "collapsed": false,
    "pycharm": {
     "name": "#%%\n"
    }
   }
  },
  {
   "cell_type": "code",
   "execution_count": 4,
   "outputs": [],
   "source": [
    "#Import all necessary libraries\n",
    "import torch\n",
    "import torchvision\n",
    "import numpy as np\n",
    "#progress bar functionality\n",
    "import tqdm\n",
    "#plotting etc\n",
    "import matplotlib\n",
    "\n",
    "import matplotlib.pyplot as plt\n",
    "#random number generator\n",
    "import random\n",
    "\n",
    "# There is a weird crash in Python 3.9 causing the kernel to restart when using matplotlib\n",
    "# To test if you have the same issue uncomment the following command. If it works, then you don't need the subsequent 2 lines (import os, KMP)\n",
    "#plt.subplot()\n",
    "import os\n",
    "os.environ[\"KMP_DUPLICATE_LIB_OK\"]=\"TRUE\""
   ],
   "metadata": {
    "collapsed": false,
    "pycharm": {
     "name": "#%%\n"
    }
   }
  },
  {
   "cell_type": "code",
   "execution_count": 5,
   "outputs": [
    {
     "name": "stdout",
     "output_type": "stream",
     "text": [
      "Training dataset: Dataset MNIST\n",
      "    Number of datapoints: 60000\n",
      "    Root location: ../data\n",
      "    Split: Train\n",
      "    StandardTransform\n",
      "Transform: Compose(\n",
      "               ToTensor()\n",
      "               Normalize(mean=[0.0], std=[1.0])\n",
      "           )\n",
      "Testing dataset: Dataset MNIST\n",
      "    Number of datapoints: 10000\n",
      "    Root location: ../data\n",
      "    Split: Test\n",
      "    StandardTransform\n",
      "Transform: Compose(\n",
      "               ToTensor()\n",
      "               Normalize(mean=[0.0], std=[1.0])\n",
      "           )\n"
     ]
    }
   ],
   "source": [
    "#Set the path for the datasets\n",
    "DATASET_PATH = \"../data\"\n",
    "\n",
    "#MNIST image size 1x28x28\n",
    "CHANNELS = 1\n",
    "WIDTH = 28\n",
    "HEIGHT = 28\n",
    "\n",
    "#Define a normalization transform to be applied to the dataset\n",
    "my_transforms = torchvision.transforms.Compose([\n",
    "    torchvision.transforms.ToTensor(),\n",
    "    torchvision.transforms.Normalize(mean=[0.0], std=[1.0]),\n",
    "])\n",
    "\n",
    "#Download the training dataset: CIFAR10\n",
    "training_dataset = torchvision.datasets.MNIST(root=DATASET_PATH,\n",
    "                                                train=True,\n",
    "                                                download=True,\n",
    "                                                transform=my_transforms)#torchvision.transforms.ToTensor())\n",
    "print('Training dataset:', training_dataset)\n",
    "\n",
    "#Download the testing dataset: CIFAR10\n",
    "testing_dataset = torchvision.datasets.MNIST(root=DATASET_PATH,\n",
    "                                               train=False,\n",
    "                                               download=True,\n",
    "                                               transform=my_transforms)#torchvision.transforms.ToTensor())\n",
    "print('Testing dataset:', testing_dataset)  \n",
    "\n",
    "#Create a list with user-friendly names for each label\n",
    "labels=[\"0\", \"1\", \"2\", \"3\", \"4\", \"5\", \"6\", \"7\", \"8\", \"9\"]"
   ],
   "metadata": {
    "collapsed": false,
    "pycharm": {
     "name": "#%%\n"
    }
   }
  },
  {
   "cell_type": "code",
   "execution_count": 6,
   "outputs": [],
   "source": [
    "#This function takes a CIFAR dataset and splits it into two numpy arrays containing\n",
    "#the images and labels, respectively\n",
    "\n",
    "def splitDataset(dataset, channels, width, height):\n",
    "    #Divide the datasets into images and labels\n",
    "    x, y = dataset[0]\n",
    "    \n",
    "    shape = [(i, *j) for i, j in [(len(dataset), x.shape)]][0]\n",
    "    images = np.zeros(shape)\n",
    "    labels = np.zeros((len(dataset), 1))\n",
    "    \n",
    "    for i in range(len(dataset)):\n",
    "        x,y = dataset[i]\n",
    "        images[i] = x\n",
    "        labels[i] = y\n",
    "        \n",
    "    images = np.reshape(images, (len(dataset), channels, width, height))\n",
    "    labels = np.reshape(labels, (len(dataset), 1))\n",
    "    return images, labels"
   ],
   "metadata": {
    "collapsed": false,
    "pycharm": {
     "name": "#%%\n"
    }
   }
  },
  {
   "cell_type": "code",
   "execution_count": 7,
   "outputs": [
    {
     "name": "stdout",
     "output_type": "stream",
     "text": [
      "Training images: 60000, Training labels: 60000\n",
      "Testing images: 10000, Testing labels: 10000\n"
     ]
    }
   ],
   "source": [
    "#Divide the training datasets into images and labels; this is needed later to randomly index from the arrays\n",
    "training_images, training_labels = splitDataset(training_dataset, CHANNELS, WIDTH, HEIGHT)\n",
    "#Do the same for the testing dataset\n",
    "testing_images, testing_labels = splitDataset(testing_dataset, CHANNELS, WIDTH, HEIGHT)   \n",
    "\n",
    "print(f'Training images: {len(training_images)}, Training labels: {len(training_labels)}')\n",
    "print(f'Testing images: {len(testing_images)}, Testing labels: {len(testing_labels)}')"
   ],
   "metadata": {
    "collapsed": false,
    "pycharm": {
     "name": "#%%\n"
    }
   }
  },
  {
   "cell_type": "code",
   "execution_count": 98,
   "outputs": [],
   "source": [
    "#Define the autoencoder; This is a simple autoencoder with 2 convolutional layers in the encoder, and 2 convolutional layers in the decoder\n",
    "#Put simply, an autoencoder learns to reconstruct the input\n",
    "class MyAutoencoder (torch.nn.Module):\n",
    "    def __init__(self, channels, width, height):\n",
    "        super(MyAutoencoder, self).__init__()\n",
    "\n",
    "        #The patch size\n",
    "        self.channels = channels\n",
    "        self.width = width\n",
    "        self.height = height\n",
    "\n",
    "        #The latent dimensions\n",
    "        self.latent_space_dims = 4\n",
    "\n",
    "        #Define a unit Gaussian distribution to be used for sampling\n",
    "        self.unit_gaussian_distribution = torch.distributions.normal.Normal(loc=torch.tensor(0.0).to(device),\n",
    "                                                                            scale=torch.tensor(1.0).to(device))\n",
    "\n",
    "        #The KL divergence\n",
    "        self.KL_div = torch.tensor(0.0)\n",
    "\n",
    "        #Encoder\n",
    "        self.encoder = torch.nn.Sequential(\n",
    "            torch.nn.Linear(in_features=self.channels*self.width*self.height, out_features=512),\n",
    "            torch.nn.ReLU()\n",
    "        )\n",
    "\n",
    "        #μ\n",
    "        self.mu = torch.nn.Linear(in_features=512, out_features=self.latent_space_dims)\n",
    "        #σ\n",
    "        self.sigma = torch.nn.Linear(in_features=512, out_features=self.latent_space_dims)\n",
    "\n",
    "        #Decoder\n",
    "        self.decoder = torch.nn.Sequential(\n",
    "            torch.nn.Linear(in_features=self.latent_space_dims, out_features=512),\n",
    "            torch.nn.ReLU(),\n",
    "            torch.nn.Linear(in_features=512, out_features=self.channels*self.width*self.height),\n",
    "\n",
    "            #At this point the range of the output value is unbound. Let's use Maps the value to the range [0,1] which is expected for colors\n",
    "            torch.nn.Sigmoid()\n",
    "        )\n",
    "        return\n",
    "\n",
    "    def getKLdiv(self):\n",
    "        return self.KL_div\n",
    "    \n",
    "    def forward(self, x):\n",
    "        x = torch.reshape(x, (-1, self.channels*self.width*self.height))\n",
    "        #Feed-forward through the encoder\n",
    "        result = self.encoder(x)\n",
    "        \n",
    "        #Sample z using the Gaussian distribution\n",
    "        mu = self.mu(result)\n",
    "        sigma = torch.exp(self.sigma(result)) #self.sigma(.) can return negative values. We add the exponent to keep the values positive. Otherwise, what is the meaning of having negative standard deviation σ?\n",
    "        z = mu + sigma*self.unit_gaussian_distribution.sample(mu.shape)\n",
    "\n",
    "        #Feed-forward through the decoder\n",
    "        result = self.decoder(z)\n",
    "        result = torch.reshape(result, (-1, self.channels, self.width, self.height))\n",
    "        #Calculate the closed form KL divergence between 2 Gaussians; you want the learnt (μ,σ) to resemble a zero-mean Gaussian distribution with standard deviation of 1.0\n",
    "        self.KL_div = torch.sum(-torch.log(sigma) + mu**2 + sigma**2 - 0.5)\n",
    "\n",
    "        return result"
   ],
   "metadata": {
    "collapsed": false,
    "pycharm": {
     "name": "#%%\n"
    }
   }
  },
  {
   "cell_type": "code",
   "execution_count": 99,
   "outputs": [
    {
     "name": "stdout",
     "output_type": "stream",
     "text": [
      "GPU devices found: 1\n",
      "Device: cuda\n"
     ]
    }
   ],
   "source": [
    "#We'll use GPU is available; check if a GPU is available\n",
    "print(f'GPU devices found: {torch.cuda.device_count()}')\n",
    "device = torch.device(\"cuda\" if torch.cuda.is_available() else \"cpu\")\n",
    "print(f'Device: {device}')"
   ],
   "metadata": {
    "collapsed": false,
    "pycharm": {
     "name": "#%%\n"
    }
   }
  },
  {
   "cell_type": "code",
   "execution_count": 100,
   "outputs": [
    {
     "name": "stdout",
     "output_type": "stream",
     "text": [
      "MyAutoencoder(\n",
      "  (encoder): Sequential(\n",
      "    (0): Linear(in_features=784, out_features=512, bias=True)\n",
      "    (1): ReLU()\n",
      "  )\n",
      "  (mu): Linear(in_features=512, out_features=4, bias=True)\n",
      "  (sigma): Linear(in_features=512, out_features=4, bias=True)\n",
      "  (decoder): Sequential(\n",
      "    (0): Linear(in_features=4, out_features=512, bias=True)\n",
      "    (1): ReLU()\n",
      "    (2): Linear(in_features=512, out_features=784, bias=True)\n",
      "    (3): Sigmoid()\n",
      "  )\n",
      ")\n"
     ]
    }
   ],
   "source": [
    "#Create an instance of the model and print; it should display all the layers and their related information\n",
    "model = MyAutoencoder(CHANNELS, WIDTH, HEIGHT).to(device)\n",
    "print(model)"
   ],
   "metadata": {
    "collapsed": false,
    "pycharm": {
     "name": "#%%\n"
    }
   }
  },
  {
   "cell_type": "code",
   "execution_count": 101,
   "outputs": [
    {
     "name": "stdout",
     "output_type": "stream",
     "text": [
      "torch.Size([1, 28, 28])\n"
     ]
    },
    {
     "data": {
      "text/plain": "tensor([[[[0.5262, 0.4254, 0.4789, 0.5853, 0.4342, 0.5095, 0.5389, 0.4323,\n           0.5127, 0.5440, 0.5031, 0.5459, 0.4796, 0.4287, 0.5092, 0.4796,\n           0.4960, 0.4829, 0.4150, 0.5316, 0.5282, 0.4704, 0.5366, 0.4777,\n           0.4734, 0.4783, 0.4439, 0.4351],\n          [0.5414, 0.5366, 0.4818, 0.6284, 0.5592, 0.5125, 0.5330, 0.5894,\n           0.5304, 0.4344, 0.5996, 0.4594, 0.4829, 0.5070, 0.5005, 0.4752,\n           0.5016, 0.5447, 0.5519, 0.4766, 0.4956, 0.5009, 0.4965, 0.4503,\n           0.5112, 0.5063, 0.5526, 0.4831],\n          [0.5320, 0.4437, 0.5889, 0.5819, 0.3881, 0.4291, 0.4920, 0.4165,\n           0.5227, 0.4968, 0.4951, 0.5824, 0.4232, 0.5098, 0.4425, 0.5196,\n           0.4689, 0.5326, 0.5045, 0.5226, 0.5898, 0.4412, 0.4767, 0.5760,\n           0.4703, 0.4891, 0.4542, 0.5239],\n          [0.4101, 0.4662, 0.4724, 0.5557, 0.4577, 0.5595, 0.4134, 0.5862,\n           0.5728, 0.4752, 0.6012, 0.5193, 0.5217, 0.5260, 0.5105, 0.3882,\n           0.5597, 0.4150, 0.4294, 0.5369, 0.4738, 0.4058, 0.5304, 0.5124,\n           0.5396, 0.5628, 0.5904, 0.4713],\n          [0.4975, 0.5682, 0.4142, 0.5828, 0.4885, 0.4971, 0.4352, 0.5140,\n           0.4905, 0.5149, 0.4626, 0.4407, 0.4065, 0.4498, 0.5198, 0.5012,\n           0.5600, 0.5013, 0.4097, 0.4647, 0.5131, 0.6172, 0.4973, 0.5744,\n           0.5092, 0.4930, 0.5611, 0.4619],\n          [0.4994, 0.5696, 0.6035, 0.4928, 0.4770, 0.5002, 0.4573, 0.4601,\n           0.5448, 0.5370, 0.3887, 0.4877, 0.4370, 0.5014, 0.5769, 0.4249,\n           0.5711, 0.4414, 0.5461, 0.4649, 0.5610, 0.4352, 0.5042, 0.5483,\n           0.5279, 0.4679, 0.5176, 0.4269],\n          [0.4860, 0.4544, 0.4271, 0.4471, 0.4583, 0.4667, 0.5420, 0.4223,\n           0.5098, 0.4922, 0.4682, 0.4547, 0.4998, 0.4879, 0.4426, 0.5368,\n           0.5388, 0.4320, 0.4457, 0.4566, 0.4706, 0.5333, 0.4437, 0.5088,\n           0.5320, 0.4576, 0.5164, 0.5475],\n          [0.5944, 0.4474, 0.5005, 0.4554, 0.5057, 0.5364, 0.5429, 0.5395,\n           0.5292, 0.4928, 0.4634, 0.4972, 0.4734, 0.5062, 0.5227, 0.4966,\n           0.4811, 0.4900, 0.4290, 0.5131, 0.5058, 0.5390, 0.5314, 0.5613,\n           0.5733, 0.5064, 0.4615, 0.4331],\n          [0.5462, 0.4794, 0.5130, 0.4506, 0.5705, 0.4984, 0.4657, 0.4486,\n           0.4580, 0.3692, 0.4836, 0.4292, 0.5432, 0.5636, 0.5244, 0.5090,\n           0.4602, 0.3895, 0.4999, 0.4141, 0.4493, 0.4971, 0.4221, 0.5726,\n           0.4881, 0.4504, 0.5118, 0.4673],\n          [0.5353, 0.5285, 0.4998, 0.5226, 0.5568, 0.5064, 0.5286, 0.4873,\n           0.4345, 0.5288, 0.4630, 0.5067, 0.5057, 0.4238, 0.4742, 0.5701,\n           0.4648, 0.5274, 0.5661, 0.4743, 0.4574, 0.4896, 0.4446, 0.4685,\n           0.5350, 0.5732, 0.5214, 0.5062],\n          [0.5091, 0.4936, 0.5251, 0.5339, 0.5002, 0.4483, 0.4769, 0.4791,\n           0.5523, 0.6159, 0.5130, 0.4462, 0.4910, 0.5416, 0.4693, 0.5239,\n           0.4194, 0.4234, 0.4702, 0.4617, 0.4557, 0.5338, 0.4749, 0.4996,\n           0.4812, 0.5363, 0.4871, 0.4744],\n          [0.4357, 0.4754, 0.5446, 0.5457, 0.4735, 0.4684, 0.5444, 0.5052,\n           0.5167, 0.4533, 0.4034, 0.5088, 0.5846, 0.4391, 0.4418, 0.5598,\n           0.5201, 0.4352, 0.4687, 0.5052, 0.4496, 0.4344, 0.3972, 0.5474,\n           0.5119, 0.3668, 0.4839, 0.4835],\n          [0.5180, 0.5377, 0.4758, 0.5186, 0.4871, 0.4273, 0.4694, 0.4698,\n           0.5160, 0.5349, 0.4967, 0.5745, 0.4337, 0.5375, 0.4553, 0.5342,\n           0.5169, 0.5562, 0.4797, 0.5586, 0.4780, 0.5070, 0.5034, 0.4944,\n           0.5344, 0.4593, 0.5201, 0.5495],\n          [0.5384, 0.4258, 0.5721, 0.4734, 0.4552, 0.4900, 0.4915, 0.5068,\n           0.4458, 0.5281, 0.4988, 0.4839, 0.5525, 0.5016, 0.4686, 0.5496,\n           0.4444, 0.4294, 0.4793, 0.4884, 0.5087, 0.5048, 0.5202, 0.5097,\n           0.4873, 0.4741, 0.5243, 0.4455],\n          [0.5198, 0.5635, 0.5414, 0.6115, 0.5176, 0.4356, 0.4906, 0.4975,\n           0.4768, 0.5943, 0.4867, 0.5254, 0.4357, 0.4952, 0.4312, 0.5684,\n           0.5113, 0.4772, 0.4883, 0.5720, 0.4838, 0.4919, 0.5688, 0.4808,\n           0.4868, 0.6031, 0.4705, 0.5087],\n          [0.4773, 0.5389, 0.4567, 0.4836, 0.4762, 0.5337, 0.4181, 0.5041,\n           0.4755, 0.4617, 0.5537, 0.5506, 0.4960, 0.5680, 0.5370, 0.4876,\n           0.5378, 0.4708, 0.5061, 0.4953, 0.4882, 0.4158, 0.5138, 0.4689,\n           0.5143, 0.5286, 0.5004, 0.4766],\n          [0.5199, 0.5702, 0.4672, 0.5466, 0.4774, 0.4754, 0.4608, 0.4216,\n           0.4862, 0.5282, 0.5575, 0.5200, 0.5582, 0.5542, 0.5442, 0.5041,\n           0.3450, 0.5344, 0.5331, 0.5413, 0.4746, 0.5089, 0.5132, 0.4610,\n           0.5179, 0.4692, 0.5148, 0.5141],\n          [0.6108, 0.5529, 0.5288, 0.4344, 0.4825, 0.4799, 0.4406, 0.4968,\n           0.5130, 0.5063, 0.4019, 0.4183, 0.4657, 0.5153, 0.5059, 0.5090,\n           0.5364, 0.5026, 0.5009, 0.4768, 0.3733, 0.5192, 0.4331, 0.5191,\n           0.5125, 0.5197, 0.5511, 0.4657],\n          [0.5727, 0.5051, 0.5420, 0.4397, 0.4920, 0.5670, 0.4498, 0.5141,\n           0.4883, 0.5976, 0.4917, 0.5387, 0.5270, 0.4604, 0.5069, 0.5222,\n           0.5636, 0.5064, 0.5051, 0.5641, 0.4449, 0.4917, 0.5030, 0.5240,\n           0.4113, 0.4352, 0.5228, 0.4108],\n          [0.5619, 0.4778, 0.4874, 0.5367, 0.4086, 0.5004, 0.5025, 0.4265,\n           0.5415, 0.4742, 0.4204, 0.4706, 0.5550, 0.4729, 0.5179, 0.5371,\n           0.4749, 0.4760, 0.4696, 0.4710, 0.5398, 0.5779, 0.4712, 0.4291,\n           0.4680, 0.4864, 0.4513, 0.4774],\n          [0.5626, 0.3912, 0.5205, 0.5792, 0.4983, 0.4922, 0.4917, 0.5940,\n           0.4584, 0.4221, 0.4456, 0.5081, 0.5514, 0.4508, 0.5429, 0.4810,\n           0.4785, 0.4637, 0.5509, 0.4970, 0.5120, 0.4674, 0.4318, 0.4881,\n           0.5591, 0.5051, 0.4742, 0.5035],\n          [0.4555, 0.4688, 0.5212, 0.6249, 0.5249, 0.5154, 0.4830, 0.6485,\n           0.5002, 0.4561, 0.4745, 0.6208, 0.5020, 0.5486, 0.5134, 0.4132,\n           0.5479, 0.5376, 0.4950, 0.5344, 0.4492, 0.4737, 0.5524, 0.5039,\n           0.5295, 0.4776, 0.5131, 0.4570],\n          [0.5927, 0.4621, 0.5025, 0.4901, 0.4249, 0.5115, 0.4541, 0.4413,\n           0.4859, 0.5970, 0.5985, 0.4919, 0.5703, 0.4818, 0.4599, 0.5974,\n           0.5729, 0.5175, 0.5562, 0.4805, 0.4826, 0.4655, 0.4495, 0.4504,\n           0.4831, 0.5425, 0.5060, 0.4229],\n          [0.5475, 0.4816, 0.5680, 0.5391, 0.5061, 0.5229, 0.4945, 0.5820,\n           0.4496, 0.4960, 0.5126, 0.5747, 0.5345, 0.4328, 0.5083, 0.4545,\n           0.4962, 0.4574, 0.4678, 0.4602, 0.3728, 0.5093, 0.4984, 0.4601,\n           0.5352, 0.4343, 0.4559, 0.5243],\n          [0.6094, 0.4979, 0.3974, 0.4803, 0.3868, 0.4960, 0.4814, 0.4785,\n           0.4945, 0.4534, 0.5394, 0.5543, 0.4715, 0.5355, 0.4433, 0.4284,\n           0.5163, 0.4999, 0.5025, 0.3868, 0.4414, 0.4663, 0.5297, 0.5764,\n           0.4425, 0.5133, 0.4774, 0.5099],\n          [0.5535, 0.4379, 0.4627, 0.4241, 0.4799, 0.5203, 0.4885, 0.5432,\n           0.5079, 0.4698, 0.5593, 0.5686, 0.5201, 0.5084, 0.5884, 0.6116,\n           0.5310, 0.5228, 0.5568, 0.5065, 0.5551, 0.5703, 0.4511, 0.5404,\n           0.4482, 0.5049, 0.4972, 0.5064],\n          [0.5202, 0.5145, 0.5401, 0.4678, 0.6094, 0.5610, 0.5042, 0.4717,\n           0.5748, 0.5540, 0.4799, 0.4934, 0.4389, 0.4488, 0.5111, 0.4636,\n           0.4499, 0.4798, 0.4686, 0.4820, 0.5670, 0.5374, 0.5288, 0.4643,\n           0.4359, 0.5075, 0.5204, 0.4789],\n          [0.4151, 0.5176, 0.6194, 0.5115, 0.5855, 0.4714, 0.4910, 0.4996,\n           0.5090, 0.3516, 0.4635, 0.4845, 0.4662, 0.4535, 0.4787, 0.4968,\n           0.4064, 0.4883, 0.5094, 0.4412, 0.4062, 0.4286, 0.5055, 0.5149,\n           0.4945, 0.4849, 0.4774, 0.4688]]]], device='cuda:0',\n       grad_fn=<ReshapeAliasBackward0>)"
     },
     "execution_count": 101,
     "metadata": {},
     "output_type": "execute_result"
    }
   ],
   "source": [
    "#SANITY CHECK: Feed forward an image and check for errors\n",
    "#Pull the first image from the training images, and convert to a float tensor\n",
    "img = torch.from_numpy(training_images[0]).float()\n",
    "print(img.shape)\n",
    "\n",
    "#The input to the autoencoder is [batch_size, 3, 32, 32]; convert the image's shape [3,32,32] to [1,3,32,32] and push to device\n",
    "img = torch.reshape(img, (1, CHANNELS, WIDTH, HEIGHT)).to(device)\n",
    "\n",
    "#feed forward the image to the network and make sure it works with no errors\n",
    "model.forward(img)"
   ],
   "metadata": {
    "collapsed": false,
    "pycharm": {
     "name": "#%%\n"
    }
   }
  },
  {
   "cell_type": "code",
   "execution_count": 102,
   "outputs": [],
   "source": [
    "#Switch to 0; otherwise it will load the saved weights\n",
    "if 1:\n",
    "    model.load_state_dict(torch.load(\"trained_weights_MNIST.save\"))\n",
    "    model.eval()"
   ],
   "metadata": {
    "collapsed": false,
    "pycharm": {
     "name": "#%%\n"
    }
   }
  },
  {
   "cell_type": "code",
   "execution_count": 103,
   "outputs": [
    {
     "name": "stderr",
     "output_type": "stream",
     "text": [
      "loss: 3246.35986328: 100%|████████████████████████████████████████| 200/200 [05:31<00:00,  1.66s/it]"
     ]
    },
    {
     "name": "stdout",
     "output_type": "stream",
     "text": [
      "Final loss on training: 3246.35986328\n"
     ]
    },
    {
     "name": "stderr",
     "output_type": "stream",
     "text": [
      "\n"
     ]
    }
   ],
   "source": [
    "#TRAINING\n",
    "\n",
    "#define the hyperparameters\n",
    "BATCH_SIZE = 100\n",
    "EPOCHS=200\n",
    "LEARNING_RATE=0.0001\n",
    "\n",
    "\n",
    "#Create an optimizer and pass the model's parameters\n",
    "optimizer = torch.optim.SGD(model.parameters(), lr=LEARNING_RATE)\n",
    "\n",
    "#Define a loss function; we'll pick mean squared error since we are reconstructing the original\n",
    "loss_function = torch.nn.MSELoss(reduction='sum')\n",
    "\n",
    "#training image indices; [0, 1, 2, 3 ....., 49999]\n",
    "training_dataset_indices = torch.arange(0, len(training_dataset))\n",
    "\n",
    "#keep track of the losses for plotting at the end\n",
    "losses = list()\n",
    "\n",
    "#Create a progress bar the size of the number of epochs\n",
    "status_bar = tqdm.tqdm(range(EPOCHS), ncols=100, desc='loss: ')\n",
    "for i in status_bar:\n",
    "    #At each iteration, perform a permutation of the training_dataset_indices; this ensures that we will use all images and avoid duplication\n",
    "    random_permutation = torch.randperm(training_dataset_indices.size()[0])\n",
    "\n",
    "    #Get BATCH_SIZE number of training images at each epoch; because we sample from an array there will be no duplicates\n",
    "    loss = None\n",
    "    for b in range(0,training_dataset_indices.size()[0], BATCH_SIZE):\n",
    "        #Zero out the gradients\n",
    "        optimizer.zero_grad()\n",
    "\n",
    "        #Get the indices of the training images in this batch\n",
    "        batch_indices = random_permutation[b:b+BATCH_SIZE]\n",
    "        #we only need to get the images; the labels are irrelevant in the context of an autoencoder\n",
    "        batch_images = training_images[batch_indices]\n",
    "        #convert to float tensors and push to device\n",
    "        batch_images = torch.from_numpy(batch_images).float().to(device)\n",
    "\n",
    "        #feed forward through the network's layers and get the reconstruction\n",
    "        reconstructions = model.forward(batch_images)\n",
    "        \n",
    "        #Calculate the MSE between the reconstructions and the input images plus the KL divergence of the learnt distribution from a zero-mean Gaussian of standard deviation of 1.0; the optimal value for this loss is 0\n",
    "        loss = loss_function(reconstructions, batch_images) + model.getKLdiv()\n",
    "\n",
    "        #keep track of the losses per batch, per epoch it to the list; used for plotting later on\n",
    "        losses.append(loss.item())\n",
    "        \n",
    "        #backpropagate gradients\n",
    "        loss.backward()\n",
    "        #single gradient descent step; update all network parameters based on the gradient\n",
    "        optimizer.step()\n",
    "    \n",
    "    #After every epoch update the loss function\n",
    "    status_bar.set_description(f'loss: {loss.item():.8f}')\n",
    "\n",
    "#Output the final loss on the training dataset\n",
    "print(f'Final loss on training: {loss.item():.8f}')"
   ],
   "metadata": {
    "collapsed": false,
    "pycharm": {
     "name": "#%%\n"
    }
   }
  },
  {
   "cell_type": "code",
   "execution_count": 104,
   "outputs": [],
   "source": [
    "#Switch to 0, otherwise it will overwrite the saved weights\n",
    "if 1:\n",
    "    torch.save(model.state_dict(), \"trained_weights_MNIST.save\")"
   ],
   "metadata": {
    "collapsed": false,
    "pycharm": {
     "name": "#%%\n"
    }
   }
  },
  {
   "cell_type": "code",
   "execution_count": 105,
   "outputs": [
    {
     "data": {
      "text/plain": "<Figure size 432x288 with 1 Axes>",
      "image/png": "[encoded data removed]"
     },
     "metadata": {
      "needs_background": "light"
     },
     "output_type": "display_data"
    }
   ],
   "source": [
    "#Plot the loss as a function of epochs\n",
    "fig, ax = plt.subplots(1,1)\n",
    "ax.plot(list(range(EPOCHS*int(len(training_dataset)/BATCH_SIZE))), np.array(losses))\n",
    "ax.set_title('Loss on training dataset')\n",
    "ax.set_xlabel('epoch')\n",
    "ax.set_ylabel('MSE')\n",
    "plt.show()\n",
    "fig.savefig(\"vae_loss_MNIST.png\")"
   ],
   "metadata": {
    "collapsed": false,
    "pycharm": {
     "name": "#%%\n"
    }
   }
  },
  {
   "cell_type": "code",
   "execution_count": 106,
   "outputs": [
    {
     "name": "stdout",
     "output_type": "stream",
     "text": [
      "MSE loss on testing: 2388.62060547\n"
     ]
    }
   ],
   "source": [
    "#Calculate MSE on the testing dataset; convert to float tensors and push to device; I'm passing all the images together since it fits in the GPU\n",
    "testing_images_ = torch.from_numpy(testing_images[:BATCH_SIZE]).float().reshape( (BATCH_SIZE, CHANNELS, WIDTH, HEIGHT) ).to(device)\n",
    "#get the reconstructions\n",
    "reconstructions = model.forward(testing_images_)\n",
    "testing_loss = loss_function(reconstructions, testing_images_).item()\n",
    "#Output the MSE loss\n",
    "print(f'MSE loss on testing: {testing_loss:.8f}')"
   ],
   "metadata": {
    "collapsed": false,
    "pycharm": {
     "name": "#%%\n"
    }
   }
  },
  {
   "cell_type": "code",
   "execution_count": 107,
   "outputs": [
    {
     "data": {
      "text/plain": "<Figure size 432x2160 with 20 Axes>",
      "image/png": "[encoded data removed]"
     },
     "metadata": {
      "needs_background": "light"
     },
     "output_type": "display_data"
    }
   ],
   "source": [
    "#Plot a couple of examples\n",
    "cols, rows = 2, 10\n",
    "image_counter = 1\n",
    "figure = plt.figure(figsize=(3*cols, 3*rows))\n",
    "for i in range(10):\n",
    "    #get a random index\n",
    "    rand_index = random.randint(0, len(testing_images_))\n",
    "    #get the original image, pull back to cpu and convert to numpy\n",
    "    original_img = testing_images_[rand_index].permute(1,2,0).cpu().detach().numpy()\n",
    "    #get the reconstructed image, pull back to cpu and convert to numpy\n",
    "    reconstructed_img = reconstructions[rand_index].permute(1,2,0).cpu().detach().numpy()\n",
    "    \n",
    "    #Add a figure for the original image\n",
    "    figure.add_subplot(rows, cols, image_counter)\n",
    "    plt.axis(\"off\")\n",
    "    plt.imshow(original_img)\n",
    "    image_counter+=1\n",
    "\n",
    "    #Add a figure for the reconstructed image\n",
    "    figure.add_subplot(rows, cols, image_counter)\n",
    "    plt.axis(\"off\")\n",
    "    plt.imshow(reconstructed_img)\n",
    "    image_counter+=1\n",
    "\n",
    "plt.show()\n",
    "figure.savefig(\"vae_reconstruction_MNIST.png\")"
   ],
   "metadata": {
    "collapsed": false,
    "pycharm": {
     "name": "#%%\n"
    }
   }
  },
  {
   "cell_type": "code",
   "execution_count": null,
   "outputs": [],
   "source": [],
   "metadata": {
    "collapsed": false,
    "pycharm": {
     "name": "#%%\n"
    }
   }
  }
 ],
 "metadata": {
  "kernelspec": {
   "display_name": "Python 3",
   "language": "python",
   "name": "python3"
  },
  "language_info": {
   "codemirror_mode": {
    "name": "ipython",
    "version": 2
   },
   "file_extension": ".py",
   "mimetype": "text/x-python",
   "name": "python",
   "nbconvert_exporter": "python",
   "pygments_lexer": "ipython2",
   "version": "2.7.6"
  }
 },
 "nbformat": 4,
 "nbformat_minor": 0
}