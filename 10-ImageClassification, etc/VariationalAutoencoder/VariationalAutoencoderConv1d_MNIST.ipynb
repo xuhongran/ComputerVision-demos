{
 "cells": [
  {
   "cell_type": "code",
   "execution_count": 1,
   "metadata": {
    "pycharm": {
     "name": "#%%\n"
    }
   },
   "outputs": [],
   "source": [
    "#     This program is free software: you can redistribute it and/or modify\n",
    "#     it under the terms of the GNU General Public License as published by\n",
    "#     the Free Software Foundation, either version 3 of the License, or\n",
    "#     (at your option) any later version.\n",
    "#\n",
    "#     This program is distributed in the hope that it will be useful,\n",
    "#     but WITHOUT ANY WARRANTY; without even the implied warranty of\n",
    "#     MERCHANTABILITY or FITNESS FOR A PARTICULAR PURPOSE.  See the\n",
    "#     GNU General Public License for more details.\n",
    "#\n",
    "#     You should have received a copy of the GNU General Public License\n",
    "#     along with this program.  If not, see <https://www.gnu.org/licenses/>.\n",
    "\n",
    "#     Written by Charalambos (Charis) Poullis - www.poullis.org"
   ]
  },
  {
   "cell_type": "code",
   "execution_count": 2,
   "metadata": {
    "pycharm": {
     "name": "#%%\n"
    }
   },
   "outputs": [],
   "source": [
    "#Import all necessary libraries\n",
    "import torch\n",
    "import torchvision\n",
    "import numpy as np\n",
    "#progress bar functionality\n",
    "import tqdm\n",
    "#plotting etc\n",
    "import matplotlib\n",
    "\n",
    "import matplotlib.pyplot as plt\n",
    "#random number generator\n",
    "import random\n",
    "\n",
    "# There is a weird crash in Python 3.9 causing the kernel to restart when using matplotlib\n",
    "# To test if you have the same issue uncomment the following command. If it works, then you don't need the subsequent 2 lines (import os, KMP)\n",
    "#plt.subplot()\n",
    "import os\n",
    "os.environ[\"KMP_DUPLICATE_LIB_OK\"]=\"TRUE\""
   ]
  },
  {
   "cell_type": "code",
   "execution_count": 3,
   "metadata": {
    "pycharm": {
     "name": "#%%\n"
    }
   },
   "outputs": [
    {
     "name": "stdout",
     "output_type": "stream",
     "text": [
      "Training dataset: Dataset MNIST\n",
      "    Number of datapoints: 60000\n",
      "    Root location: ../data\n",
      "    Split: Train\n",
      "    StandardTransform\n",
      "Transform: ToTensor()\n",
      "Testing dataset: Dataset MNIST\n",
      "    Number of datapoints: 10000\n",
      "    Root location: ../data\n",
      "    Split: Test\n",
      "    StandardTransform\n",
      "Transform: ToTensor()\n"
     ]
    }
   ],
   "source": [
    "#Set the path for the datasets\n",
    "DATASET_PATH = \"../data\"\n",
    "\n",
    "#MNIST image size 1x28x28\n",
    "CHANNELS = 1\n",
    "WIDTH = 28\n",
    "HEIGHT = 28\n",
    "\n",
    "#Download the training dataset: MNIST\n",
    "training_dataset = torchvision.datasets.MNIST(  root=DATASET_PATH,\n",
    "                                                train=True,\n",
    "                                                download=True,\n",
    "                                                transform=torchvision.transforms.ToTensor())\n",
    "print('Training dataset:', training_dataset)\n",
    "\n",
    "#Download the testing dataset: MNIST\n",
    "testing_dataset = torchvision.datasets.MNIST(   root=DATASET_PATH,\n",
    "                                               train=False,\n",
    "                                               download=True,\n",
    "                                               transform=torchvision.transforms.ToTensor())\n",
    "print('Testing dataset:', testing_dataset)"
   ]
  },
  {
   "cell_type": "code",
   "execution_count": 4,
   "outputs": [],
   "source": [
    "#This function takes a CIFAR dataset and splits it into two numpy arrays containing\n",
    "#the images and labels, respectively\n",
    "\n",
    "def splitDataset(dataset, channels, width, height):\n",
    "    #Divide the datasets into images and labels\n",
    "    x, y = dataset[0]\n",
    "\n",
    "    shape = [(i, *j) for i, j in [(len(dataset), x.shape)]][0]\n",
    "    images = np.zeros(shape)\n",
    "    labels = np.zeros((len(dataset), 1))\n",
    "\n",
    "    for i in range(len(dataset)):\n",
    "        x,y = dataset[i]\n",
    "        images[i] = x\n",
    "        labels[i] = y\n",
    "\n",
    "    images = np.reshape(images, (len(dataset), channels, width, height))\n",
    "    labels = np.reshape(labels, (len(dataset), 1))\n",
    "    return images, labels"
   ],
   "metadata": {
    "collapsed": false,
    "pycharm": {
     "name": "#%%\n"
    }
   }
  },
  {
   "cell_type": "code",
   "execution_count": null,
   "metadata": {
    "pycharm": {
     "name": "#%%\n",
     "is_executing": true
    }
   },
   "outputs": [],
   "source": [
    "#Divide the training datasets into images and labels; this is needed later to randomly index from the arrays\n",
    "training_images, training_labels = splitDataset(training_dataset, CHANNELS, WIDTH, HEIGHT)\n",
    "#Do the same for the testing dataset\n",
    "testing_images, testing_labels = splitDataset(testing_dataset, CHANNELS, WIDTH, HEIGHT)   \n",
    "\n",
    "print(f'Training images: {len(training_images)}, Training labels: {len(training_labels)}')\n",
    "print(f'Testing images: {len(testing_images)}, Testing labels: {len(testing_labels)}')"
   ]
  },
  {
   "cell_type": "code",
   "execution_count": null,
   "metadata": {
    "pycharm": {
     "name": "#%%\n",
     "is_executing": true
    }
   },
   "outputs": [],
   "source": [
    "#Define the autoencoder; This is a simple autoencoder with 2 convolutional layers in the encoder, and 2 convolutional layers in the decoder\n",
    "#Put simply, an autoencoder learns to reconstruct the input\n",
    "class MyAutoencoder (torch.nn.Module):\n",
    "    def __init__(self, channels, width, height):\n",
    "        super(MyAutoencoder, self).__init__()\n",
    "\n",
    "        #The patch size\n",
    "        self.channels = channels\n",
    "        self.width = width\n",
    "        self.height = height\n",
    "\n",
    "        #The latent dimensions\n",
    "        self.latent_space_dims = 16\n",
    "\n",
    "        #Define a unit Gaussian distribution to be used for sampling\n",
    "        self.unit_gaussian_distribution = torch.distributions.normal.Normal(loc=torch.tensor(0.0).to(device),\n",
    "                                                                            scale=torch.tensor(1.0).to(device))\n",
    "\n",
    "        #The KL divergence\n",
    "        self.KL_div = torch.tensor(0.0)\n",
    "\n",
    "        #Encoder\n",
    "        self.encoder = torch.nn.Sequential(\n",
    "            torch.nn.Conv1d(in_channels=1, out_channels=8, kernel_size=128, stride=2, padding=0, dilation=1), #[batch_size, 32, 329]\n",
    "            torch.nn.ReLU(),\n",
    "            torch.nn.Conv1d(in_channels=8, out_channels=2, kernel_size=83, stride=2, padding=3, dilation=2), #[batch_size, 32, 86]\n",
    "            torch.nn.ReLU()\n",
    "        )\n",
    "\n",
    "        #μ\n",
    "        self.mu = torch.nn.Linear(in_features=2*86, out_features=self.latent_space_dims)\n",
    "        #σ\n",
    "        self.sigma = torch.nn.Linear(in_features=2*86, out_features=self.latent_space_dims)\n",
    "\n",
    "        #Decoder\n",
    "        self.decoder = torch.nn.Sequential(\n",
    "            torch.nn.ConvTranspose1d(in_channels=1, out_channels=2, kernel_size =83, stride=2, padding=3, output_padding=0, dilation=2), #[batch_size, 2, 189]\n",
    "            torch.nn.ReLU(),\n",
    "            torch.nn.ConvTranspose1d(in_channels=2, out_channels=4, kernel_size = 128, stride=2, padding=0, output_padding=0, dilation=1), #[batch_size, 4, 504]\n",
    "            torch.nn.ReLU(),\n",
    "            torch.nn.ConvTranspose1d(in_channels=4, out_channels=1, kernel_size = 57, stride=1, padding=0, output_padding=0, dilation=5),            # [batch_size, 1, self.channels*self.width*self.height]\n",
    "\n",
    "            #At this point the range of the output value is unbound. Let's use Maps the value to the range [0,1] which is expected for colors\n",
    "            torch.nn.Sigmoid()\n",
    "        )\n",
    "        return\n",
    "\n",
    "    def getKLdiv(self):\n",
    "        return self.KL_div\n",
    "    \n",
    "    def forward(self, x):\n",
    "        x = torch.reshape(x, (-1, 1, self.channels*self.width*self.height))\n",
    "        #Feed-forward through the encoder\n",
    "        result = self.encoder(x)\n",
    "        \n",
    "        #Sample z using the Gaussian distribution\n",
    "        result = torch.reshape(result, (-1, 2*86))\n",
    "\n",
    "        mu = self.mu(result)\n",
    "        sigma = torch.exp(self.sigma(result)) #self.sigma(.) can return negative values. We add the exponent to keep the values positive. Otherwise, what is the meaning of having negative standard deviation σ?\n",
    "        z = mu + sigma*self.unit_gaussian_distribution.sample(mu.shape)\n",
    "\n",
    "        #Feed-forward through the decoder\n",
    "        z = torch.reshape(z, (-1, 1, 16))\n",
    "        result = self.decoder(z)\n",
    "        result = torch.reshape(result, (-1, self.channels, self.width, self.height))\n",
    "\n",
    "        #Calculate the closed form KL divergence between 2 Gaussians; you want the learnt (μ,σ) to resemble a zero-mean Gaussian distribution with standard deviation of 1.0\n",
    "        self.KL_div = torch.sum(-torch.log(sigma) + mu**2 + sigma**2 - 0.5)\n",
    "\n",
    "        return result"
   ]
  },
  {
   "cell_type": "code",
   "execution_count": null,
   "metadata": {
    "pycharm": {
     "name": "#%%\n",
     "is_executing": true
    }
   },
   "outputs": [],
   "source": [
    "#We'll use GPU is available; check if a GPU is available\n",
    "print(f'GPU devices found: {torch.cuda.device_count()}')\n",
    "device = torch.device(\"cuda\" if torch.cuda.is_available() else \"cpu\")\n",
    "print(f'Device: {device}')"
   ]
  },
  {
   "cell_type": "code",
   "execution_count": 25,
   "metadata": {
    "pycharm": {
     "name": "#%%\n"
    }
   },
   "outputs": [
    {
     "name": "stdout",
     "output_type": "stream",
     "text": [
      "MyAutoencoder(\n",
      "  (encoder): Sequential(\n",
      "    (0): Conv1d(1, 8, kernel_size=(128,), stride=(2,))\n",
      "    (1): ReLU()\n",
      "    (2): Conv1d(8, 2, kernel_size=(83,), stride=(2,), padding=(3,), dilation=(2,))\n",
      "    (3): ReLU()\n",
      "  )\n",
      "  (mu): Linear(in_features=172, out_features=16, bias=True)\n",
      "  (sigma): Linear(in_features=172, out_features=16, bias=True)\n",
      "  (decoder): Sequential(\n",
      "    (0): ConvTranspose1d(1, 2, kernel_size=(83,), stride=(2,), padding=(3,), dilation=(2,))\n",
      "    (1): ReLU()\n",
      "    (2): ConvTranspose1d(2, 4, kernel_size=(128,), stride=(2,))\n",
      "    (3): ReLU()\n",
      "    (4): ConvTranspose1d(4, 1, kernel_size=(57,), stride=(1,), dilation=(5,))\n",
      "    (5): Sigmoid()\n",
      "  )\n",
      ")\n"
     ]
    }
   ],
   "source": [
    "#Create an instance of the model and print; it should display all the layers and their related information\n",
    "model = MyAutoencoder(CHANNELS, WIDTH, HEIGHT).to(device)\n",
    "print(model)"
   ]
  },
  {
   "cell_type": "code",
   "execution_count": 9,
   "metadata": {
    "pycharm": {
     "name": "#%%\n"
    }
   },
   "outputs": [
    {
     "name": "stdout",
     "output_type": "stream",
     "text": [
      "torch.Size([1, 28, 28])\n"
     ]
    },
    {
     "data": {
      "text/plain": "tensor([[[[0.4849, 0.4849, 0.4849, 0.4849, 0.4849, 0.4849, 0.4849, 0.4849,\n           0.4849, 0.4849, 0.4849, 0.4849, 0.4849, 0.4849, 0.4849, 0.4849,\n           0.4849, 0.4849, 0.4849, 0.4849, 0.4849, 0.4849, 0.4849, 0.4849,\n           0.4849, 0.4849, 0.4849, 0.4849],\n          [0.4849, 0.4849, 0.4849, 0.4849, 0.4849, 0.4849, 0.4850, 0.4849,\n           0.4849, 0.4850, 0.4849, 0.4848, 0.4848, 0.4849, 0.4847, 0.4849,\n           0.4849, 0.4849, 0.4849, 0.4850, 0.4849, 0.4847, 0.4848, 0.4849,\n           0.4846, 0.4849, 0.4848, 0.4848],\n          [0.4849, 0.4848, 0.4849, 0.4850, 0.4850, 0.4849, 0.4849, 0.4849,\n           0.4851, 0.4850, 0.4849, 0.4851, 0.4849, 0.4849, 0.4849, 0.4849,\n           0.4849, 0.4849, 0.4849, 0.4849, 0.4849, 0.4850, 0.4849, 0.4848,\n           0.4848, 0.4849, 0.4848, 0.4849],\n          [0.4850, 0.4851, 0.4849, 0.4851, 0.4849, 0.4850, 0.4848, 0.4849,\n           0.4850, 0.4849, 0.4849, 0.4850, 0.4849, 0.4850, 0.4849, 0.4849,\n           0.4847, 0.4849, 0.4849, 0.4849, 0.4853, 0.4850, 0.4849, 0.4850,\n           0.4849, 0.4855, 0.4853, 0.4849],\n          [0.4853, 0.4849, 0.4850, 0.4852, 0.4849, 0.4848, 0.4850, 0.4857,\n           0.4847, 0.4849, 0.4849, 0.4850, 0.4850, 0.4853, 0.4850, 0.4849,\n           0.4847, 0.4848, 0.4844, 0.4850, 0.4846, 0.4849, 0.4851, 0.4853,\n           0.4851, 0.4851, 0.4848, 0.4849],\n          [0.4851, 0.4855, 0.4849, 0.4847, 0.4850, 0.4852, 0.4853, 0.4847,\n           0.4851, 0.4848, 0.4847, 0.4848, 0.4849, 0.4850, 0.4844, 0.4858,\n           0.4854, 0.4848, 0.4845, 0.4848, 0.4854, 0.4851, 0.4852, 0.4848,\n           0.4850, 0.4848, 0.4848, 0.4857],\n          [0.4852, 0.4841, 0.4851, 0.4855, 0.4848, 0.4855, 0.4844, 0.4858,\n           0.4843, 0.4846, 0.4849, 0.4847, 0.4845, 0.4843, 0.4855, 0.4852,\n           0.4850, 0.4853, 0.4844, 0.4854, 0.4846, 0.4851, 0.4849, 0.4846,\n           0.4852, 0.4856, 0.4849, 0.4851],\n          [0.4847, 0.4852, 0.4851, 0.4852, 0.4857, 0.4850, 0.4851, 0.4849,\n           0.4848, 0.4839, 0.4839, 0.4849, 0.4852, 0.4856, 0.4844, 0.4851,\n           0.4852, 0.4855, 0.4847, 0.4846, 0.4843, 0.4845, 0.4846, 0.4852,\n           0.4837, 0.4846, 0.4851, 0.4848],\n          [0.4863, 0.4851, 0.4850, 0.4852, 0.4849, 0.4864, 0.4858, 0.4851,\n           0.4851, 0.4849, 0.4850, 0.4849, 0.4854, 0.4845, 0.4851, 0.4856,\n           0.4852, 0.4863, 0.4846, 0.4843, 0.4857, 0.4858, 0.4858, 0.4857,\n           0.4846, 0.4854, 0.4863, 0.4856],\n          [0.4857, 0.4851, 0.4858, 0.4862, 0.4850, 0.4851, 0.4853, 0.4859,\n           0.4872, 0.4855, 0.4857, 0.4861, 0.4858, 0.4868, 0.4862, 0.4853,\n           0.4854, 0.4862, 0.4857, 0.4861, 0.4855, 0.4846, 0.4848, 0.4872,\n           0.4855, 0.4854, 0.4854, 0.4860],\n          [0.4860, 0.4854, 0.4867, 0.4863, 0.4859, 0.4844, 0.4856, 0.4853,\n           0.4876, 0.4847, 0.4874, 0.4854, 0.4845, 0.4862, 0.4856, 0.4857,\n           0.4840, 0.4852, 0.4859, 0.4857, 0.4844, 0.4862, 0.4853, 0.4866,\n           0.4839, 0.4846, 0.4845, 0.4839],\n          [0.4875, 0.4864, 0.4849, 0.4846, 0.4859, 0.4866, 0.4845, 0.4857,\n           0.4849, 0.4854, 0.4853, 0.4851, 0.4854, 0.4850, 0.4856, 0.4855,\n           0.4847, 0.4839, 0.4869, 0.4840, 0.4854, 0.4851, 0.4855, 0.4862,\n           0.4858, 0.4832, 0.4846, 0.4860],\n          [0.4856, 0.4840, 0.4868, 0.4844, 0.4862, 0.4859, 0.4854, 0.4858,\n           0.4846, 0.4851, 0.4866, 0.4851, 0.4825, 0.4864, 0.4844, 0.4850,\n           0.4849, 0.4833, 0.4852, 0.4855, 0.4869, 0.4858, 0.4869, 0.4853,\n           0.4870, 0.4854, 0.4852, 0.4851],\n          [0.4841, 0.4866, 0.4864, 0.4839, 0.4847, 0.4880, 0.4862, 0.4863,\n           0.4865, 0.4851, 0.4862, 0.4867, 0.4857, 0.4848, 0.4839, 0.4851,\n           0.4859, 0.4829, 0.4859, 0.4851, 0.4874, 0.4875, 0.4855, 0.4855,\n           0.4865, 0.4886, 0.4873, 0.4864],\n          [0.4864, 0.4866, 0.4850, 0.4870, 0.4853, 0.4853, 0.4865, 0.4864,\n           0.4856, 0.4862, 0.4860, 0.4865, 0.4862, 0.4847, 0.4854, 0.4863,\n           0.4863, 0.4847, 0.4855, 0.4847, 0.4855, 0.4874, 0.4872, 0.4869,\n           0.4860, 0.4851, 0.4887, 0.4870],\n          [0.4873, 0.4870, 0.4866, 0.4879, 0.4855, 0.4854, 0.4847, 0.4860,\n           0.4869, 0.4842, 0.4849, 0.4862, 0.4865, 0.4857, 0.4853, 0.4845,\n           0.4868, 0.4874, 0.4848, 0.4852, 0.4840, 0.4840, 0.4875, 0.4862,\n           0.4868, 0.4844, 0.4876, 0.4878],\n          [0.4876, 0.4847, 0.4879, 0.4837, 0.4852, 0.4874, 0.4866, 0.4844,\n           0.4839, 0.4856, 0.4840, 0.4864, 0.4832, 0.4888, 0.4875, 0.4838,\n           0.4842, 0.4838, 0.4849, 0.4868, 0.4867, 0.4860, 0.4839, 0.4848,\n           0.4849, 0.4850, 0.4865, 0.4857],\n          [0.4861, 0.4847, 0.4872, 0.4849, 0.4853, 0.4840, 0.4860, 0.4849,\n           0.4867, 0.4850, 0.4887, 0.4856, 0.4839, 0.4876, 0.4862, 0.4880,\n           0.4837, 0.4838, 0.4878, 0.4864, 0.4859, 0.4863, 0.4850, 0.4850,\n           0.4858, 0.4869, 0.4860, 0.4870],\n          [0.4851, 0.4863, 0.4871, 0.4854, 0.4853, 0.4878, 0.4857, 0.4861,\n           0.4848, 0.4858, 0.4867, 0.4850, 0.4868, 0.4851, 0.4861, 0.4856,\n           0.4842, 0.4866, 0.4866, 0.4870, 0.4859, 0.4853, 0.4876, 0.4867,\n           0.4856, 0.4858, 0.4852, 0.4873],\n          [0.4835, 0.4868, 0.4853, 0.4862, 0.4865, 0.4860, 0.4866, 0.4850,\n           0.4849, 0.4838, 0.4848, 0.4858, 0.4857, 0.4859, 0.4859, 0.4847,\n           0.4848, 0.4862, 0.4858, 0.4850, 0.4854, 0.4855, 0.4838, 0.4857,\n           0.4838, 0.4867, 0.4863, 0.4854],\n          [0.4849, 0.4853, 0.4851, 0.4860, 0.4847, 0.4853, 0.4848, 0.4850,\n           0.4833, 0.4843, 0.4845, 0.4838, 0.4847, 0.4867, 0.4862, 0.4851,\n           0.4842, 0.4855, 0.4844, 0.4855, 0.4853, 0.4856, 0.4851, 0.4864,\n           0.4845, 0.4857, 0.4854, 0.4844],\n          [0.4862, 0.4837, 0.4842, 0.4850, 0.4858, 0.4846, 0.4840, 0.4853,\n           0.4862, 0.4851, 0.4848, 0.4866, 0.4842, 0.4854, 0.4847, 0.4857,\n           0.4843, 0.4857, 0.4853, 0.4848, 0.4860, 0.4850, 0.4854, 0.4840,\n           0.4852, 0.4851, 0.4850, 0.4853],\n          [0.4856, 0.4846, 0.4849, 0.4858, 0.4852, 0.4858, 0.4850, 0.4850,\n           0.4855, 0.4848, 0.4842, 0.4846, 0.4850, 0.4853, 0.4848, 0.4844,\n           0.4851, 0.4848, 0.4856, 0.4860, 0.4853, 0.4851, 0.4855, 0.4854,\n           0.4844, 0.4846, 0.4847, 0.4856],\n          [0.4839, 0.4847, 0.4856, 0.4850, 0.4841, 0.4850, 0.4849, 0.4853,\n           0.4850, 0.4858, 0.4848, 0.4853, 0.4842, 0.4850, 0.4847, 0.4854,\n           0.4845, 0.4854, 0.4851, 0.4852, 0.4855, 0.4855, 0.4845, 0.4848,\n           0.4857, 0.4855, 0.4852, 0.4850],\n          [0.4852, 0.4853, 0.4850, 0.4847, 0.4853, 0.4851, 0.4852, 0.4848,\n           0.4849, 0.4851, 0.4847, 0.4848, 0.4853, 0.4846, 0.4850, 0.4849,\n           0.4855, 0.4849, 0.4849, 0.4848, 0.4848, 0.4850, 0.4849, 0.4849,\n           0.4850, 0.4850, 0.4847, 0.4849],\n          [0.4850, 0.4849, 0.4850, 0.4849, 0.4849, 0.4849, 0.4848, 0.4850,\n           0.4848, 0.4849, 0.4849, 0.4848, 0.4849, 0.4849, 0.4849, 0.4849,\n           0.4848, 0.4849, 0.4850, 0.4849, 0.4849, 0.4849, 0.4849, 0.4850,\n           0.4849, 0.4849, 0.4849, 0.4849],\n          [0.4849, 0.4849, 0.4849, 0.4849, 0.4849, 0.4849, 0.4849, 0.4849,\n           0.4849, 0.4849, 0.4849, 0.4849, 0.4849, 0.4849, 0.4849, 0.4849,\n           0.4849, 0.4849, 0.4849, 0.4849, 0.4849, 0.4849, 0.4849, 0.4849,\n           0.4849, 0.4849, 0.4849, 0.4849],\n          [0.4849, 0.4849, 0.4849, 0.4849, 0.4849, 0.4849, 0.4849, 0.4849,\n           0.4849, 0.4849, 0.4849, 0.4849, 0.4849, 0.4849, 0.4849, 0.4849,\n           0.4849, 0.4849, 0.4849, 0.4849, 0.4849, 0.4849, 0.4849, 0.4849,\n           0.4849, 0.4849, 0.4849, 0.4849]]]], device='cuda:0',\n       grad_fn=<ReshapeAliasBackward0>)"
     },
     "execution_count": 9,
     "metadata": {},
     "output_type": "execute_result"
    }
   ],
   "source": [
    "#SANITY CHECK: Feed forward an image and check for errors\n",
    "#Pull the first image from the training images, and convert to a float tensor\n",
    "img = torch.from_numpy(training_images[0]).float()\n",
    "print(img.shape)\n",
    "\n",
    "#The input to the autoencoder is [batch_size, 3, 32, 32]; convert the image's shape [3,32,32] to [1,3,32,32] and push to device\n",
    "img = torch.reshape(img, (1, CHANNELS, WIDTH, HEIGHT)).to(device)\n",
    "\n",
    "#feed forward the image to the network and make sure it works with no errors\n",
    "model.forward(img)"
   ]
  },
  {
   "cell_type": "code",
   "execution_count": 10,
   "metadata": {
    "pycharm": {
     "name": "#%%\n"
    }
   },
   "outputs": [],
   "source": [
    "#Switch to 0; otherwise it will load the saved weights\n",
    "if 1:\n",
    "    model.load_state_dict(torch.load(\"trained_weights_conv1d_MNIST.save\"))\n",
    "    model.eval()"
   ]
  },
  {
   "cell_type": "code",
   "execution_count": 11,
   "metadata": {
    "pycharm": {
     "name": "#%%\n"
    }
   },
   "outputs": [
    {
     "name": "stderr",
     "output_type": "stream",
     "text": [
      "loss: 5167.81933594: 100%|████████████████████████████████████████████| 1/1 [00:04<00:00,  4.60s/it]"
     ]
    },
    {
     "name": "stdout",
     "output_type": "stream",
     "text": [
      "Final loss on training: 5167.81933594\n"
     ]
    },
    {
     "name": "stderr",
     "output_type": "stream",
     "text": [
      "\n"
     ]
    }
   ],
   "source": [
    "#TRAINING\n",
    "\n",
    "#define the hyperparameters\n",
    "BATCH_SIZE = 100\n",
    "EPOCHS=200\n",
    "LEARNING_RATE=0.00000001\n",
    "\n",
    "\n",
    "#Create an optimizer and pass the model's parameters\n",
    "optimizer = torch.optim.SGD(model.parameters(), lr=LEARNING_RATE)\n",
    "\n",
    "#Define a loss function; we'll pick mean squared error since we are reconstructing the original\n",
    "loss_function = torch.nn.MSELoss(reduction='sum')\n",
    "\n",
    "#training image indices; [0, 1, 2, 3 ....., 49999]\n",
    "training_dataset_indices = torch.arange(0, len(training_dataset))\n",
    "\n",
    "#keep track of the losses for plotting at the end\n",
    "losses = list()\n",
    "\n",
    "#Create a progress bar the size of the number of epochs\n",
    "status_bar = tqdm.tqdm(range(EPOCHS), ncols=100, desc='loss: ')\n",
    "for i in status_bar:\n",
    "    #At each iteration, perform a permutation of the training_dataset_indices; this ensures that we will use all images and avoid duplication\n",
    "    random_permutation = torch.randperm(training_dataset_indices.size()[0])\n",
    "\n",
    "    #Get BATCH_SIZE number of training images at each epoch; because we sample from an array there will be no duplicates\n",
    "    loss = None\n",
    "    for b in range(0,training_dataset_indices.size()[0], BATCH_SIZE):\n",
    "        #Zero out the gradients\n",
    "        optimizer.zero_grad()\n",
    "\n",
    "        #Get the indices of the training images in this batch\n",
    "        batch_indices = random_permutation[b:b+BATCH_SIZE]\n",
    "        #we only need to get the images; the labels are irrelevant in the context of an autoencoder\n",
    "        batch_images = training_images[batch_indices]\n",
    "        #convert to float tensors and push to device\n",
    "        batch_images = torch.from_numpy(batch_images).float().to(device)\n",
    "\n",
    "        #feed forward through the network's layers and get the reconstruction\n",
    "        reconstructions = model.forward(batch_images)\n",
    "        \n",
    "        #Calculate the MSE between the reconstructions and the input images plus the KL divergence of the learnt distribution from a zero-mean Gaussian of standard deviation of 1.0; the optimal value for this loss is 0\n",
    "        loss = loss_function(reconstructions, batch_images) + model.getKLdiv()\n",
    "\n",
    "        #keep track of the losses per batch, per epoch it to the list; used for plotting later on\n",
    "        losses.append(loss.item())\n",
    "        \n",
    "        #backpropagate gradients\n",
    "        loss.backward()\n",
    "        #single gradient descent step; update all network parameters based on the gradient\n",
    "        optimizer.step()\n",
    "    \n",
    "    #After every epoch update the loss function\n",
    "    status_bar.set_description(f'loss: {loss.item():.8f}')\n",
    "\n",
    "#Output the final loss on the training dataset\n",
    "print(f'Final loss on training: {loss.item():.8f}')"
   ]
  },
  {
   "cell_type": "code",
   "execution_count": 12,
   "metadata": {
    "pycharm": {
     "name": "#%%\n"
    }
   },
   "outputs": [],
   "source": [
    "#Switch to 0, otherwise it will overwrite the saved weights\n",
    "if 0:\n",
    "    torch.save(model.state_dict(), \"trained_weights_conv1d_MNIST.save\")"
   ]
  },
  {
   "cell_type": "code",
   "execution_count": 13,
   "metadata": {
    "pycharm": {
     "name": "#%%\n"
    }
   },
   "outputs": [
    {
     "data": {
      "text/plain": "<Figure size 432x288 with 1 Axes>",
      "image/png": "[encoded data removed]"
     },
     "metadata": {
      "needs_background": "light"
     },
     "output_type": "display_data"
    }
   ],
   "source": [
    "#Plot the loss as a function of epochs\n",
    "fig, ax = plt.subplots(1,1)\n",
    "ax.plot(list(range(EPOCHS*int(len(training_dataset)/BATCH_SIZE))), np.array(losses))\n",
    "ax.set_title('Loss on training dataset')\n",
    "ax.set_xlabel('epoch')\n",
    "ax.set_ylabel('MSE')\n",
    "plt.show()\n",
    "fig.savefig(\"vae_loss_conv1d_MNIST.png\")"
   ]
  },
  {
   "cell_type": "code",
   "execution_count": 14,
   "metadata": {
    "pycharm": {
     "name": "#%%\n"
    }
   },
   "outputs": [
    {
     "name": "stdout",
     "output_type": "stream",
     "text": [
      "MSE loss on testing: 384126.78125000\n"
     ]
    }
   ],
   "source": [
    "with torch.no_grad():\n",
    "    #Calculate MSE on the testing dataset; convert to float tensors and push to device; I'm passing all the images together since it fits in the GPU\n",
    "    testing_images_ = torch.from_numpy(testing_images).float().reshape( (len(testing_images), CHANNELS, WIDTH, HEIGHT) ).to(device)\n",
    "    #get the reconstructions\n",
    "    reconstructions = model.forward(testing_images_)\n",
    "    testing_loss = loss_function(reconstructions, testing_images_).item()\n",
    "    #Output the MSE loss\n",
    "    print(f'MSE loss on testing: {testing_loss:.8f}')"
   ]
  },
  {
   "cell_type": "code",
   "execution_count": 15,
   "metadata": {
    "pycharm": {
     "name": "#%%\n"
    }
   },
   "outputs": [
    {
     "data": {
      "text/plain": "<Figure size 2160x432 with 20 Axes>",
      "image/png": "[encoded data removed]"
     },
     "metadata": {
      "needs_background": "light"
     },
     "output_type": "display_data"
    }
   ],
   "source": [
    "#Plot a couple of examples\n",
    "cols, rows = 10, 2\n",
    "image_counter = 1\n",
    "figure = plt.figure(figsize=(3*cols, 3*rows))\n",
    "for i in range(10):\n",
    "    #get a random index\n",
    "    rand_index = random.randint(0, len(testing_images_))\n",
    "    #get the original image, pull back to cpu and convert to numpy\n",
    "    original_img = (testing_images_[rand_index].permute(1,2,0).cpu().detach()).numpy()\n",
    "    #get the reconstructed image, pull back to cpu and convert to numpy\n",
    "    reconstructed_img = (reconstructions[rand_index].permute(1,2,0).cpu().detach()).numpy()\n",
    "\n",
    "    #Add a figure for the original image\n",
    "    figure.add_subplot(rows, cols, image_counter)\n",
    "    plt.axis(\"off\")\n",
    "    plt.imshow(original_img)\n",
    "\n",
    "    #Add a figure for the reconstructed image\n",
    "    figure.add_subplot(rows, cols, image_counter+10)\n",
    "    plt.axis(\"off\")\n",
    "    plt.imshow(reconstructed_img)\n",
    "    image_counter+=1\n",
    "\n",
    "plt.show()\n",
    "figure.savefig(\"vae_reconstruction_conv1d_MNIST.png\")"
   ]
  },
  {
   "cell_type": "code",
   "execution_count": null,
   "metadata": {
    "pycharm": {
     "name": "#%%\n",
     "is_executing": true
    }
   },
   "outputs": [],
   "source": []
  }
 ],
 "metadata": {
  "kernelspec": {
   "display_name": "Python 3 (ipykernel)",
   "language": "python",
   "name": "python3"
  },
  "language_info": {
   "codemirror_mode": {
    "name": "ipython",
    "version": 3
   },
   "file_extension": ".py",
   "mimetype": "text/x-python",
   "name": "python",
   "nbconvert_exporter": "python",
   "pygments_lexer": "ipython3",
   "version": "3.9.7"
  }
 },
 "nbformat": 4,
 "nbformat_minor": 1
}