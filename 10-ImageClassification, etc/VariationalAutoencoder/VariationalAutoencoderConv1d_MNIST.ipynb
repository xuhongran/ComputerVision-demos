{
 "cells": [
  {
   "cell_type": "code",
   "execution_count": 1,
   "metadata": {
    "pycharm": {
     "name": "#%%\n"
    }
   },
   "outputs": [],
   "source": [
    "#     This program is free software: you can redistribute it and/or modify\n",
    "#     it under the terms of the GNU General Public License as published by\n",
    "#     the Free Software Foundation, either version 3 of the License, or\n",
    "#     (at your option) any later version.\n",
    "#\n",
    "#     This program is distributed in the hope that it will be useful,\n",
    "#     but WITHOUT ANY WARRANTY; without even the implied warranty of\n",
    "#     MERCHANTABILITY or FITNESS FOR A PARTICULAR PURPOSE.  See the\n",
    "#     GNU General Public License for more details.\n",
    "#\n",
    "#     You should have received a copy of the GNU General Public License\n",
    "#     along with this program.  If not, see <https://www.gnu.org/licenses/>.\n",
    "\n",
    "#     Written by Charalambos (Charis) Poullis - www.poullis.org"
   ]
  },
  {
   "cell_type": "code",
   "execution_count": 2,
   "metadata": {
    "pycharm": {
     "name": "#%%\n"
    }
   },
   "outputs": [],
   "source": [
    "#Import all necessary libraries\n",
    "import torch\n",
    "import torchvision\n",
    "import numpy as np\n",
    "#progress bar functionality\n",
    "import tqdm\n",
    "#plotting etc\n",
    "import matplotlib\n",
    "\n",
    "import matplotlib.pyplot as plt\n",
    "#random number generator\n",
    "import random\n",
    "\n",
    "# There is a weird crash in Python 3.9 causing the kernel to restart when using matplotlib\n",
    "# To test if you have the same issue uncomment the following command. If it works, then you don't need the subsequent 2 lines (import os, KMP)\n",
    "#plt.subplot()\n",
    "import os\n",
    "os.environ[\"KMP_DUPLICATE_LIB_OK\"]=\"TRUE\""
   ]
  },
  {
   "cell_type": "code",
   "execution_count": 3,
   "metadata": {
    "pycharm": {
     "name": "#%%\n"
    }
   },
   "outputs": [
    {
     "name": "stdout",
     "output_type": "stream",
     "text": [
      "Training dataset: Dataset MNIST\n",
      "    Number of datapoints: 60000\n",
      "    Root location: ../data\n",
      "    Split: Train\n",
      "    StandardTransform\n",
      "Transform: ToTensor()\n",
      "Testing dataset: Dataset MNIST\n",
      "    Number of datapoints: 10000\n",
      "    Root location: ../data\n",
      "    Split: Test\n",
      "    StandardTransform\n",
      "Transform: ToTensor()\n"
     ]
    }
   ],
   "source": [
    "#Set the path for the datasets\n",
    "DATASET_PATH = \"../data\"\n",
    "\n",
    "#MNIST image size 1x28x28\n",
    "CHANNELS = 1\n",
    "WIDTH = 28\n",
    "HEIGHT = 28\n",
    "\n",
    "#Download the training dataset: MNIST\n",
    "training_dataset = torchvision.datasets.MNIST(  root=DATASET_PATH,\n",
    "                                                train=True,\n",
    "                                                download=True,\n",
    "                                                transform=torchvision.transforms.ToTensor())\n",
    "print('Training dataset:', training_dataset)\n",
    "\n",
    "#Download the testing dataset: MNIST\n",
    "testing_dataset = torchvision.datasets.MNIST(   root=DATASET_PATH,\n",
    "                                               train=False,\n",
    "                                               download=True,\n",
    "                                               transform=torchvision.transforms.ToTensor())\n",
    "print('Testing dataset:', testing_dataset)"
   ]
  },
  {
   "cell_type": "code",
   "execution_count": 4,
   "outputs": [],
   "source": [
    "#This function takes a CIFAR dataset and splits it into two numpy arrays containing\n",
    "#the images and labels, respectively\n",
    "\n",
    "def splitDataset(dataset, channels, width, height):\n",
    "    #Divide the datasets into images and labels\n",
    "    x, y = dataset[0]\n",
    "\n",
    "    shape = [(i, *j) for i, j in [(len(dataset), x.shape)]][0]\n",
    "    images = np.zeros(shape)\n",
    "    labels = np.zeros((len(dataset), 1))\n",
    "\n",
    "    for i in range(len(dataset)):\n",
    "        x,y = dataset[i]\n",
    "        images[i] = x\n",
    "        labels[i] = y\n",
    "\n",
    "    images = np.reshape(images, (len(dataset), channels, width, height))\n",
    "    labels = np.reshape(labels, (len(dataset), 1))\n",
    "    return images, labels"
   ],
   "metadata": {
    "collapsed": false,
    "pycharm": {
     "name": "#%%\n"
    }
   }
  },
  {
   "cell_type": "code",
   "execution_count": 5,
   "metadata": {
    "pycharm": {
     "name": "#%%\n"
    }
   },
   "outputs": [
    {
     "name": "stdout",
     "output_type": "stream",
     "text": [
      "Training images: 60000, Training labels: 60000\n",
      "Testing images: 10000, Testing labels: 10000\n"
     ]
    }
   ],
   "source": [
    "#Divide the training datasets into images and labels; this is needed later to randomly index from the arrays\n",
    "training_images, training_labels = splitDataset(training_dataset, CHANNELS, WIDTH, HEIGHT)\n",
    "#Do the same for the testing dataset\n",
    "testing_images, testing_labels = splitDataset(testing_dataset, CHANNELS, WIDTH, HEIGHT)   \n",
    "\n",
    "print(f'Training images: {len(training_images)}, Training labels: {len(training_labels)}')\n",
    "print(f'Testing images: {len(testing_images)}, Testing labels: {len(testing_labels)}')"
   ]
  },
  {
   "cell_type": "code",
   "execution_count": 6,
   "metadata": {
    "pycharm": {
     "name": "#%%\n"
    }
   },
   "outputs": [],
   "source": [
    "#Define the autoencoder; This is a simple autoencoder with 2 convolutional layers in the encoder, and 2 convolutional layers in the decoder\n",
    "#Put simply, an autoencoder learns to reconstruct the input\n",
    "class MyAutoencoder (torch.nn.Module):\n",
    "    def __init__(self, channels, width, height):\n",
    "        super(MyAutoencoder, self).__init__()\n",
    "\n",
    "        #The patch size\n",
    "        self.channels = channels\n",
    "        self.width = width\n",
    "        self.height = height\n",
    "\n",
    "        #The latent dimensions\n",
    "        self.latent_space_dims = 16\n",
    "\n",
    "        #Define a unit Gaussian distribution to be used for sampling\n",
    "        self.unit_gaussian_distribution = torch.distributions.normal.Normal(loc=torch.tensor(0.0).to(device),\n",
    "                                                                            scale=torch.tensor(1.0).to(device))\n",
    "\n",
    "        #The KL divergence\n",
    "        self.KL_div = torch.tensor(0.0)\n",
    "\n",
    "        #Encoder\n",
    "        self.encoder = torch.nn.Sequential(\n",
    "            torch.nn.Conv1d(in_channels=1, out_channels=8, kernel_size=128, stride=2, padding=0, dilation=1), #[batch_size, 32, 329]\n",
    "            torch.nn.ReLU(),\n",
    "            torch.nn.Conv1d(in_channels=8, out_channels=2, kernel_size=83, stride=2, padding=3, dilation=2), #[batch_size, 32, 86]\n",
    "            torch.nn.ReLU()\n",
    "        )\n",
    "\n",
    "        #μ\n",
    "        self.mu = torch.nn.Linear(in_features=2*86, out_features=self.latent_space_dims)\n",
    "        #σ\n",
    "        self.sigma = torch.nn.Linear(in_features=2*86, out_features=self.latent_space_dims)\n",
    "\n",
    "        #Decoder\n",
    "        self.decoder = torch.nn.Sequential(\n",
    "            torch.nn.ConvTranspose1d(in_channels=1, out_channels=2, kernel_size =83, stride=2, padding=3, output_padding=0, dilation=2), #[batch_size, 2, 189]\n",
    "            torch.nn.ReLU(),\n",
    "            torch.nn.ConvTranspose1d(in_channels=2, out_channels=4, kernel_size = 128, stride=2, padding=0, output_padding=0, dilation=1), #[batch_size, 4, 504]\n",
    "            torch.nn.ReLU(),\n",
    "            torch.nn.ConvTranspose1d(in_channels=4, out_channels=1, kernel_size = 57, stride=1, padding=0, output_padding=0, dilation=5),            # [batch_size, 1, self.channels*self.width*self.height]\n",
    "\n",
    "            #At this point the range of the output value is unbound. Let's use Maps the value to the range [0,1] which is expected for colors\n",
    "            torch.nn.Sigmoid()\n",
    "        )\n",
    "        return\n",
    "\n",
    "    def getKLdiv(self):\n",
    "        return self.KL_div\n",
    "    \n",
    "    def forward(self, x):\n",
    "        x = torch.reshape(x, (-1, 1, self.channels*self.width*self.height))\n",
    "        #Feed-forward through the encoder\n",
    "        result = self.encoder(x)\n",
    "        \n",
    "        #Sample z using the Gaussian distribution\n",
    "        result = torch.reshape(result, (-1, 2*86))\n",
    "\n",
    "        mu = self.mu(result)\n",
    "        sigma = torch.exp(self.sigma(result)) #self.sigma(.) can return negative values. We add the exponent to keep the values positive. Otherwise, what is the meaning of having negative standard deviation σ?\n",
    "        z = mu + sigma*self.unit_gaussian_distribution.sample(mu.shape)\n",
    "\n",
    "        #Feed-forward through the decoder\n",
    "        z = torch.reshape(z, (-1, 1, 16))\n",
    "        result = self.decoder(z)\n",
    "        result = torch.reshape(result, (-1, self.channels, self.width, self.height))\n",
    "\n",
    "        #Calculate the closed form KL divergence between 2 Gaussians; you want the learnt (μ,σ) to resemble a zero-mean Gaussian distribution with standard deviation of 1.0\n",
    "        self.KL_div = torch.sum(-torch.log(sigma) + mu**2 + sigma**2 - 0.5)\n",
    "\n",
    "        return result"
   ]
  },
  {
   "cell_type": "code",
   "execution_count": 7,
   "metadata": {
    "pycharm": {
     "name": "#%%\n"
    }
   },
   "outputs": [
    {
     "name": "stdout",
     "output_type": "stream",
     "text": [
      "GPU devices found: 1\n",
      "Device: cuda\n"
     ]
    }
   ],
   "source": [
    "#We'll use GPU is available; check if a GPU is available\n",
    "print(f'GPU devices found: {torch.cuda.device_count()}')\n",
    "device = torch.device(\"cuda\" if torch.cuda.is_available() else \"cpu\")\n",
    "print(f'Device: {device}')"
   ]
  },
  {
   "cell_type": "code",
   "execution_count": 8,
   "metadata": {
    "pycharm": {
     "name": "#%%\n"
    }
   },
   "outputs": [
    {
     "name": "stdout",
     "output_type": "stream",
     "text": [
      "MyAutoencoder(\n",
      "  (encoder): Sequential(\n",
      "    (0): Conv1d(1, 8, kernel_size=(128,), stride=(2,))\n",
      "    (1): ReLU()\n",
      "    (2): Conv1d(8, 2, kernel_size=(83,), stride=(2,), padding=(3,), dilation=(2,))\n",
      "    (3): ReLU()\n",
      "  )\n",
      "  (mu): Linear(in_features=172, out_features=16, bias=True)\n",
      "  (sigma): Linear(in_features=172, out_features=16, bias=True)\n",
      "  (decoder): Sequential(\n",
      "    (0): ConvTranspose1d(1, 2, kernel_size=(83,), stride=(2,), padding=(3,), dilation=(2,))\n",
      "    (1): ReLU()\n",
      "    (2): ConvTranspose1d(2, 4, kernel_size=(128,), stride=(2,))\n",
      "    (3): ReLU()\n",
      "    (4): ConvTranspose1d(4, 1, kernel_size=(57,), stride=(1,), dilation=(5,))\n",
      "    (5): Sigmoid()\n",
      "  )\n",
      ")\n"
     ]
    }
   ],
   "source": [
    "#Create an instance of the model and print; it should display all the layers and their related information\n",
    "model = MyAutoencoder(CHANNELS, WIDTH, HEIGHT).to(device)\n",
    "print(model)"
   ]
  },
  {
   "cell_type": "code",
   "execution_count": 9,
   "metadata": {
    "pycharm": {
     "name": "#%%\n"
    }
   },
   "outputs": [
    {
     "name": "stdout",
     "output_type": "stream",
     "text": [
      "torch.Size([1, 28, 28])\n"
     ]
    },
    {
     "data": {
      "text/plain": "tensor([[[[0.5063, 0.5063, 0.5063, 0.5063, 0.5063, 0.5057, 0.5057, 0.5058,\n           0.5057, 0.5058, 0.5056, 0.5059, 0.5057, 0.5059, 0.5057, 0.5053,\n           0.5052, 0.5051, 0.5053, 0.5049, 0.5043, 0.5047, 0.5048, 0.5050,\n           0.5043, 0.5053, 0.5047, 0.5049],\n          [0.5051, 0.5049, 0.5044, 0.5043, 0.5047, 0.5047, 0.5032, 0.5051,\n           0.5039, 0.5047, 0.5055, 0.5044, 0.5052, 0.5050, 0.5054, 0.5054,\n           0.5043, 0.5050, 0.5050, 0.5052, 0.5051, 0.5052, 0.5056, 0.5050,\n           0.5058, 0.5057, 0.5043, 0.5050],\n          [0.5060, 0.5053, 0.5054, 0.5054, 0.5043, 0.5060, 0.5056, 0.5052,\n           0.5032, 0.5062, 0.5042, 0.5054, 0.5047, 0.5051, 0.5040, 0.5048,\n           0.5043, 0.5040, 0.5064, 0.5054, 0.5038, 0.5058, 0.5052, 0.5044,\n           0.5052, 0.5023, 0.5037, 0.5047],\n          [0.5056, 0.5057, 0.5031, 0.5066, 0.5045, 0.5083, 0.5036, 0.5060,\n           0.5056, 0.5045, 0.5038, 0.5034, 0.5019, 0.5059, 0.5074, 0.5080,\n           0.5043, 0.5062, 0.5067, 0.5060, 0.5057, 0.5041, 0.5073, 0.5065,\n           0.5060, 0.5023, 0.5020, 0.5067],\n          [0.5066, 0.5078, 0.5067, 0.5073, 0.5082, 0.5076, 0.5040, 0.5042,\n           0.5061, 0.5065, 0.5065, 0.5071, 0.5052, 0.5075, 0.5046, 0.5057,\n           0.5073, 0.5076, 0.5110, 0.5089, 0.5051, 0.5015, 0.5052, 0.5065,\n           0.5070, 0.5035, 0.5076, 0.5092],\n          [0.5066, 0.5073, 0.5045, 0.5059, 0.5049, 0.5087, 0.5047, 0.5074,\n           0.5037, 0.5094, 0.5055, 0.5090, 0.5081, 0.5078, 0.5101, 0.5087,\n           0.5080, 0.5059, 0.5099, 0.5075, 0.5076, 0.5048, 0.5076, 0.5092,\n           0.5045, 0.5035, 0.5081, 0.5097],\n          [0.5094, 0.5100, 0.5050, 0.5087, 0.5053, 0.5065, 0.5001, 0.5105,\n           0.5032, 0.5086, 0.5080, 0.5082, 0.5082, 0.5106, 0.5062, 0.5043,\n           0.5095, 0.5037, 0.5056, 0.5046, 0.5074, 0.5022, 0.5074, 0.5079,\n           0.5051, 0.5060, 0.5045, 0.5106],\n          [0.5076, 0.5056, 0.5024, 0.5121, 0.5006, 0.5089, 0.5010, 0.5101,\n           0.5036, 0.5101, 0.5056, 0.5102, 0.5077, 0.5066, 0.5060, 0.5063,\n           0.5082, 0.5043, 0.5130, 0.5060, 0.5097, 0.5032, 0.5080, 0.5115,\n           0.5078, 0.5061, 0.5064, 0.5074],\n          [0.5010, 0.5100, 0.5062, 0.5157, 0.5039, 0.5127, 0.5026, 0.5104,\n           0.5069, 0.5142, 0.5085, 0.5104, 0.5119, 0.5107, 0.5019, 0.5070,\n           0.5110, 0.5078, 0.5096, 0.5090, 0.5138, 0.5075, 0.5130, 0.5092,\n           0.5040, 0.5050, 0.5067, 0.5177],\n          [0.5038, 0.5130, 0.5083, 0.5174, 0.5068, 0.5121, 0.5056, 0.5171,\n           0.5026, 0.5119, 0.5043, 0.5073, 0.5127, 0.5047, 0.5027, 0.5114,\n           0.5097, 0.5075, 0.5144, 0.5116, 0.5105, 0.5027, 0.5099, 0.5134,\n           0.5058, 0.5078, 0.5121, 0.5193],\n          [0.5046, 0.5051, 0.5041, 0.5143, 0.5079, 0.5085, 0.5110, 0.5130,\n           0.5056, 0.5101, 0.5026, 0.5100, 0.5133, 0.5103, 0.5090, 0.5105,\n           0.5116, 0.5065, 0.5117, 0.5084, 0.5105, 0.5093, 0.5127, 0.5139,\n           0.5022, 0.5074, 0.5128, 0.5150],\n          [0.5117, 0.5117, 0.5093, 0.5174, 0.5034, 0.5076, 0.5043, 0.5113,\n           0.5095, 0.5072, 0.5078, 0.5108, 0.5080, 0.5125, 0.5061, 0.5106,\n           0.5111, 0.5068, 0.5060, 0.5142, 0.5095, 0.5044, 0.5104, 0.5201,\n           0.5126, 0.5123, 0.5162, 0.5134],\n          [0.5069, 0.5087, 0.5115, 0.5103, 0.5101, 0.5086, 0.5046, 0.5135,\n           0.4984, 0.5083, 0.5082, 0.5106, 0.5127, 0.5116, 0.5030, 0.5213,\n           0.5041, 0.5062, 0.5157, 0.5089, 0.5098, 0.5081, 0.5175, 0.5206,\n           0.5088, 0.5090, 0.5156, 0.5119],\n          [0.5100, 0.5072, 0.5125, 0.5122, 0.5041, 0.5121, 0.5063, 0.5089,\n           0.5036, 0.5160, 0.5017, 0.5165, 0.5085, 0.5075, 0.5051, 0.5113,\n           0.5089, 0.5094, 0.5115, 0.5195, 0.5126, 0.5072, 0.5167, 0.5139,\n           0.5051, 0.5123, 0.5140, 0.5193],\n          [0.5114, 0.5031, 0.5094, 0.5132, 0.5078, 0.5111, 0.5097, 0.5148,\n           0.5064, 0.5080, 0.5012, 0.5145, 0.5096, 0.5107, 0.5095, 0.5183,\n           0.5071, 0.5051, 0.5129, 0.5178, 0.5151, 0.5065, 0.5191, 0.5095,\n           0.5083, 0.5125, 0.5119, 0.5154],\n          [0.5116, 0.5021, 0.5122, 0.5130, 0.5068, 0.5138, 0.5078, 0.5146,\n           0.5054, 0.5104, 0.5065, 0.5122, 0.5037, 0.5114, 0.5108, 0.5177,\n           0.5117, 0.5051, 0.5183, 0.5061, 0.5103, 0.5070, 0.5157, 0.5121,\n           0.5105, 0.5051, 0.5131, 0.5092],\n          [0.5110, 0.5171, 0.5049, 0.5134, 0.5102, 0.5083, 0.5112, 0.5191,\n           0.5072, 0.5139, 0.5051, 0.5124, 0.5082, 0.5067, 0.5120, 0.5150,\n           0.5082, 0.5082, 0.5115, 0.5036, 0.5121, 0.5032, 0.5116, 0.5107,\n           0.5128, 0.5145, 0.5116, 0.5111],\n          [0.5139, 0.5063, 0.5090, 0.5193, 0.5089, 0.5136, 0.5108, 0.5180,\n           0.5063, 0.5102, 0.5123, 0.5169, 0.5085, 0.5058, 0.5108, 0.5110,\n           0.5089, 0.5083, 0.5071, 0.5122, 0.5096, 0.5061, 0.5152, 0.5077,\n           0.5111, 0.5118, 0.5090, 0.5192],\n          [0.5141, 0.5041, 0.5129, 0.5167, 0.5030, 0.5128, 0.5094, 0.5176,\n           0.5140, 0.5079, 0.5109, 0.5131, 0.5051, 0.5095, 0.5106, 0.5104,\n           0.5154, 0.5098, 0.5071, 0.5113, 0.5037, 0.5087, 0.5108, 0.5111,\n           0.5153, 0.5096, 0.5158, 0.5194],\n          [0.5089, 0.5105, 0.5110, 0.5140, 0.5132, 0.5100, 0.5161, 0.5169,\n           0.5086, 0.5143, 0.5099, 0.5068, 0.5126, 0.5076, 0.5099, 0.5099,\n           0.5064, 0.5098, 0.5113, 0.5105, 0.5102, 0.5062, 0.5099, 0.5141,\n           0.5081, 0.5084, 0.5119, 0.5135],\n          [0.5135, 0.5077, 0.5120, 0.5150, 0.5048, 0.5119, 0.5099, 0.5117,\n           0.5135, 0.5110, 0.5140, 0.5108, 0.5034, 0.5061, 0.5113, 0.5105,\n           0.5141, 0.5095, 0.5096, 0.5119, 0.5085, 0.5068, 0.5109, 0.5107,\n           0.5104, 0.5054, 0.5074, 0.5141],\n          [0.5117, 0.5050, 0.5145, 0.5078, 0.5076, 0.5117, 0.5112, 0.5061,\n           0.5107, 0.5086, 0.5120, 0.5139, 0.5102, 0.5066, 0.5111, 0.5107,\n           0.5100, 0.5057, 0.5065, 0.5136, 0.5094, 0.5040, 0.5139, 0.5111,\n           0.5065, 0.5077, 0.5092, 0.5099],\n          [0.5145, 0.5026, 0.5162, 0.5075, 0.5063, 0.5090, 0.5100, 0.5086,\n           0.5087, 0.5076, 0.5077, 0.5118, 0.5074, 0.5086, 0.5074, 0.5089,\n           0.5110, 0.5048, 0.5084, 0.5131, 0.5082, 0.5032, 0.5140, 0.5034,\n           0.5083, 0.5075, 0.5125, 0.5070],\n          [0.5070, 0.5083, 0.5130, 0.5088, 0.5106, 0.5071, 0.5089, 0.5107,\n           0.5065, 0.5065, 0.5072, 0.5096, 0.5057, 0.5068, 0.5092, 0.5087,\n           0.5090, 0.5039, 0.5119, 0.5048, 0.5072, 0.5047, 0.5103, 0.5082,\n           0.5074, 0.5059, 0.5116, 0.5091],\n          [0.5079, 0.5091, 0.5076, 0.5085, 0.5105, 0.5085, 0.5088, 0.5106,\n           0.5092, 0.5070, 0.5096, 0.5098, 0.5082, 0.5065, 0.5093, 0.5082,\n           0.5077, 0.5074, 0.5106, 0.5079, 0.5082, 0.5067, 0.5094, 0.5077,\n           0.5087, 0.5094, 0.5073, 0.5094],\n          [0.5081, 0.5079, 0.5100, 0.5086, 0.5094, 0.5104, 0.5088, 0.5099,\n           0.5102, 0.5066, 0.5098, 0.5086, 0.5073, 0.5073, 0.5094, 0.5076,\n           0.5086, 0.5077, 0.5089, 0.5080, 0.5068, 0.5077, 0.5082, 0.5067,\n           0.5080, 0.5076, 0.5072, 0.5083],\n          [0.5081, 0.5074, 0.5086, 0.5081, 0.5083, 0.5077, 0.5080, 0.5081,\n           0.5079, 0.5072, 0.5084, 0.5066, 0.5067, 0.5065, 0.5070, 0.5062,\n           0.5059, 0.5060, 0.5063, 0.5062, 0.5059, 0.5064, 0.5058, 0.5061,\n           0.5062, 0.5056, 0.5064, 0.5065],\n          [0.5063, 0.5060, 0.5064, 0.5065, 0.5068, 0.5063, 0.5067, 0.5067,\n           0.5069, 0.5074, 0.5074, 0.5074, 0.5074, 0.5072, 0.5069, 0.5071,\n           0.5071, 0.5070, 0.5064, 0.5064, 0.5064, 0.5063, 0.5064, 0.5056,\n           0.5057, 0.5056, 0.5057, 0.5056]]]], device='cuda:0',\n       grad_fn=<ReshapeAliasBackward0>)"
     },
     "execution_count": 9,
     "metadata": {},
     "output_type": "execute_result"
    }
   ],
   "source": [
    "#SANITY CHECK: Feed forward an image and check for errors\n",
    "#Pull the first image from the training images, and convert to a float tensor\n",
    "img = torch.from_numpy(training_images[0]).float()\n",
    "print(img.shape)\n",
    "\n",
    "#The input to the autoencoder is [batch_size, 3, 32, 32]; convert the image's shape [3,32,32] to [1,3,32,32] and push to device\n",
    "img = torch.reshape(img, (1, CHANNELS, WIDTH, HEIGHT)).to(device)\n",
    "\n",
    "#feed forward the image to the network and make sure it works with no errors\n",
    "model.forward(img)"
   ]
  },
  {
   "cell_type": "code",
   "execution_count": 11,
   "metadata": {
    "pycharm": {
     "name": "#%%\n"
    }
   },
   "outputs": [],
   "source": [
    "#Switch to 0; otherwise it will load the saved weights\n",
    "if 1:\n",
    "    model.load_state_dict(torch.load(\"trained_weights_MNIST.save\"))\n",
    "    model.eval()"
   ]
  },
  {
   "cell_type": "code",
   "execution_count": 13,
   "metadata": {
    "pycharm": {
     "name": "#%%\n"
    }
   },
   "outputs": [
    {
     "name": "stderr",
     "output_type": "stream",
     "text": [
      "loss: 6445.55224609: 100%|████████████████████████████████████████| 100/100 [06:05<00:00,  3.65s/it]"
     ]
    },
    {
     "name": "stdout",
     "output_type": "stream",
     "text": [
      "Final loss on training: 6445.55224609\n"
     ]
    },
    {
     "name": "stderr",
     "output_type": "stream",
     "text": [
      "\n"
     ]
    }
   ],
   "source": [
    "#TRAINING\n",
    "\n",
    "#define the hyperparameters\n",
    "BATCH_SIZE = 100\n",
    "EPOCHS=100\n",
    "LEARNING_RATE=0.0000001\n",
    "\n",
    "\n",
    "#Create an optimizer and pass the model's parameters\n",
    "optimizer = torch.optim.SGD(model.parameters(), lr=LEARNING_RATE)\n",
    "\n",
    "#Define a loss function; we'll pick mean squared error since we are reconstructing the original\n",
    "loss_function = torch.nn.MSELoss(reduction='sum')\n",
    "\n",
    "#training image indices; [0, 1, 2, 3 ....., 49999]\n",
    "training_dataset_indices = torch.arange(0, len(training_dataset))\n",
    "\n",
    "#keep track of the losses for plotting at the end\n",
    "losses = list()\n",
    "\n",
    "#Create a progress bar the size of the number of epochs\n",
    "status_bar = tqdm.tqdm(range(EPOCHS), ncols=100, desc='loss: ')\n",
    "for i in status_bar:\n",
    "    #At each iteration, perform a permutation of the training_dataset_indices; this ensures that we will use all images and avoid duplication\n",
    "    random_permutation = torch.randperm(training_dataset_indices.size()[0])\n",
    "\n",
    "    #Get BATCH_SIZE number of training images at each epoch; because we sample from an array there will be no duplicates\n",
    "    loss = None\n",
    "    for b in range(0,training_dataset_indices.size()[0], BATCH_SIZE):\n",
    "        #Zero out the gradients\n",
    "        optimizer.zero_grad()\n",
    "\n",
    "        #Get the indices of the training images in this batch\n",
    "        batch_indices = random_permutation[b:b+BATCH_SIZE]\n",
    "        #we only need to get the images; the labels are irrelevant in the context of an autoencoder\n",
    "        batch_images = training_images[batch_indices]\n",
    "        #convert to float tensors and push to device\n",
    "        batch_images = torch.from_numpy(batch_images).float().to(device)\n",
    "\n",
    "        #feed forward through the network's layers and get the reconstruction\n",
    "        reconstructions = model.forward(batch_images)\n",
    "        \n",
    "        #Calculate the MSE between the reconstructions and the input images plus the KL divergence of the learnt distribution from a zero-mean Gaussian of standard deviation of 1.0; the optimal value for this loss is 0\n",
    "        loss = loss_function(reconstructions, batch_images) + model.getKLdiv()\n",
    "\n",
    "        #keep track of the losses per batch, per epoch it to the list; used for plotting later on\n",
    "        losses.append(loss.item())\n",
    "        \n",
    "        #backpropagate gradients\n",
    "        loss.backward()\n",
    "        #single gradient descent step; update all network parameters based on the gradient\n",
    "        optimizer.step()\n",
    "    \n",
    "    #After every epoch update the loss function\n",
    "    status_bar.set_description(f'loss: {loss.item():.8f}')\n",
    "\n",
    "#Output the final loss on the training dataset\n",
    "print(f'Final loss on training: {loss.item():.8f}')"
   ]
  },
  {
   "cell_type": "code",
   "execution_count": 14,
   "metadata": {
    "pycharm": {
     "name": "#%%\n"
    }
   },
   "outputs": [],
   "source": [
    "#Switch to 0, otherwise it will overwrite the saved weights\n",
    "if 1:\n",
    "    torch.save(model.state_dict(), \"trained_weights_MNIST.save\")"
   ]
  },
  {
   "cell_type": "code",
   "execution_count": 15,
   "metadata": {
    "pycharm": {
     "name": "#%%\n"
    }
   },
   "outputs": [
    {
     "data": {
      "text/plain": "<Figure size 432x288 with 1 Axes>",
      "image/png": "[encoded data removed]"
     },
     "metadata": {
      "needs_background": "light"
     },
     "output_type": "display_data"
    }
   ],
   "source": [
    "#Plot the loss as a function of epochs\n",
    "fig, ax = plt.subplots(1,1)\n",
    "ax.plot(list(range(EPOCHS*int(len(training_dataset)/BATCH_SIZE))), np.array(losses))\n",
    "ax.set_title('Loss on training dataset')\n",
    "ax.set_xlabel('epoch')\n",
    "ax.set_ylabel('MSE')\n",
    "plt.show()\n",
    "fig.savefig(\"vae_loss_MNIST.png\")"
   ]
  },
  {
   "cell_type": "code",
   "execution_count": 16,
   "metadata": {
    "pycharm": {
     "name": "#%%\n"
    }
   },
   "outputs": [
    {
     "name": "stdout",
     "output_type": "stream",
     "text": [
      "MSE loss on testing: 565278.25000000\n"
     ]
    }
   ],
   "source": [
    "with torch.no_grad():\n",
    "    #Calculate MSE on the testing dataset; convert to float tensors and push to device; I'm passing all the images together since it fits in the GPU\n",
    "    testing_images_ = torch.from_numpy(testing_images).float().reshape( (len(testing_images), CHANNELS, WIDTH, HEIGHT) ).to(device)\n",
    "    #get the reconstructions\n",
    "    reconstructions = model.forward(testing_images_)\n",
    "    testing_loss = loss_function(reconstructions, testing_images_).item()\n",
    "    #Output the MSE loss\n",
    "    print(f'MSE loss on testing: {testing_loss:.8f}')"
   ]
  },
  {
   "cell_type": "code",
   "execution_count": 17,
   "metadata": {
    "pycharm": {
     "name": "#%%\n"
    }
   },
   "outputs": [
    {
     "data": {
      "text/plain": "<Figure size 432x2160 with 20 Axes>",
      "image/png": "[encoded data removed]"
     },
     "metadata": {
      "needs_background": "light"
     },
     "output_type": "display_data"
    }
   ],
   "source": [
    "#Plot a couple of examples\n",
    "cols, rows = 2, 10\n",
    "image_counter = 1\n",
    "figure = plt.figure(figsize=(3*cols, 3*rows))\n",
    "for i in range(10):\n",
    "    #get a random index\n",
    "    rand_index = random.randint(0, len(testing_images_))\n",
    "    #get the original image, pull back to cpu and convert to numpy\n",
    "    original_img = (testing_images_[rand_index].permute(1,2,0).cpu().detach()).numpy()\n",
    "    #get the reconstructed image, pull back to cpu and convert to numpy\n",
    "    reconstructed_img = (reconstructions[rand_index].permute(1,2,0).cpu().detach()).numpy()\n",
    "\n",
    "    #Add a figure for the original image\n",
    "    figure.add_subplot(rows, cols, image_counter)\n",
    "    plt.axis(\"off\")\n",
    "    plt.imshow(original_img)\n",
    "    image_counter+=1\n",
    "\n",
    "    #Add a figure for the reconstructed image\n",
    "    figure.add_subplot(rows, cols, image_counter)\n",
    "    plt.axis(\"off\")\n",
    "    plt.imshow(reconstructed_img)\n",
    "    image_counter+=1\n",
    "\n",
    "plt.show()\n",
    "figure.savefig(\"vae_reconstruction_MNIST.png\")"
   ]
  },
  {
   "cell_type": "code",
   "execution_count": null,
   "metadata": {
    "pycharm": {
     "name": "#%%\n",
     "is_executing": true
    }
   },
   "outputs": [],
   "source": []
  }
 ],
 "metadata": {
  "kernelspec": {
   "display_name": "Python 3 (ipykernel)",
   "language": "python",
   "name": "python3"
  },
  "language_info": {
   "codemirror_mode": {
    "name": "ipython",
    "version": 3
   },
   "file_extension": ".py",
   "mimetype": "text/x-python",
   "name": "python",
   "nbconvert_exporter": "python",
   "pygments_lexer": "ipython3",
   "version": "3.9.7"
  }
 },
 "nbformat": 4,
 "nbformat_minor": 1
}