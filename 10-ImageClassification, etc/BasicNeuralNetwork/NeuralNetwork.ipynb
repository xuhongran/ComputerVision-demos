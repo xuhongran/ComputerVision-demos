{
 "cells": [
  {
   "cell_type": "code",
   "execution_count": null,
   "outputs": [],
   "source": [
    "#     This program is free software: you can redistribute it and/or modify\n",
    "#     it under the terms of the GNU General Public License as published by\n",
    "#     the Free Software Foundation, either version 3 of the License, or\n",
    "#     (at your option) any later version.\n",
    "#\n",
    "#     This program is distributed in the hope that it will be useful,\n",
    "#     but WITHOUT ANY WARRANTY; without even the implied warranty of\n",
    "#     MERCHANTABILITY or FITNESS FOR A PARTICULAR PURPOSE.  See the\n",
    "#     GNU General Public License for more details.\n",
    "#\n",
    "#     You should have received a copy of the GNU General Public License\n",
    "#     along with this program.  If not, see <https://www.gnu.org/licenses/>.\n",
    "\n",
    "#     Written by Charalambos (Charis) Poullis - www.poullis.org"
   ],
   "metadata": {
    "collapsed": false,
    "pycharm": {
     "name": "#%%\n",
     "is_executing": true
    }
   }
  },
  {
   "cell_type": "code",
   "execution_count": 2,
   "outputs": [],
   "source": [
    "#Import all necessary libraries\n",
    "import torch\n",
    "import torchvision\n",
    "import numpy as np\n",
    "#progress bar functionality\n",
    "import tqdm\n",
    "#plotting etc\n",
    "import matplotlib\n",
    "\n",
    "import matplotlib.pyplot as plt\n",
    "#random number generator\n",
    "import random\n",
    "\n",
    "# There is a weird crash in Python 3.9 causing the kernel to restart when using matplotlib\n",
    "# To test if you have the same issue uncomment the following command. If it works, then you don't need the subsequent 2 lines (import os, KMP)\n",
    "#plt.subplot()\n",
    "import os\n",
    "os.environ[\"KMP_DUPLICATE_LIB_OK\"]=\"TRUE\""
   ],
   "metadata": {
    "collapsed": false,
    "pycharm": {
     "name": "#%%\n"
    }
   }
  },
  {
   "cell_type": "code",
   "execution_count": 3,
   "id": "7944584b-738e-4b1d-82f6-cf01873339b0",
   "metadata": {},
   "outputs": [
    {
     "name": "stdout",
     "output_type": "stream",
     "text": [
      "Files already downloaded and verified\n",
      "Training dataset: Dataset CIFAR10\n",
      "    Number of datapoints: 50000\n",
      "    Root location: ../data\n",
      "    Split: Train\n",
      "    StandardTransform\n",
      "Transform: ToTensor()\n",
      "Files already downloaded and verified\n",
      "Testing dataset: Dataset CIFAR10\n",
      "    Number of datapoints: 10000\n",
      "    Root location: ../data\n",
      "    Split: Test\n",
      "    StandardTransform\n",
      "Transform: ToTensor()\n"
     ]
    }
   ],
   "source": [
    "#Set the path for the datasets\n",
    "DATASET_PATH = \"../data\"\n",
    "\n",
    "#Download the training dataset: CIFAR10\n",
    "training_dataset = torchvision.datasets.CIFAR10(root=DATASET_PATH,\n",
    "                                                train=True,\n",
    "                                                download=True,\n",
    "                                                transform=torchvision.transforms.ToTensor())\n",
    "print('Training dataset:', training_dataset)\n",
    "\n",
    "#Download the testing dataset: CIFAR10\n",
    "testing_dataset = torchvision.datasets.CIFAR10(root=DATASET_PATH,\n",
    "                                               train=False,\n",
    "                                               download=True,\n",
    "                                               transform=torchvision.transforms.ToTensor())\n",
    "print('Testing dataset:', testing_dataset)  \n",
    "\n",
    "#Create a list with user-friendly names for each label\n",
    "labels=[\"airplane\", \"automobile\", \"bird\", \"cat\", \"deer\", \"dog\", \"frog\", \"horse\", \"ship\", \"truck\"]"
   ]
  },
  {
   "cell_type": "code",
   "execution_count": 4,
   "id": "bfdeea98-a670-4bb0-ae6d-8cf88aaa8adb",
   "metadata": {},
   "outputs": [],
   "source": [
    "#This function takes a CIFAR dataset and splits it into two numpy arrays containing\n",
    "#the images and labels, respectively\n",
    "\n",
    "def splitDataset(dataset):\n",
    "    #Divide the datasets into images and labels\n",
    "    x, y = dataset[0]\n",
    "    \n",
    "    shape = [(i, *j) for i, j in [(len(dataset), x.shape)]][0]\n",
    "    images = np.zeros(shape)\n",
    "    labels = np.zeros((len(dataset), 1))\n",
    "    \n",
    "    for i in range(len(dataset)):\n",
    "        x,y = dataset[i]\n",
    "        images[i] = x\n",
    "        labels[i] = y\n",
    "        \n",
    "    images = np.reshape(images, (len(dataset), 3, 32, 32))\n",
    "    labels = np.reshape(labels, (len(dataset), 1))\n",
    "    return images, labels"
   ]
  },
  {
   "cell_type": "code",
   "execution_count": 5,
   "id": "49883c91-466a-45f3-8ea4-ca7d2bb6e9cc",
   "metadata": {},
   "outputs": [
    {
     "name": "stdout",
     "output_type": "stream",
     "text": [
      "Training images: 50000, Training labels: 50000\n",
      "Testing images: 10000, Testing labels: 10000\n"
     ]
    }
   ],
   "source": [
    "#Divide the training datasets into images and labels; this is needed later to randomly index from the arrays\n",
    "training_images, training_labels = splitDataset(training_dataset)\n",
    "#Do the same for the testing dataset\n",
    "testing_images, testing_labels = splitDataset(testing_dataset)   \n",
    "\n",
    "print(f'Training images: {len(training_images)}, Training labels: {len(training_labels)}')\n",
    "print(f'Testing images: {len(testing_images)}, Testing labels: {len(testing_labels)}')"
   ]
  },
  {
   "cell_type": "code",
   "execution_count": 6,
   "id": "571fe246",
   "metadata": {
    "pycharm": {
     "name": "#%%\n"
    }
   },
   "outputs": [
    {
     "name": "stdout",
     "output_type": "stream",
     "text": [
      "GPU devices found: 1\n",
      "Device: cuda\n"
     ]
    }
   ],
   "source": [
    "#We'll use GPU is available; check if a GPU is available\n",
    "print(f'GPU devices found: {torch.cuda.device_count()}')\n",
    "device = torch.device(\"cuda\" if torch.cuda.is_available() else \"cpu\")\n",
    "print(f'Device: {device}')"
   ]
  },
  {
   "cell_type": "code",
   "execution_count": 33,
   "id": "0c5dfc97-39ed-4582-b744-a495ae70e582",
   "metadata": {},
   "outputs": [],
   "source": [
    "#Define the linear classifier; it has a number of linear layers, each one performing the linear operation Wx + b\n",
    "class MyNN (torch.nn.Module):\n",
    "    def __init__(self, input_channels, number_of_classes):\n",
    "        super(MyNN, self).__init__()\n",
    "        \n",
    "        #Save the input channels and number of classes\n",
    "        self.input_channels = input_channels\n",
    "        self.number_of_classes = number_of_classes\n",
    "        \n",
    "        #Define the input channels for each layer; adjust this list to change the number of layers and sizes\n",
    "        self.layer_sizes = [input_channels, 1000, 500, number_of_classes]\n",
    "        \n",
    "        #This list will keep each layer of the model\n",
    "        self.layers = torch.nn.ModuleList()\n",
    "        \n",
    "        for i in range(len(self.layer_sizes)-1):\n",
    "            in_features = self.layer_sizes[i]\n",
    "            out_features = self.layer_sizes[i + 1]\n",
    "            self.layers.append(torch.nn.Linear(in_features=in_features, out_features=out_features))\n",
    "            if i+1 != len(self.layer_sizes)-1:\n",
    "                self.layers.append(torch.nn.ReLU())\n",
    "\n",
    "        #initialize the weights\n",
    "        for i in range(len(self.layers)):\n",
    "            if torch.is_tensor(self.layers[i]):\n",
    "                if torch.is_tensor(self.layers[i].weight):\n",
    "                    torch.nn.init.xavier_uniform_(self.layers[i].weight)\n",
    "                if torch.is_tensor(self.layers[i].bias):\n",
    "                    torch.nn.init.constant_(self.layers[i].bias.data, 0.01)\n",
    "\n",
    "        #unpack the layers and create a sequential\n",
    "        self.layers = torch.nn.Sequential(*self.layers)\n",
    "\n",
    "        return\n",
    "    \n",
    "    def forward(self, x):\n",
    "        result = x.reshape((-1, self.input_channels))\n",
    "        return self.layers(result)"
   ]
  },
  {
   "cell_type": "code",
   "execution_count": 34,
   "id": "1b72402c-a21f-4d52-aee5-e13a3d4d1584",
   "metadata": {},
   "outputs": [
    {
     "name": "stdout",
     "output_type": "stream",
     "text": [
      "MyNN(\n",
      "  (layers): ModuleList(\n",
      "    (0): Linear(in_features=3072, out_features=1000, bias=True)\n",
      "    (1): ReLU()\n",
      "    (2): Linear(in_features=1000, out_features=500, bias=True)\n",
      "    (3): ReLU()\n",
      "    (4): Linear(in_features=500, out_features=10, bias=True)\n",
      "    (5): Softmax(dim=0)\n",
      "  )\n",
      ")\n"
     ]
    }
   ],
   "source": [
    "#Calculate the input channels; check the size of the first image\n",
    "img, label = training_dataset[0]\n",
    "image_size = img.shape[0]*img.shape[1]*img.shape[2]\n",
    "\n",
    "#Create an instance of the model and print; it should display all the layers and their related information; push to the device\n",
    "NUMBER_OF_CLASSES = 10\n",
    "model = MyNN(image_size, NUMBER_OF_CLASSES).to(device)\n",
    "print(model)"
   ]
  },
  {
   "cell_type": "code",
   "execution_count": 35,
   "id": "f22e9a59-8353-401e-94b5-190d9e6aef09",
   "metadata": {},
   "outputs": [
    {
     "data": {
      "text/plain": "tensor([[1., 1., 1., 1., 1., 1., 1., 1., 1., 1.]], device='cuda:0',\n       grad_fn=<SoftmaxBackward0>)"
     },
     "execution_count": 35,
     "metadata": {},
     "output_type": "execute_result"
    }
   ],
   "source": [
    "#SANITY CHECK: Feed forward an image and check for errors\n",
    "#Push the image to the device\n",
    "img = img.to(device)\n",
    "model.forward(img)"
   ]
  },
  {
   "cell_type": "code",
   "execution_count": 36,
   "outputs": [],
   "source": [
    "#Switch to 0; otherwise it will load the saved weights\n",
    "if 1:\n",
    "    model.load_state_dict(torch.load(\"trained_weights_nn_CIFAR10.save\"))\n",
    "    model.eval()"
   ],
   "metadata": {
    "collapsed": false,
    "pycharm": {
     "name": "#%%\n"
    }
   }
  },
  {
   "cell_type": "code",
   "execution_count": null,
   "id": "37eef338-d2f9-4cdc-97a7-dade8bc24099",
   "metadata": {
    "pycharm": {
     "is_executing": true
    }
   },
   "outputs": [
    {
     "name": "stderr",
     "output_type": "stream",
     "text": [
      "loss: -1.0:   0%|                                                           | 0/100 [00:00<?, ?it/s]"
     ]
    }
   ],
   "source": [
    "#TRAINING\n",
    "\n",
    "#define the hyperparameters\n",
    "EPOCHS=100\n",
    "LEARNING_RATE=0.0001\n",
    "BATCH_SIZE = 100\n",
    "\n",
    "#Create an optimizer and pass the model's parameters\n",
    "optimizer = torch.optim.SGD(model.parameters(), lr=LEARNING_RATE)\n",
    "\n",
    "#Define a loss function; we'll pick mean squared error since we are reconstructing the original\n",
    "loss_function = torch.nn.CrossEntropyLoss()\n",
    "\n",
    "#training image indices\n",
    "training_dataset_indices = torch.arange(0, len(training_dataset))\n",
    "\n",
    "#keep track of the losses\n",
    "losses = list()\n",
    "\n",
    "#Create a progress bar the size of the number of epochs\n",
    "status_bar = tqdm.tqdm(range(EPOCHS), ncols=100, desc='loss: -1.0')\n",
    "for i in status_bar:\n",
    "    #At each iteration, perform a permutation of the training_dataset_indices; this ensures that we will use all images and avoid duplication\n",
    "    random_permutation = torch.randperm(training_dataset_indices.size()[0])\n",
    "\n",
    "    #Get BATCH_SIZE training images at each epoch; because we sample from an array there will be no duplicates\n",
    "    for b in range(0,training_dataset_indices.size()[0], BATCH_SIZE):\n",
    "        #Zero out the gradients\n",
    "        optimizer.zero_grad()\n",
    "\n",
    "        #Get the indices of the training images in this batch\n",
    "        batch_indices = random_permutation[b:b+BATCH_SIZE]\n",
    "        batch_images, batch_labels = training_images[batch_indices], training_labels[batch_indices]\n",
    "        batch_images = torch.from_numpy(batch_images).float().to(device)\n",
    "\n",
    "        #Push the labels to the device\n",
    "        batch_labels = batch_labels.squeeze(1)\n",
    "        batch_labels = torch.from_numpy(batch_labels).long().to(device)\n",
    "\n",
    "        #Get the predictions\n",
    "        predictions = model.forward(batch_images)\n",
    "\n",
    "        #Calculate the cross entropy loss\n",
    "        loss = loss_function(predictions, batch_labels)\n",
    "        \n",
    "        #add it to the list\n",
    "        losses.append(loss.item())\n",
    "        \n",
    "        #backpropagate\n",
    "        loss.backward()\n",
    "        #single gradient descent step\n",
    "        optimizer.step()\n",
    "        \n",
    "    status_bar.set_description(f'loss: {loss.item():.8f}')\n",
    "\n",
    "print(f'Final loss on training: {loss.item():.8f}')"
   ]
  },
  {
   "cell_type": "code",
   "execution_count": 33,
   "outputs": [],
   "source": [
    "#Switch to 0, otherwise it will overwrite the saved weights\n",
    "if 1:\n",
    "    torch.save(model.state_dict(), \"trained_weights_nn_CIFAR10.save\")"
   ],
   "metadata": {
    "collapsed": false,
    "pycharm": {
     "name": "#%%\n"
    }
   }
  },
  {
   "cell_type": "code",
   "execution_count": 34,
   "id": "d5aaf0be-8d1a-4806-9b56-f3c153a19a54",
   "metadata": {
    "pycharm": {
     "name": "#%%\n"
    }
   },
   "outputs": [
    {
     "data": {
      "text/plain": "<Figure size 432x288 with 1 Axes>",
      "image/png": "[encoded data removed]"
     },
     "metadata": {
      "needs_background": "light"
     },
     "output_type": "display_data"
    }
   ],
   "source": [
    "#Plot the loss as a function of epochs\n",
    "fig, ax = plt.subplots(1,1)\n",
    "ax.plot(list(range(EPOCHS*int(len(training_dataset)/BATCH_SIZE))), np.array(losses))\n",
    "ax.set_title('Loss on training dataset')\n",
    "ax.set_xlabel('iterations')\n",
    "ax.set_ylabel('BCE')\n",
    "plt.show()\n",
    "fig.savefig(\"nn_classifier_loss.png\")"
   ]
  },
  {
   "cell_type": "code",
   "execution_count": 35,
   "outputs": [
    {
     "name": "stdout",
     "output_type": "stream",
     "text": [
      "BCE loss on testing: 1.30262017\n"
     ]
    }
   ],
   "source": [
    "with torch.no_grad():\n",
    "    #Calculate BCE on the testing dataset; convert to float tensors and push to device; I'm passing all the images together since it fits in the GPU\n",
    "    testing_images_ = torch.from_numpy(testing_images).float().to(device)\n",
    "    testing_labels_ = torch.from_numpy(testing_labels).squeeze(1).long().to(device)\n",
    "    #get the reconstructions\n",
    "    predictions = model.forward(testing_images_)\n",
    "    testing_loss = loss_function(predictions, testing_labels_).item()\n",
    "    #Output the MSE loss\n",
    "    print(f'BCE loss on testing: {testing_loss:.8f}')"
   ],
   "metadata": {
    "collapsed": false,
    "pycharm": {
     "name": "#%%\n"
    }
   }
  },
  {
   "cell_type": "code",
   "execution_count": 37,
   "outputs": [
    {
     "data": {
      "text/plain": "<Figure size 2160x216 with 10 Axes>",
      "image/png": "[encoded data removed]"
     },
     "metadata": {
      "needs_background": "light"
     },
     "output_type": "display_data"
    }
   ],
   "source": [
    "#Plot a couple of examples\n",
    "cols, rows = 10, 1\n",
    "image_counter = 1\n",
    "figure = plt.figure(figsize=(3*cols, 3*rows))\n",
    "for i in range(10):\n",
    "    #get a random index\n",
    "    rand_index = random.randint(0, len(testing_images))\n",
    "    #get the original image, pull back to cpu and convert to numpy\n",
    "    original_img = testing_images_[rand_index].permute(1,2,0).cpu().detach().numpy()\n",
    "    #get the prediction for the image, pull back to cpu and convert to numpy\n",
    "    label_index = np.argmax(predictions[rand_index].cpu().detach().numpy())\n",
    "\n",
    "    #Add a figure for the original image\n",
    "    figure.add_subplot(rows, cols, image_counter)\n",
    "    plt.axis(\"off\")\n",
    "    plt.title(f'{labels[label_index]} - {labels[testing_labels_[rand_index]]}')\n",
    "    plt.imshow(original_img)\n",
    "    image_counter+=1\n",
    "\n",
    "plt.show()\n",
    "figure.savefig(\"nn_reconstruction.png\")"
   ],
   "metadata": {
    "collapsed": false,
    "pycharm": {
     "name": "#%%\n"
    }
   }
  },
  {
   "cell_type": "code",
   "execution_count": null,
   "outputs": [],
   "source": [],
   "metadata": {
    "collapsed": false,
    "pycharm": {
     "name": "#%%\n"
    }
   }
  }
 ],
 "metadata": {
  "kernelspec": {
   "display_name": "Python 3 (ipykernel)",
   "language": "python",
   "name": "python3"
  },
  "language_info": {
   "codemirror_mode": {
    "name": "ipython",
    "version": 3
   },
   "file_extension": ".py",
   "mimetype": "text/x-python",
   "name": "python",
   "nbconvert_exporter": "python",
   "pygments_lexer": "ipython3",
   "version": "3.8.12"
  }
 },
 "nbformat": 4,
 "nbformat_minor": 5
}